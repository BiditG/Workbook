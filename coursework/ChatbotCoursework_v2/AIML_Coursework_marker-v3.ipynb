{
 "cells": [
  {
   "cell_type": "markdown",
   "metadata": {},
   "source": [
    "# AIML Coursework marker\n",
    "\n",
    "<div class=\"alert alert-block alert-danger\"> <b>REMEMBER:</b> You need to make sure you are running this code within the virtual environment you created using 'AIenv'.<br> In Jupyter click on the kernel menu then change-kernel. In VSCode use the kernel selector in the top-right hand corner </div>"
   ]
  },
  {
   "cell_type": "code",
   "execution_count": null,
   "metadata": {},
   "outputs": [],
   "source": [
    "import AIMLCWMarker_utils.py"
   ]
  },
  {
   "cell_type": "markdown",
   "metadata": {},
   "source": [
    "\n",
    "# Next cell sets up variables\n",
    "- You can change the amount of debugging information printed to screen by setting debug=True\n",
    "- you can change the name of your input file to something other than \"student.aiml\" if you want.\n",
    "- **Dont change anything else**"
   ]
  },
  {
   "cell_type": "code",
   "execution_count": null,
   "metadata": {},
   "outputs": [],
   "source": [
    "debug = False\n",
    "debug2 = False\n",
    "theAIMLfile = 'student.aiml'\n"
   ]
  },
  {
   "cell_type": "markdown",
   "metadata": {},
   "source": [
    "# Read the questions and answer from file, then randomise the order"
   ]
  },
  {
   "cell_type": "code",
   "execution_count": null,
   "metadata": {
    "code_folding": []
   },
   "outputs": [],
   "source": [
    "try:\n",
    "    questions, responses, order = get_qanda()\n",
    "except FileNotFoundError as err:\n",
    "    print('problems reading questions-and-answer file {err}'')\n",
    "    \n",
    "\n",
    "gorder= get_ordder()\n",
    " \n",
    "\n",
    "\n",
    "\n",
    "\n"
   ]
  },
  {
   "cell_type": "markdown",
   "metadata": {},
   "source": [
    "# Create the chatbot"
   ]
  },
  {
   "cell_type": "code",
   "execution_count": null,
   "metadata": {},
   "outputs": [],
   "source": [
    "# Create Chatbot and read the candidate AIML file\n",
    "checkBot = aiml.Kernel()\n",
    "checkBot.verbose(True)"
   ]
  },
  {
   "cell_type": "markdown",
   "metadata": {},
   "source": [
    "## Clear any old categories,  reload the AIML file"
   ]
  },
  {
   "cell_type": "code",
   "execution_count": null,
   "metadata": {},
   "outputs": [],
   "source": [
    "checkBot.resetBrain()\n",
    "\n",
    "checkBot.learn(theAIMLfile)\n",
    "\n",
    "load_failed=False\n",
    "# How many categories were correctly read\n",
    "numCategories = checkBot.numCategories()\n",
    "print( \"After reading your file the bot has {} categories\".format(numCategories))\n",
    "\n",
    "if(numCategories==0):\n",
    "    load_failed=True\n",
    "    with open(feedbackFileName,'w') as feedback_file:\n",
    "        feedback_file.write('<SCORE>0</SCORE>\\n')\n",
    "        \n",
    "        feedback = (\"<MESSAGE>\" \n",
    "                    \"The chatbot could not load your .aiml file.\\n\"\n",
    "                    \"To debug, run it through the notebook provided.\\n\"\n",
    "                    \"That will report the line and character number of the error.\"\n",
    "                    \"</MESSAGE>\\n\"\n",
    "                   )\n",
    "        feedback_file.write(feedback)\n",
    "    if not isnotebook():\n",
    "        sys.exit()\n",
    "    else:\n",
    "        print(\"====> Do not continue - your aiml has failed to load.\\n\"\n",
    "             \"=====> Fix this problem before you continue.\\n\"\n",
    "             \"=====> The error message contains the line number \"\n",
    "              \" and the character within that line,   of the problem.\\n\")\n",
    "\n",
    "else:\n",
    "    print( \"Remember that the bot will overwrite categories with the same pattern, that and topic. \"\n",
    "           \"This number should help you fix misformed categories if needed\\n\"\n",
    "         )"
   ]
  },
  {
   "cell_type": "markdown",
   "metadata": {},
   "source": [
    "### See how frequently different language constructs have been used"
   ]
  },
  {
   "cell_type": "code",
   "execution_count": null,
   "metadata": {},
   "outputs": [],
   "source": [
    "# either figure out how to query the bot categories\n",
    "## or open the student.aiml file and read it line by line looking for <srai> <set> <star/> and <that>\n",
    "file2 = open(theAIMLfile,'r')\n",
    "srai_count = 0\n",
    "set_count = 0\n",
    "wildcard_count=0\n",
    "starslash_count=0\n",
    "that_count = 0\n",
    "condition_count= 0\n",
    "studentlines  = []\n",
    "\n",
    "#read through line by line counting use of AIML constructs\n",
    "while(True):\n",
    "    line = file2.readline()\n",
    "    if not line:\n",
    "        break\n",
    "    if \"<srai\" in line:\n",
    "        srai_count += 1\n",
    "    if \"<set\" in line: # just use start - they ar hopefullty defining a name for their variable\n",
    "        set_count += 1\n",
    "    if (\"*\" in line) or (\"_\" in line) or (\"^\" in line) or (\"#\" in line):\n",
    "        wildcard_count +=1\n",
    "    if \"<star\" in line: #just look for start of tag in case they used indexing\n",
    "        starslash_count += 1\n",
    "    if \"<that\" in line: #just look for start of tag in case they used indexing\n",
    "        that_count +=1\n",
    "    if \"<condition\" in line: #just look for start of tag in case they used indexing\n",
    "        condition_count +=1\n",
    "    studentlines.append( line)\n",
    "file2.close()       \n",
    "        \n"
   ]
  },
  {
   "cell_type": "markdown",
   "metadata": {},
   "source": [
    "### See if users have duplicated information"
   ]
  },
  {
   "cell_type": "code",
   "execution_count": null,
   "metadata": {},
   "outputs": [],
   "source": [
    "repeats = [0]*NUMQS\n",
    "numlines = len(studentlines)\n",
    "for q in range(NUMQS):\n",
    "    answer = responses[q]\n",
    "    for theline in range(numlines):\n",
    "        if answer in studentlines[theline]:\n",
    "            repeats[q] = repeats[q]+1\n",
    "#print(repeats)\n",
    "\n",
    "unnecessary_duplicates = False\n",
    "contextQuestions = [35,42,44]\n",
    "otherDuplicates = [11,28]\n",
    "for i in range(NUMQS):\n",
    "    if repeats[i]==0:\n",
    "        pass #print(f' answer --{responses[i]}-- is not present')\n",
    "    elif repeats[i]==1:\n",
    "        pass\n",
    "    elif i+1 in contextQuestions or i in otherDuplicates:\n",
    "        pass\n",
    "    else:\n",
    "        unnecessary_duplicates = True\n",
    "        #print(f' answer{i} =  {responses[i]} is duplicated {repeats[i]} times.')\n",
    "        \n"
   ]
  },
  {
   "cell_type": "markdown",
   "metadata": {},
   "source": [
    "# Ask the questions, check and store the responses"
   ]
  },
  {
   "cell_type": "code",
   "execution_count": null,
   "metadata": {},
   "outputs": [],
   "source": [
    "\n",
    "\n",
    "# initialise score\n",
    "numCorrect = 0\n",
    "numContextQsCorrect=0\n",
    "numNoMatch=0\n",
    "responsesFile = open(responsesFileName,'w')\n",
    "\n",
    "for q in range (NUMQS):\n",
    "    thisQ = order[q]\n",
    "    #get bot's response to question\n",
    "    botResponse = checkBot.respond(questions[thisQ])\n",
    "    if(botResponse==\"\"):\n",
    "        numNoMatch +=1\n",
    "    responsesFile.write('Q{:2d}: {}\\n'.format(thisQ, questions[thisQ]))\n",
    "    responsesFile.write('Expected response: {}\\n'.format(responses[thisQ]))\n",
    "    responsesFile.write('Your bot response: {}\\n'.format(botResponse))\n",
    "    # check if it matches the required input\n",
    "    if botResponse == responses[thisQ] :\n",
    "        #print('question {} answered correctly'.format(thisQ))\n",
    "        responsesFile.write('*** Question answered correctly\\n\\n')\n",
    "        numCorrect +=1\n",
    "        if thisQ in contextQuestions:\n",
    "            numContextQsCorrect +=1\n",
    "    else:\n",
    "        responsesFile.write('Question answered incorrectly\\n\\n')\n",
    "        if(debug):\n",
    "            theInput = questions[thisQ]\n",
    "            print('Q{} {}\\n gets preprocessed as:{}'.format(thisQ,theInput,preprocessSingleInput(checkBot,theInput)))\n",
    "            print(' expected :' +responses[thisQ])\n",
    "            print(' got      :' +botResponse)\n",
    "            lastThat = checkBot.getPredicate(\"_outputHistory\")\n",
    "\n",
    "# write final line to log file and exit\n",
    "responsesFile.write(' In total you got {} questions correct'.format(numCorrect))\n",
    "responsesFile.close()"
   ]
  },
  {
   "cell_type": "markdown",
   "metadata": {},
   "source": [
    "# Calculate final score and feedback"
   ]
  },
  {
   "cell_type": "code",
   "execution_count": null,
   "metadata": {},
   "outputs": [],
   "source": [
    "\n",
    "if not load_failed:\n",
    "\n",
    "    feedbackFile = open(feedbackFileName,'w')\n",
    "\n",
    "\n",
    "    # calculate final score\n",
    "    finalScore= numCorrect \n",
    "    # if all questions correct then we start rewarding go solutions\n",
    "    if (numCorrect==NUMQS):\n",
    "        if (numCategories <10):\n",
    "            finalScore = 100\n",
    "        else:\n",
    "            finalScore = 90 - numCategories\n",
    "        if unnecessary_duplicates==True:\n",
    "            finalScore = min (finalScore,65)\n",
    "\n",
    "    # provide output for DEWIS\n",
    "    feedbackFile.write('<SCORE>{}</SCORE>\\n'.format(finalScore))\n",
    "\n",
    "    fstart=  \"<MESSAGE>\"\n",
    "    fend = \"</MESSAGE>\\n\"\n",
    "\n",
    "    feedback = fstart + \"After removing duplicates, your bot used \" + str(numCategories) + \" categories\" +fend\n",
    "    feedbackFile.write(feedback)\n",
    "\n",
    "    # what did the submission get wrong and why?\n",
    "    if(numCorrect< NUMQS):\n",
    "        feedback = fstart+ \"Your bot answered one or more questions incorrectly.\" +fend \n",
    "        feedbackFile.write(feedback)\n",
    "        feedback = fstart + \"File \" + responsesFileName + \" has more details of your bots responses.\" +fend\n",
    "        feedbackFile.write(feedback)\n",
    "        feedback = fstart + \"Common mistakes are typos or extra spaces\" +fend\n",
    "        feedbackFile.write(feedback)\n",
    "\n",
    "        if(numNoMatch>0):\n",
    "            feedback = fstart + \"For \" + str(numNoMatch) +\" questions your bot did not have a matching category.\" +fend\n",
    "            feedbackFile.write(feedback)\n",
    "        contextErrors = NUMCONTEXTQS - numContextQsCorrect\n",
    "        if( contextErrors >0 ):\n",
    "            feedback= fstart +\"Your bot answered incorrectly for \" + str(contextErrors) + \" questions that require a sense of context.\" +fend\n",
    "            feedbackFile.write(feedback)\n",
    "\n",
    "    else: #\n",
    "        feedback = fstart +\"Your bot answered every question correctly using \" + str(numCategories) + \" categories\" +fend\n",
    "        feedbackFile.write(feedback)\n",
    "        if ( srai_count==0  or wildcard_count ==0 or starslash_count==0):\n",
    "            feedback = fstart+ \"You can improve your score by generalising using srai and wildcards.\" + fend\n",
    "            feedbackFile.write(feedback)\n",
    "        if (set_count==0 or that_count==0):\n",
    "            feedback = fstart + \"You can improve your score by remembering context and what the conversation is talking about.\" +fend\n",
    "            feedbackFile.write(feedback)\n",
    "        if(condition_count==0):\n",
    "            feedback = fstart + \"You can use <condition> to change behaviour within a category.\" +fend\n",
    "            feedbackFile.write(feedback)\n",
    "\n",
    "        if unnecessary_duplicates==True:\n",
    "            feedback = fstart + \"Your knowledge base duplicated information so you mark is restricted to a maximum of 65.\" +fend\n",
    "            feedbackFile.write(feedback)\n",
    "\n",
    "\n",
    "        if(numCategories ==10):\n",
    "            feedback = fstart + \"Congratulations, you have matched Jim's score!\" +fend\n",
    "            feedbackFile.write(feedback)\n",
    "            \n",
    "        if(numCategories <10):\n",
    "            feedback = fstart + \"Congratulations, you have beaten Jim's score!\" +fend\n",
    "            feedbackFile.write(feedback)    \n",
    "\n",
    "\n",
    "    feedbackFile.close()"
   ]
  },
  {
   "cell_type": "markdown",
   "metadata": {},
   "source": [
    "# Uncomment the cell below if you want to run your bot interactively"
   ]
  },
  {
   "cell_type": "code",
   "execution_count": null,
   "metadata": {},
   "outputs": [],
   "source": [
    "# keepgoing= True\n",
    "# while(keepgoing):\n",
    "#     nextInput = input(\"Enter your message >> \")\n",
    "#     if (nextInput=='bye'):\n",
    "#         keepgoing= False\n",
    "#     else:\n",
    "#         print (checkBot.respond(nextInput))"
   ]
  },
  {
   "cell_type": "code",
   "execution_count": null,
   "metadata": {},
   "outputs": [],
   "source": [
    "# print (finalScore)\n"
   ]
  }
 ],
 "metadata": {
  "kernelspec": {
   "display_name": "Python 3 (ipykernel)",
   "language": "python",
   "name": "python3"
  },
  "language_info": {
   "codemirror_mode": {
    "name": "ipython",
    "version": 3
   },
   "file_extension": ".py",
   "mimetype": "text/x-python",
   "name": "python",
   "nbconvert_exporter": "python",
   "pygments_lexer": "ipython3",
   "version": "3.10.8"
  }
 },
 "nbformat": 4,
 "nbformat_minor": 4
}
