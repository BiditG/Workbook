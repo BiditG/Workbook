{
 "cells": [
  {
   "cell_type": "markdown",
   "metadata": {},
   "source": [
    "# Workbook 3: Informed Search Algorithms\n",
    "\n",
    "## Introduction\n",
    "This practical uses a simple easy-to-visualise optimisation problem to illustrate the properties of different search algorithms.\n",
    "The problem is this:\n",
    "- We are given  a model of a problem in terms of a graph  - which we can visualise as a maze.\n",
    "- We are given a starting position and the desired endpoint (goal)\n",
    "- The problem is to find a sequence of inputs that takes us from the start to the goal, preferably in as few moves as possible.\n",
    "\n",
    "## Aims of this practical\n",
    "1. To give you the opportunity to demonstrate your understanding by implementing the code needed to create different search algorithms.\n",
    "2. To give you experience of comparing the behaviour of different search algorithms.\n",
    "3. To give you experience of evaluating the efficiency of an algorithm for a problem ( in this case path-planning) by creating different instances of a problem (mazes) to *stress-test* different methods. \n",
    "\n",
    "\n",
    "<div class=\"alert alert-block alert-danger\" style=\"color:black\">\n",
    "    <h2> This is an assessed practical</h2>\n",
    "    <p> Each activity details how many marks it is worth (out of 100), and how marks are awarded.<br>\n",
    "        As before, you will be submitting a file of python code for markingand  the notebooks use a two-stage process to help you.</p>\n",
    "    <p>    As you work through the activities in the workbook:<ol>\n",
    "            <li>  <em>Jupyter <code>%%writefile</code> cell magics</em>  save your code to a file\"studentcode/student_wb3\" as you run cells after editing</li>\n",
    "            <li> Subsequent cells reload your code from that file to test the latest version .</li>\n",
    "        </ol></p>\n",
    "    When you are satisfied that you have completed the activities as required you should:</p>\n",
    "    <ol>\n",
    "        <li> Restart the kernel and do a single run through of every cell in turn  so <code>studentcode/student_wb3.py</code> has no duplicated definitions.</li>\n",
    "        <li> Run the notebook <b>selfchecker.ipynb</b> to check for syntax errors when called from our marking code, and edit as needed</li>\n",
    "            <li>Download <code>studentcode/student_wb3.py</code> to your local machine. </li>\n",
    "        <li> Follow the links in the <i>Assessments</i> folder on Blackboard to submit it for automatic marking and feedback.<br>\n",
    "            This may involve answering some multiple choices questions as well as submitting your code.</li>\n",
    "        <li> <b>Read the feedback provided</b> and use it to improve your work.<br>\n",
    "            <b>You will have four attempts to submit each notebook.</b></li>\n",
    "    </ol>\n",
    "<h3> Important instructions about formatting your code cells</h3>\n",
    "<ol>\n",
    "   <li>Where you are asked to insert code, or to complete a code skeleton, <b>you must only put code where indicated</b>. <br>\n",
    "       Otherwise the marking server - or the plagiarism detection we will run later - will not be able to parse and accept them.<br>\n",
    "       So your code should only go\n",
    "       <ul> \n",
    "           <li><b>After</b> the lines marked <code># ====> insert your code below here </code></li>\n",
    "           <li> <b>Before</b> the lines marked <code># <==== insert your code above here</code></li>\n",
    "      </ul>\n",
    "   </li>\n",
    "               <li>The marking server will reject any files containing imports except \"approvedimports\".<br>\n",
    "               The marking server has its own copy of that file, so there is no point editing the one we give you.</li>\n",
    "<li>Even in comments you must not use any of these banned words: <em>system, read,import</li>\n",
    "</ol>\n",
    "\n",
    "</div>\n",
    " \n",
    "   "
   ]
  },
  {
   "cell_type": "markdown",
   "metadata": {},
   "source": [
    "## Background\n",
    "\n",
    "As discussed in the lectures, we consider a general generate-and-test framwework for search that can be easily:\n",
    "- adapted to provide algorithms with different behaviours\n",
    "- applied to many different problems.\n",
    "This is illustrated in the flowchart below.\n",
    "\n",
    "<img src = \"figures/generate-and-test-framework.png\">\n",
    "\n",
    "In this week's lecture presentation ( available in the notebook **W3_Inforned_Search_Algorithms.ipynb**)\n",
    "we discussed how to create different algorithms, with different behaviours, just by adapting the function **select_and_move_from_openlist()**.\n",
    "\n",
    "In last week's lab session you should have:\n",
    "1. Got familiar with a general implementation framework we provided with classes for:\n",
    "  - **SingleMemberSearch**\n",
    "  - **Problem**\n",
    "  - **CandidateSolution**\n",
    "2. Created your own search subclasses **DepthfirstSearch** and **BreadthFirstSearch** \n",
    "  - by over-riding the function **select_and_move_from_openlist()**\n",
    "3. Applied those algorithms to two sublasses of problem: **CombinationLock** and **FoxChickenGrain**\n",
    "\n",
    "\n",
    "## This week\n",
    "You will extend that work to:\n",
    "1. Create your own implementations of the algorithms **LocalSearch**, **BestFirstSearch**, and **AStarSearch**\n",
    "2. Test their behaviour on a simple maze problem \n",
    "   - because it is easy to visualise, and\n",
    "   - many search graphs can be represented as  mazes.\n",
    "3. **Test your understanding** by making mazes that *break* different algorithms."
   ]
  },
  {
   "cell_type": "markdown",
   "metadata": {},
   "source": [
    "<div style=\"color:black;background:#ECFFDC\">\n",
    " <h2>Refresher: finding things in a list with python according to some criteria</h2>\n",
    "    <h3> You can skip reading this box if you are comfortable with how to do this</h3>\n",
    "    <ul>\n",
    "        <li> A python list (let's call it <i>my_list</i>) holds a collection of objects, usually of the same type. </li>\n",
    "        <li> If you have a list <i>my_list</i> with n elements, then <i>len(myList) = n</i> </li>\n",
    "    <li> This is true whether the elements are chars, ints, float, or objects of some class</li>\n",
    "    </ul>\n",
    "    <p> If  <i>my_list</i> holds elements (objects) of a type that has an attribute <i>cost</i>, and we want to find the index (position) of the element one with the lowest value, we do it with a loop. <br>Start in position 0, then loop through every thing in the list one by one, looking at the value of <i>cost</i> in each element, remembering the position (index) of the one with the lowest <i>cost</i>.</p>\n",
    "    <p> In code this looks like:</p>\n",
    "    <pre lang=\"python\" style=\"background:#ECFFDC\">    \n",
    "   best_index = 0\n",
    "   <span style=\"color:green\">for</span> i <span style=\"color:green\">in range</span> (<span style=\"color:green\">len</span> (my_list) ):    <span style=\"color:blue\"># for historical reasons we often use i as the name of a loop variable </span>\n",
    "       <span style=\"color:green\">if</span> my_list[i].cost < my_list[best_index].cost : \n",
    "           best_index = i\n",
    "   </pre>\n",
    "\n",
    "<p> So at the end of this process the variable best_index tells us the index of the \"best\" element in that list according to our choice criteria (minimising cost).\n",
    "<ul>\n",
    "<li>If we want to use something else as our criteria, we just change the if statement.</li>\n",
    "<li>Sometimes you might choose to store the value <i> best_so_far = my_list[best_index].cost</i> <br>\n",
    "and use that in the comparison (line 3 above) to make your code more readable (shorter lines)<br>\n",
    "- you just need to update <i>best_so_far</i> as well as <i>best_index</i> inside the <b>if</b> statement.</li>\n",
    "</ul>\n",
    "So this different version of the code does the same thing but you may find it easier to understand.\n",
    "<pre lang=\"python\" style=\"background:#ECFFDC\">\n",
    "    best_index = 0\n",
    "    best_so_far = my_list[0].cost\n",
    "    <span style=\"color:green\">for</span> index <span style=\"color:green\">in range</span> (len (my_list) ):\n",
    "        this_cost= my_list[index].cost\n",
    "        <span style=\"color:green\">if</span> this_cost < best_so_far: \n",
    "            best_index = index\n",
    "            best_so_far = this_cost\n",
    "</pre>\n",
    "</div>\n",
    "                                       \n",
    "                                       \n",
    "                                       "
   ]
  },
  {
   "cell_type": "markdown",
   "metadata": {},
   "source": [
    "# Part One: Familiarising yourself with the code framework\n",
    "From last week you should be familiar with the basic classes in our framework:\n",
    "- **Problem()**\n",
    "- **CandidateSolution**\n",
    "- **SingleMemberSearch**\n",
    "\n",
    "and you should have created two subclasses:\n",
    "- **DepthFirstSearch**\n",
    "- **BreadthFirstSearch**\n",
    "\n",
    "<p style=\"font-size:14px; color:black; font-weight:bold; font-style:italic;\">\n",
    "  If you have not done worksheet 2, go back and do that first.<br>\n",
    "  <span style=\"color:red\">Otherwise you will probably waste a lot of time.</span>\n",
    "  <span style=\"color: black\">and your tutors will just tell you to do that first.</span> \n",
    "</p>\n",
    "\n",
    "\n",
    "If you want to look at the maze code it is in the file *maze.py*  \n",
    "- it's a little complex, mostly to do with translating a lot between:\n",
    "  - one-d arrays (cells have single index) and \n",
    "  - 2-d arrays (cells referenced by row  and column co-ordinates)\n",
    "- so you may prefer to focus on your code implementation of different algorithms.\n",
    "\n",
    "The file *maze.txt* provides a definition for **one specific** maze instance. "
   ]
  },
  {
   "cell_type": "markdown",
   "metadata": {},
   "source": [
    "<div class=\"alert alert-block alert-warning\" style=\"color:black\">\n",
    "    <h1>Activity: Testing your Depth-first and Breadth-First Search code on the maze</h1>\n",
    "    <h2>30 marks: 15 for each algorithm if it passes the test below on the marking server</h2>.\n",
    "    Take the steps below to run and test your code from last week on the maze problems.<ol>\n",
    "        <li> There are a series of code cells below import libraries and define useful functions. <br>\n",
    "            A comment at the top of each cell will indicate whether you must run it, or it is optional.<br>\n",
    "            The function <i> test_on_maze()</i> compares the behaviour of your implementation with mine - they should match.\n",
    "       </li>\n",
    "    <li> Where indicated copy-paste your class code for <b>DepthFirstSearch</b> from workbook2 into the empty cell below.<br>\n",
    "            Then run that cell and the one after so you can see if your code solves the maze.<br>\n",
    "             If there are errors fix them before you proceed.</li>\n",
    "    <li> Where indicated copy-paste your class code for <b>BreadthFirstSearch</b> from workbook2 into the empty cell below.<br>\n",
    "             Then run that cell and the one after so you can see if your code solves the maze.<br>\n",
    "             If there are errors fix them before you proceed.</li>\n",
    "    </ol>\n",
    "    <p>If your code passed the tests for the <b>CombinationLock</b> problem last week it should work fine.<br>\n",
    "        If not:</p><ul>\n",
    "    <li>Edit your code in the cells below</li>\n",
    "    <li> <b> Important</b> the __str__() method must return the same string as I use in <i>test_on_maze()</i> below</li>\n",
    "    <li>Rerun those cells to tell python to use the edited versions.</li>\n",
    "    <li> Then rerun the test cells as necessary</li>\n",
    "    <li> You can turn on printing of the runlog in the test cells if it helps you debug your code.</li>\n",
    "    </ul>\n",
    "</div>\n",
    "\n",
    "<div class=\"alert alert-block alert-warning\" style=\"color:black\">\n",
    "    <h2> If you find the screen flickering disturbing</h2>\n",
    "    <b> Apologies!</b>\n",
    "       There is a trade-off between how long to pause after each move which affects the time taken to do a run, and how likely the screen is to flicker.  It can be hard to judge that with a distributed server.\n",
    "    <ul>\n",
    "        <li>edit the file <i>maze.py</i> in the jupyter editor. </li>\n",
    "        <li> increase the default value of <i>refresh_rate</i> on line 107.</li>\n",
    "        <li>rerun the first cell below to reload the Maze class</li></ul>\n",
    " </div>\n",
    "\n",
    "**Run, but do not edit, the four cells below.**"
   ]
  },
  {
   "cell_type": "code",
   "execution_count": null,
   "metadata": {
    "tags": []
   },
   "outputs": [],
   "source": [
    "# YOU MUST RUN THIS CELL BUT DO NOT EDIT IT OR YOU WILL BREAK THE NOTEBOOK\n",
    "import copy\n",
    "import importlib\n",
    "from importlib import reload\n",
    "import sys, os\n",
    "sys.path.append('../common')\n",
    "sys.path.append('studentcode')"
   ]
  },
  {
   "cell_type": "code",
   "execution_count": null,
   "metadata": {
    "tags": []
   },
   "outputs": [],
   "source": [
    "# You MUST run this cell\n",
    "\n",
    "from importlib import reload\n",
    "\n",
    "# the libraries written for this course\n",
    "from singlemembersearch import SingleMemberSearch\n",
    "from candidatesolution import CandidateSolution\n",
    "\n",
    "# doing it this way lets you edit maze.py then re-run this cell, without needing to restarting the kernel\n",
    "import maze\n",
    "reload(maze)\n",
    "from maze import Maze"
   ]
  },
  {
   "cell_type": "code",
   "execution_count": null,
   "metadata": {
    "tags": []
   },
   "outputs": [],
   "source": [
    "# You MUST run this cell\n",
    "# it defines the method that tries an algorithm on a maze\n",
    "\n",
    "def run_on_maze(\n",
    "    algorithm: SingleMemberSearch, \n",
    "    show_runlog: bool = False, \n",
    "    mazefile: str = \"maze.txt\"\n",
    "     ) -> tuple[int, int]:\n",
    "    \"\"\" function that tries to run a search algorithm on a maze problem\n",
    "    Parameters\n",
    "    ----------\n",
    "    algorithm: name of a class of search algorithm\n",
    "    show_runlog (bool) whether to print debugging information\n",
    "    mazefile (str): name of the file containing  definition of a specific maze instance\n",
    "    \"\"\"\n",
    "    \n",
    "    mymaze = Maze(mazefile=mazefile)\n",
    "    mysearch = algorithm(mymaze, constructive=True, max_attempts=1500)\n",
    "    name = mysearch.__str__()\n",
    "    trials = -1\n",
    "    moves = -1\n",
    "    found = mysearch.run_search()\n",
    "    if found:\n",
    "        trials = mysearch.trials\n",
    "        moves = len(mysearch.result)\n",
    "        print(\n",
    "            f\"search using {name} algorithm successful after {trials} attempts\"\n",
    "            f\" length of path is {moves} moves.\"\n",
    "        )\n",
    "    else:\n",
    "        print(\"solution not found in time allowed\")\n",
    "        if show_runlog:\n",
    "            print(mysearch.runlog)\n",
    "\n",
    "    del mymaze\n",
    "    return trials, moves, name"
   ]
  },
  {
   "cell_type": "code",
   "execution_count": null,
   "metadata": {
    "tags": []
   },
   "outputs": [],
   "source": [
    "# You MUST run this cell\n",
    "\n",
    "jims_results: dict = {\n",
    "    \"depth-first\": [408, 77],\n",
    "    \"breadth-first\": [1068, 57],\n",
    "    \"local search\": [-1, -1],\n",
    "    \"best-first\": [856, 57],\n",
    "    \"A Star\": [812, 57],\n",
    "}\n",
    "\n",
    "\n",
    "def test_on_maze(algorithm: SingleMemberSearch, mazefile=\"maze.txt\"):\n",
    "    trials, moves, name = run_on_maze(algorithm, mazefile)\n",
    "    correct_trials, correct_moves = jims_results[name]\n",
    "\n",
    "    print(f\"testing algorithm {name} on the simple maze.\")\n",
    "    if trials == -1 or moves == -1:\n",
    "        errstr1 = \"Error, the test suggests your code is not reaching the goal\"\n",
    "        errstr2 = \"Error, the test suggests your code is not reaching the goal\"\n",
    "\n",
    "    else:\n",
    "        errstr1 = (\n",
    "            f\"Error: your code is using {trials} trials \"\n",
    "            f\" but should only need {correct_trials}.\\n\"\n",
    "        )\n",
    "        errstr2 = (\n",
    "            f\"Error: your code finds a solution with {moves} \"\n",
    "            f\" but should only need {correct_moves}.\\n\"\n",
    "        )\n",
    "    assert trials == correct_trials, errstr1\n",
    "    assert moves == correct_moves, errstr2\n",
    "    print(\"test passed\")"
   ]
  },
  {
   "cell_type": "markdown",
   "metadata": {},
   "source": [
    "**Optionally** run the cell below to see an example of how help is automatically generated from doc strings in the code."
   ]
  },
  {
   "cell_type": "code",
   "execution_count": null,
   "metadata": {
    "tags": []
   },
   "outputs": [],
   "source": [
    "# Optional\n",
    "# Running this cell gives you a list of class methods and what they do\n",
    "help(Maze)"
   ]
  },
  {
   "cell_type": "markdown",
   "metadata": {
    "tags": []
   },
   "source": [
    "### Copy-paste your class definition for Depth-first search into the code cell below then run it\n",
    "- it must have no comments or code outside the class definition or the marking server will not accept it."
   ]
  },
  {
   "cell_type": "code",
   "execution_count": null,
   "metadata": {},
   "outputs": [],
   "source": [
    "%%writefile \"studentcode/student_wb3.py\"\n",
    "\n",
    "from approvedimports import *\n",
    "\n",
    "class DepthFirstSearch(SingleMemberSearch):\n",
    "    \"\"\"your implementation of depth first search to extend\n",
    "    the superclass SingleMemberSearch search.\n",
    "    Adds  a __str__method\n",
    "    Over-rides the method select_and_move_from_openlist\n",
    "    to implement the algorithm\n",
    "    \"\"\"\n",
    "    # ====> insert your code below here\n",
    "\n",
    "\n",
    "    # <==== insert your code above here"
   ]
  },
  {
   "cell_type": "markdown",
   "metadata": {},
   "source": [
    "**Run the cell below to load your code from file and test it.**  \n",
    "If you  get errors like ```ModuleNotFound``` make  sure you have run all the cells above"
   ]
  },
  {
   "cell_type": "code",
   "execution_count": null,
   "metadata": {
    "tags": []
   },
   "outputs": [],
   "source": [
    "# Run this cell to check your implementation works\n",
    "#getting latest saved version of your code\n",
    "from approvedimports import *\n",
    "\n",
    "import student_wb3 \n",
    "reload(student_wb3)\n",
    "\n",
    "\n",
    "print(\"Testing Depth-First Search\")\n",
    "test_on_maze(student_wb3.DepthFirstSearch)"
   ]
  },
  {
   "cell_type": "markdown",
   "metadata": {
    "tags": []
   },
   "source": [
    "### Copy-paste your class definition for Breadth-first search into the code cell below then run it\n",
    "- it must have no comments or code outside the class definition or the marking server will not accept it."
   ]
  },
  {
   "cell_type": "code",
   "execution_count": null,
   "metadata": {
    "tags": []
   },
   "outputs": [],
   "source": [
    "%%writefile -a \"studentcode/student_wb3.py\"\n",
    "\n",
    "\n",
    "class BreadthFirstSearch(SingleMemberSearch):\n",
    "    \"\"\"your implementation of depth first search to extend\n",
    "    the superclass SingleMemberSearch search.\n",
    "    Adds  a __str__method\n",
    "    Over-rides the method select_and_move_from_openlist\n",
    "    to implement the algorithm\n",
    "    \"\"\"\n",
    "    # ====> insert your code below here\n",
    "\n",
    "    # <==== insert your code above here"
   ]
  },
  {
   "cell_type": "code",
   "execution_count": null,
   "metadata": {
    "tags": []
   },
   "outputs": [],
   "source": [
    "# Run this cell to test your breath-first implementation\n",
    "#getting latest saved version of your code\n",
    "reload(student_wb3)\n",
    "\n",
    "\n",
    "print(\"Testing Breadth-First Search\")\n",
    "test_on_maze(student_wb3.BreadthFirstSearch)"
   ]
  },
  {
   "cell_type": "markdown",
   "metadata": {},
   "source": [
    "<div class = \"alert alert-warning\" style=\"color:black\">\n",
    "    <h1> Activity Two: Implementing Best-First and A Star Search</h1>\n",
    "    <h2> 40 Marks (20 each for an implementation that passes the tests)</h2>\n",
    "    <p> For these two algorithms the cells below provide the pseudo-code, a partially completed implementation, and a test.</p> <p>This activity requires you to complete the code to produce classes which implement the algorithms, using the pseudocode as your guide.</p>\n",
    "        <p> You are strongly advised to proceed by:</p> <ol>\n",
    "        <li> Copying the pseudo-code into an appropriate place in the class code</li>\n",
    "        <li> Turning the pseudo-code into comments with spaces between for your code</li> \n",
    "        <li> Your code should start by checking whether the openlist is empty <ul>\n",
    "            <li>  return None if openlist is empty</li>\n",
    "            <li> Otherwise select and return the appropriate item from the openlist </li>\n",
    "            </ul>\n",
    "    <li> Then answer the multiple choice questions to check your understanding</li>\n",
    "        </ol>\n",
    "        <h3>Hints:</h3><ul>\n",
    "               <li> Use the reminder at the start of this workbook for how to select from a list by value</li>\n",
    "<li> Remember that each instance of the  class defines an attribute <i> self.open_list</i> </li>\n",
    "       <li>  Everything on that list should be of type <b>CandidateSolution</b> <br>\n",
    "           and have attributes <i> quality</i> and <i>variable_values</i>.</li>\n",
    "        <li> For any list <i>mylist</i> you can query how many things it holds via <i>len(mylist)</i></li>\n",
    "        </ul>\n",
    "    </div>"
   ]
  },
  {
   "cell_type": "markdown",
   "metadata": {},
   "source": [
    "## Pseudocode for function SelectAndMoveFromOpenList in Best-First Search\n",
    "\n",
    "<div style=\"background:#F0FFFF\">\n",
    "<p style=\"color:darkredmargin-bottom:0pt\"><em>SelectAndMoveFromOpenList</em></p>\n",
    "<dl style=\"margin-top:0pt\">\n",
    "    <dt>&nbsp;&nbsp;&nbsp;<b>IF</b> IsEmpty( open_list) <b>THEN</b> </dt>\n",
    "    <dd> RETURN None</dd>\n",
    "    <dt> &nbsp;&nbsp;&nbsp;<b>ELSE</b></dt>\n",
    "    <dd>bestChild &larr; <b>GetMemberWithHighestQuality</b>(openList)</dd>\n",
    "    <dd> RETURN bestChild&nbsp;&nbsp;&nbsp;&nbsp;<span style=\"background:pink\">Best-First keeps the openlist to allow backtracking</span></dd>\n",
    "</dl>\n",
    "</div>   "
   ]
  },
  {
   "cell_type": "code",
   "execution_count": null,
   "metadata": {},
   "outputs": [],
   "source": [
    "%%writefile -a \"studentcode/student_wb3.py\"\n",
    "\n",
    "class BestFirstSearch(SingleMemberSearch):\n",
    "    \"\"\"Implementation of Best-First   search.\n",
    "    You need to complete this\n",
    "    \"\"\"\n",
    "    # ====> insert your code below here\n",
    "\n",
    "    # <==== insert your code above here"
   ]
  },
  {
   "cell_type": "code",
   "execution_count": null,
   "metadata": {
    "tags": []
   },
   "outputs": [],
   "source": [
    "# run this to test your implementation\n",
    "#getting latest saved version of your code\n",
    "reload(student_wb3)\n",
    "\n",
    "print(\"Testing Best-First Search\")\n",
    "test_on_maze(student_wb3.BestFirstSearch)"
   ]
  },
  {
   "cell_type": "markdown",
   "metadata": {
    "tags": []
   },
   "source": [
    "## Pseudocode for function SelectAndMoveFromOpenList in AStar Search\n",
    "\n",
    "<div style=\"background:#F0FFFF\">\n",
    "<p style=\"color:darkred;margin-bottom:0pt\"><em>SelectAndMoveFromOpenList</em></p>\n",
    "<dl style=\"margin-top:0pt\">\n",
    "    <dt>&nbsp;&nbsp;&nbsp;<b>IF</b> IsEmpty( open_list) <b>THEN</b> </dt>\n",
    "    <dd> RETURN None</dd>\n",
    "    <dt> &nbsp;&nbsp;&nbsp;<b>ELSE</b></dt>\n",
    "    <dd><span style=\"background:pink\">AStar picks using sum of quality +cost</span></dd>\n",
    "    <dd>bestChild &larr; <b>GetMemberWithHighestCombinedScore</b>(openList)</dd>\n",
    "    <dd> RETURN bestChild&nbsp;&nbsp;&nbsp;&nbsp;</dd>\n",
    "</dl>\n",
    "</div>   \n",
    "<div style=\"background:white\"> <h3>Note that</h3><ul>\n",
    "    <li>This is just like best-first with a modified selection.</li>\n",
    "    <li> To make more efficient you can track <i>bestSoFar</i> and modify <b>UpdateWorkingMemory()</b><br>\n",
    "        so it doesn't put things on the openlist if depth > bestSoFar </li></ul>  </div> "
   ]
  },
  {
   "cell_type": "code",
   "execution_count": null,
   "metadata": {},
   "outputs": [],
   "source": [
    "%%writefile -a \"studentcode/student_wb3.py\"\n",
    "\n",
    "class AStarSearch(SingleMemberSearch):\n",
    "    \"\"\"Implementation of A Star  search.\n",
    "    You need to complete this\n",
    "    \"\"\"\n",
    "    # ====> insert your code below here\n",
    "\n",
    "    # <==== insert your code above here"
   ]
  },
  {
   "cell_type": "code",
   "execution_count": null,
   "metadata": {
    "tags": []
   },
   "outputs": [],
   "source": [
    "# run this to test your A Star algorithm\n",
    "\n",
    "#getting latest saved version of your code\n",
    "reload(student_wb3)\n",
    "\n",
    "test_on_maze(student_wb3.AStarSearch)"
   ]
  },
  {
   "cell_type": "markdown",
   "metadata": {},
   "source": [
    "<div class=\"alert alert-warning\" style=\"color:black\">\n",
    "    <h1> Activity 3: Testing your understanding</h1>\n",
    "    <h2> 20 marks</h2>\n",
    "    Run the cell below and answer the questions then press the <b>check</b> button to check your answers. <br>\n",
    "    When you submit your jupyter notebook for automated marking via blackboard, <br>\n",
    "    there will be similar questions for you to answer online.\n",
    "    </div>\n",
    "    \n",
    "\n",
    "     "
   ]
  },
  {
   "cell_type": "code",
   "execution_count": null,
   "metadata": {},
   "outputs": [],
   "source": [
    "import workbook3_utils as wb3\n",
    "\n",
    "reload(wb3)\n",
    "display(wb3.Q1)\n",
    "display(wb3.Q2)\n",
    "display(wb3.Q3)\n",
    "display(wb3.Q4)\n",
    "display(wb3.Q5)\n",
    "display(wb3.Q6)\n",
    "display(wb3.Q7)\n",
    "display(wb3.Q8)"
   ]
  },
  {
   "cell_type": "markdown",
   "metadata": {},
   "source": [
    "<div class=\"alert alert-warning\" style=\"color:black\">\n",
    "    <h2> Activity 4: Testing your understanding by creating new instances to <it>break</it> algorithms</h2>\n",
    "    <h3> 10 Marks (5 for each new maze)</h3>\n",
    "    <p> The first two cells below illustrate how to create a new instances of the path-finding problem by changing walls into paths or vice-versa.</p>\n",
    "    <p> The third cell  shows how to save an edited maze to file and then checks it loads properly into a new maze object</p>\n",
    "    <p><b> Task: Experiment with creating new mazes then:</b></p>\n",
    "    <ol>\n",
    "        <li> Create a maze in which depth-first search gets stuck in a loop<br>\n",
    "            and save your new maze to file called <i>studentcode/maze-loop.txt</i> </li>\n",
    "        <li> Create a maze in which breadth-first search finds the goals in fewer trials than depth-first<br>\n",
    "            and save this to file <i>studentcode/maze-odd.txt</i></li>\n",
    "        <li> On the marking server you will be asked to upload these two files.</li>\n",
    "    </ol>\n",
    "    </div>\n",
    "\n",
    "**Run (but do not edit) the three cells below** to see how to edit and save  mazes."
   ]
  },
  {
   "cell_type": "code",
   "execution_count": null,
   "metadata": {},
   "outputs": [],
   "source": [
    "# this is an example with 'before and after' displays of how to make a hole in a wall\n",
    "# in this case one place to the right of the entrance, three blocks down\n",
    "# the first value is for the row of the cell to change, the second for the column\n",
    "wall_colour= 0.0\n",
    "hole_colour = 1.0\n",
    "hole_in_wall = Maze(mazefile=\"maze.txt\")\n",
    "hole_in_wall.contents[2][10] = hole_colour\n",
    "hole_in_wall.show_maze()"
   ]
  },
  {
   "cell_type": "code",
   "execution_count": null,
   "metadata": {},
   "outputs": [],
   "source": [
    "# demonstration of placing a new wall\n",
    "\n",
    "# load maze from originnal file\n",
    "new_wall = Maze(mazefile=\"maze.txt\")\n",
    "\n",
    "# edit it to place a new wall- 2 rows down and three columns to the right of the entramce\n",
    "new_wall.contents[2][13] = wall_colour\n",
    "new_wall.show_maze()\n"
   ]
  },
  {
   "cell_type": "code",
   "execution_count": null,
   "metadata": {},
   "outputs": [],
   "source": [
    "# saving and reloading mazes \n",
    "\n",
    "# save edited maze to new file\n",
    "new_wall.save_to_txt(\"maze-newwall.txt\")\n",
    "\n",
    "\n",
    "# reload into new maze object\n",
    "print('this is the reloaded maze')\n",
    "reloaded_maze = Maze(mazefile=\"maze-newwall.txt\")\n",
    "\n",
    "# test they have the same contents\n",
    "assert reloaded_maze.contents == new_wall.contents\n",
    "print(\"the reloaded maze matches the version still in memory\")"
   ]
  },
  {
   "cell_type": "markdown",
   "metadata": {},
   "source": [
    "### Below are two sets of cells which let you design and test the two use cases.\n",
    "You need to **edit and run** the first cell of each pair.\n",
    "- combine and adapt the code snippets above to:\n",
    "  - load the original maze\n",
    "  - edit it for the two use cases\n",
    "  - save each to a file with the name specified\n",
    "\n",
    "**Then run the second cell of each pair** to test the mazes you have produced."
   ]
  },
  {
   "cell_type": "code",
   "execution_count": null,
   "metadata": {
    "tags": []
   },
   "outputs": [],
   "source": [
    "%%writefile -a \"studentcode/student_wb3.py\"\n",
    "wall_colour= 0.0\n",
    "hole_colour = 1.0\n",
    "\n",
    "def create_maze_breaks_depthfirst():\n",
    "    pass\n",
    "    # ====> insert your code below here\n",
    "\n",
    "    # <==== insert your code above here\n"
   ]
  },
  {
   "cell_type": "code",
   "execution_count": null,
   "metadata": {
    "tags": []
   },
   "outputs": [],
   "source": [
    "def test_maze_that_breaks_depthfirst():\n",
    "    \n",
    "    outstr= \"\"\n",
    "    #depth first should not complete the maze\n",
    "    depth_behaviour = run_on_maze(student_wb3.DepthFirstSearch, show_runlog=False,mazefile='studentcode/maze-breaks-depth.txt') \n",
    "    assert depth_behaviour[1] == -1,' depth first should not finish on the maze'\n",
    "    assert depth_behaviour[0] == -1,' depth first should be terminated after 1500 trials'\n",
    "    outstr +=' your maze defeates depth-first search '\n",
    "    \n",
    "    #breadth first should\n",
    "    breadth_behaviour = run_on_maze(student_wb3.BreadthFirstSearch, show_runlog=False,mazefile='studentcode/maze-breaks-depth.txt') \n",
    "    assert breadth_behaviour[0] >0, ' breadth first should solve maze after enough trials'\n",
    "    assert breadth_behaviour[1] >0, ' breadth first should solve maze with path >0 moves'\n",
    "    outstr+= f'breadth-first can solve your maze in {breadth_behaviour[0]} trials'\n",
    "    outstr +='test passed'\n",
    "    print(outstr)\n",
    "\n",
    "#getting latest saved version of your code\n",
    "reload(student_wb3)\n",
    "student_wb3.create_maze_breaks_depthfirst()\n",
    "test_maze_that_breaks_depthfirst()"
   ]
  },
  {
   "cell_type": "code",
   "execution_count": null,
   "metadata": {
    "tags": []
   },
   "outputs": [],
   "source": [
    "%%writefile -a \"studentcode/student_wb3.py\"\n",
    "def create_maze_depth_better():\n",
    "    pass\n",
    "    # ====> insert your code below here \n",
    "\n",
    "    # <==== insert your code above here\n",
    "\n",
    "\n",
    "    "
   ]
  },
  {
   "cell_type": "code",
   "execution_count": null,
   "metadata": {
    "tags": []
   },
   "outputs": [],
   "source": [
    "def test_maze_depth_better():\n",
    "    depth_behaviour = run_on_maze(student_wb3.DepthFirstSearch, show_runlog=False,mazefile='studentcode/maze-depth-better.txt')\n",
    "    breadth_behaviour = run_on_maze(student_wb3.BreadthFirstSearch, show_runlog=False,mazefile='studentcode/maze-depth-better.txt') \n",
    "    \n",
    "    #should both find the goal state\n",
    "    #but I can't know how long the path is on your maze\n",
    "    assert depth_behaviour[1] != -1, 'error: depth first is not finding the goal state'\n",
    "    assert breadth_behaviour[1] != -1, 'error: breadth first is not finding the goal state'\n",
    "    assert depth_behaviour[1] <= breadth_behaviour[1], 'error: depth first should not find a longer path'\n",
    "    print('both find goal state and depth-first path is as good or shorter')\n",
    "    \n",
    "    # depth first should use fewer trials\n",
    "    assert depth_behaviour[0] != -1, 'error: depth first is not finding the goal state'\n",
    "    assert breadth_behaviour[0]!= -1, 'error: brteadth first is not finding the goal state'\n",
    "    assert  depth_behaviour[0] < breadth_behaviour[0], 'error: depth first should take fewer trials'\n",
    "    print(' depth- first needs fewer attempts')\n",
    "    print('test passed - you designed your maze well')\n",
    "\n",
    "#getting latest saved version of your code\n",
    "reload(student_wb3)\n",
    "student_wb3.create_maze_depth_better()\n",
    "test_maze_depth_better()"
   ]
  },
  {
   "cell_type": "markdown",
   "metadata": {},
   "source": [
    "<div class=\"alert alert-block alert-success\" style=\"color:black\"><b>Save and close Jupyter:</b>\n",
    "    <ol>\n",
    "        <li>Use the jupyterlab functions to download your work (ask your tutor if you need help with this) and save it somewhere sensible so you can find it easily.</li>\n",
    "        <li>Shutdown the notebook when you have finished with this tutorial (menu->file->close and shutdown notebook)</li>\n",
    "    </ol>\n",
    "</div>"
   ]
  }
 ],
 "metadata": {
  "kernelspec": {
   "display_name": "aienv",
   "language": "python",
   "name": "aienv"
  },
  "language_info": {
   "codemirror_mode": {
    "name": "ipython",
    "version": 3
   },
   "file_extension": ".py",
   "mimetype": "text/x-python",
   "name": "python",
   "nbconvert_exporter": "python",
   "pygments_lexer": "ipython3",
   "version": "3.11.6"
  }
 },
 "nbformat": 4,
 "nbformat_minor": 4
}
