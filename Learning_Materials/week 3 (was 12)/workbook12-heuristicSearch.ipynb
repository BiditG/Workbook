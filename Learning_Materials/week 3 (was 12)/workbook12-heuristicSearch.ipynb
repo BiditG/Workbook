{
 "cells": [
  {
   "cell_type": "markdown",
   "metadata": {},
   "source": [
    "# Workbook 10: Informed Search Algorithms\n",
    "\n",
    "## Introduction\n",
    "This practical uses a simple easy-to-visualise optimisation problem to illustrate the properties of different search algorithms.\n",
    "The problem is this:\n",
    "- We are given  a model of a problem in terms of a graph  - which we can visualise as a maze.\n",
    "- We are given a starting position and the desired endpoint (goal)\n",
    "- The problem is to find a sequence of inputs that takes us from the start to the goal, preferably in as few moves as possible.\n",
    "\n",
    "## Aims of this practical\n",
    "1. To give you the opportunity to demonstrate your underrstanding by implementing the code needed to create different search algorithms.\n",
    "2. To give you experience of comparing the behaviour of different search algorithms.\n",
    "3. To give you experience of evaluating the efficiency of an algorithm for a problem ( in thid case path-planning) by creating different instances of a problem (mazes) to *stress-test* different methods. \n",
    "\n",
    "\n",
    "   "
   ]
  },
  {
   "cell_type": "markdown",
   "metadata": {},
   "source": [
    "<div class = \"alert alert-info\" style=\"color:black\">\n",
    " <h2>Refresher: finding things in a list with python according to some criteria</h2>\n",
    "    <ul>\n",
    "        <li> A simple for loop looks like: for i in range(n): <br> and loops. from i=0 to i=n-1</li>\n",
    "    <li> if you have a list myList with n elements, then len(myList) = n </li>\n",
    "    <li> This is true whether the elements are chars, ints, float, or objects of some class</li>\n",
    "    </ul>\n",
    "    <p> So if  myList hold elements of a type that has an attribute cost, and we want to find the index (position) of the element one with the lowest value, we can do it like this:<br> Start in position 0 <br> then loop through each element, remembering where the one with the lowest value of score came.</p>\n",
    "    <p> In code this looks like:<pre class=\"line-numbers\"><code class=\"language-python\">\n",
    "   bestSoFar = 0\n",
    "   for i in range (len (myList) ):\n",
    "       if (myList[i].cost < myList[bestSoFar].cost): \n",
    "           bestSoFar = i\n",
    "  </code>\n",
    "</pre>\n",
    "and at the end of this process the variable bestSoFar tells us the index of the \"best\" element in that list according to our choice criteria (minimising cost).<br>\n",
    "If we want to use something else as our criteria, we just change the if statement.\n",
    "</div>\n",
    "                                       \n",
    "                                       \n",
    "                                       \n",
    "                                       "
   ]
  },
  {
   "cell_type": "markdown",
   "metadata": {},
   "source": [
    "## Background\n",
    "\n",
    "<img src = \"figures/generate-and-test-framework.png\">\n",
    "\n",
    "\n",
    "\n",
    "\n",
    "### Pseudocode for informed search\n",
    "Initialisation\n",
    "```\n",
    "## make initial guess,  \n",
    "SET workingCandidate = StartSolution\n",
    "## Test it\n",
    "Evaluate (workingCandidate)\n",
    "IF( IsAtGoal(workingCandidate)) \n",
    "    OUTPUT (SUCCESS, workingCandidate)\n",
    "## Start the openList \n",
    "APPEND workingCandidate to openList\n",
    "```\n",
    "\n",
    "Main loop\n",
    "```\n",
    "    WHILE ( Openlist not empty) DO\n",
    "      SORT(OpenList)                  ## This is the new line \n",
    "      MOVE (first item from openList into working candidate)\n",
    "      FOREACH (1-step neighbour)\n",
    "        neighbour = ApplyMoveOperator(workingCandidate)  ## Generate\n",
    "        Evaluate(neighbour)                              ## Test \n",
    "\t    IF(IsAtGoal(neighbour))\n",
    "          OUTPUT (SUCCESS, neighbour)\n",
    "        ELSE IF (neighbor is feasible)                   ## Update Memory\n",
    "          APPEND( neighbor to end of openList)\n",
    "        ELSE\n",
    "          APPEND( neighbor to end of closedList)\n",
    "      COPY (working candidate to closedList)\n",
    " \n",
    "    ** only get this far if we've run out of candidate solutions to test\n",
    "    OUTPUT (FAILURE, workingCandidate)\n",
    "```\n",
    "\n",
    "\n",
    "\n",
    "\n",
    "<div class=\"alert alert-block alert-danger\"> The only difference to `uninformed search is the extra line at the start of  each iteration: <b>Sort(OpenList)</b> <br>Sorting our list once makes things faster if we subsequently insert things in the right place to keep it sorted. <br>\n",
    "<b>In practice can just leave unsorted and pick the best according to our sort criteria</b></div> "
   ]
  },
  {
   "cell_type": "markdown",
   "metadata": {},
   "source": [
    "<div class = \"alert alert-warning\" style=\"color:black\">\n",
    "    <h2> Activity One: Quick inspection of common functions to implement. the framework (10 minutes max) </h2>\n",
    "<p>Run the three cells below to:   </p>\n",
    "<ul>\n",
    "    <li> import the modules and the supporting code for this practical</li>\n",
    "    <li> define a common \"initialise\" method.</li>\n",
    "    <li> define a common implementation for the main search loop.</li>\n",
    "    </ul>\n",
    " \n",
    "  \n",
    "<p>    Note how virtually all the code that handles the <b>problem</b> is abstracted into:</p>\n",
    "    <ul>\n",
    "        <li>evaluate(): which tests a solution and stores the estimated distance from the goal in its quality attribute</li>\n",
    "        <li>IsAtGoal(): which checks if a soltion reaches the goal state</li>\n",
    "        <li> displaySearchState(): which displays a candidateSolution and the openList</li>\n",
    "        <li> The list <it>moveSet</it> which lists the possible moves</li>\n",
    "        <li>The three lines 27-29 in runMainSearchLoop(): that create a new meighbour by appending a possible move to a candidate solution.  </li>\n",
    "    </ul>\n",
    "<p>    Also note that all the code which defines the <b>algorithm</b> is handled via the function getNextItemForAlgorithm()</p>\n",
    "</div>    \n",
    "\n"
   ]
  },
  {
   "cell_type": "code",
   "execution_count": 1,
   "metadata": {},
   "outputs": [],
   "source": [
    "import workbook12_utils as wb12\n",
    "from workbook12_utils import Maze,CandidateSolution, evaluate, displaySearchState, IsAtGoal, setUpMaze\n",
    "import matplotlib.pyplot as plt\n",
    "import copy\n",
    "import numpy as np\n",
    "from time import sleep\n",
    "from IPython.display import clear_output\n",
    "%matplotlib inline"
   ]
  },
  {
   "cell_type": "code",
   "execution_count": 2,
   "metadata": {},
   "outputs": [],
   "source": [
    "\n",
    "#### INITIALISE SEARCH ###\n",
    "def initialise(maze):\n",
    "    workingCandidate = CandidateSolution()\n",
    "    #get start position on maze and set this as start for search\n",
    "    workingCandidate.variableValues.append(maze.start)\n",
    "\n",
    "    #measure quality\n",
    "    evaluate(workingCandidate,maze)\n",
    "\n",
    "    #check for lucky guess\n",
    "    if(IsAtGoal(workingCandidate,maze)):\n",
    "        print(\"solution found\")\n",
    "        atGoal = True\n",
    "    else:\n",
    "        openList = []\n",
    "        closedList = []\n",
    "        openList.append(workingCandidate)\n",
    "        atGoal = False\n",
    "        \n",
    "    #show first stage\n",
    "    displaySearchState(maze,workingCandidate,openList,algorithm,0)    \n",
    "    \n",
    "    return workingCandidate, openList,closedList, atGoal\n",
    "\n",
    "\n",
    "\n"
   ]
  },
  {
   "cell_type": "code",
   "execution_count": 3,
   "metadata": {},
   "outputs": [],
   "source": [
    "##================= MAIN SEACH LOOP =================\n",
    "def runMainSearchLoop(maze,workingCandidate,openList, closedList):\n",
    "    iteration = 0\n",
    "    tested = 0\n",
    "    atGoal = False\n",
    "    \n",
    "    #WHILE ( Openlist not empty) DO\n",
    "    while( atGoal==False and  len(openList)>0 and iteration<  1000): \n",
    "\n",
    "        iteration = iteration + 1\n",
    "    \n",
    "        ######### MOVE (chosen item from openList into working candidate)    \n",
    "        nextItem = getNextItemForAlgorithm(algorithm,openList) \n",
    "        workingCandidate = openList.pop(nextItem)\n",
    "\n",
    "        # this is just for the sake of visualisation\n",
    "        displaySearchState(maze, workingCandidate,openList,algorithm,tested)\n",
    "\n",
    "        ######## GENERATE ONE STEP. NEIGHBOURS. \n",
    "        #FOREACH (1-step neighbour)\n",
    "        for move in moveSet:         \n",
    "        \n",
    "            ##### Generate NEIGHBOUR #####\n",
    "            neighbour = copy.deepcopy(workingCandidate)  \n",
    "        \n",
    "            #neighbour = ApplyMoveOperator(workingCandidate)\n",
    "            lastCell = neighbour.variableValues [ -1] # neat bit of python indexing that returns last item in list\n",
    "            nextCell = lastCell + move\n",
    "            neighbour.variableValues.append(nextCell) \n",
    "        \n",
    "            ##### TEST NEIGHBOUR   ###### \n",
    "            evaluate(neighbour,maze)\n",
    "            tested += 1\n",
    " \n",
    "            #IF AT GOAL OUTPUT (SUCCESS, neighbour)\n",
    "            if(IsAtGoal(neighbour, maze)):             \n",
    "                displaySearchState(maze,neighbour,openList,algorithm,tested)\n",
    "                atGoal=True\n",
    "                break ##takes us out of for loop\n",
    "            \n",
    "            ### ELSE UPDATE WORKING MEMORY ###\n",
    "            elif (neighbour.quality>=0): #neighbour is feasible\n",
    "                openList.append(neighbour) \n",
    "            else: #neighbour is infeasible\n",
    "                closedList.append(neighbour)\n",
    " \n",
    "        #### END OF FOR LOOP\n",
    "        ##COPY (working candidate to closedList)\n",
    "        closedList.append(workingCandidate)\n",
    "    \n",
    "    \n",
    "    ##### END OF WHILE LOOP ###\n",
    "\n",
    "    return atGoal,tested,len(neighbour.variableValues)"
   ]
  },
  {
   "cell_type": "markdown",
   "metadata": {},
   "source": [
    "<div class = \"alert alert-warning\" style=\"color:black\">\n",
    "    <h2> Activity Two: Implementing Best-First search and A* </h2>\n",
    "    <p>The next cell shows a partially completed implementation of the method to chose the next item from the openList to explore.<ol>\n",
    "    <li> Complete the code to implement best-first and Astar search then test your code by running the cell after</li>\n",
    "    <li> to compare. with my results, in your loops only improving solutions (not equals)</li>\n",
    "    <li> Then answer the multiple choice questions to check your understyanding</li>\n",
    "    </ol>\n",
    "<p>Hint:<ul>\n",
    "    <li>the class candidateSolution just holds two attributes: quality and variableValues.</li>\n",
    "    <li>quality is the estimated distance to the goal, so we want to minise this. </li>\n",
    "    <li>variableValues is a list of moves that define the specific candidate solution.<br> Like all lists, you can query how many things it holds via len(variableValues).</li></ul></p>\n",
    "    </div>"
   ]
  },
  {
   "cell_type": "code",
   "execution_count": 4,
   "metadata": {},
   "outputs": [],
   "source": [
    "def getNextItemForAlgorithm(algorithm,openList):\n",
    "    next = -1\n",
    "    numEntries = len(openList)\n",
    "    #check openList is not empty\n",
    "    if  ( numEntries == 0 ):\n",
    "        print(\"openList was empty!\")\n",
    "\n",
    "    else:\n",
    "    \n",
    "        if algorithm==\"depthFirst\":\n",
    "            # return last thing added\n",
    "            next = len(openList) -1\n",
    "            \n",
    "        elif algorithm ==\"breadthFirst\":\n",
    "            #return oldest thing on list\n",
    "            next = 0\n",
    "        elif algorithm== \"bestFirst\" :\n",
    "            # write your code here to do a simple loop that finds the index of the item in the openList\n",
    "            # that has the lowest estimated distance from the goal \n",
    "            pass\n",
    "        \n",
    "        elif algorithm==\"Astar\" :\n",
    "            #write your code here to do a simple loop that finds the index of the item in the openList\n",
    "            # that has combined value for (estimated distance from the goal + distance ffrom start)\n",
    "            pass\n",
    "  \n",
    "        else:\n",
    "            print(\"unrecognised algorithm\")\n",
    "                             \n",
    "    return next"
   ]
  },
  {
   "cell_type": "markdown",
   "metadata": {},
   "source": [
    "<h2>^ write your own version of aster and best first get next item and compare ? </h2>"
   ]
  },
  {
   "cell_type": "code",
   "execution_count": 5,
   "metadata": {},
   "outputs": [
    {
     "ename": "KeyboardInterrupt",
     "evalue": "",
     "output_type": "error",
     "traceback": [
      "\u001b[0;31m---------------------------------------------------------------------------\u001b[0m",
      "\u001b[0;31mKeyboardInterrupt\u001b[0m                         Traceback (most recent call last)",
      "Cell \u001b[0;32mIn[5], line 6\u001b[0m\n\u001b[1;32m      3\u001b[0m maze, moveSet \u001b[39m=\u001b[39m setUpMaze(\u001b[39m\"\u001b[39m\u001b[39mmaze.txt\u001b[39m\u001b[39m\"\u001b[39m)\n\u001b[1;32m      4\u001b[0m workingCandidate,openList,closedList,atGoal \u001b[39m=\u001b[39m initialise(maze)\n\u001b[0;32m----> 6\u001b[0m atGoal,tested,complexity \u001b[39m=\u001b[39m runMainSearchLoop(maze,workingCandidate,openList, closedList)\n\u001b[1;32m      8\u001b[0m \u001b[39mif\u001b[39;00m(atGoal\u001b[39m==\u001b[39m\u001b[39mFalse\u001b[39;00m):\n\u001b[1;32m      9\u001b[0m     \u001b[39mprint\u001b[39m(\u001b[39m'\u001b[39m\u001b[39mfailed to find solution to the problem in the time allowed!\u001b[39m\u001b[39m'\u001b[39m) \n",
      "Cell \u001b[0;32mIn[3], line 17\u001b[0m, in \u001b[0;36mrunMainSearchLoop\u001b[0;34m(maze, workingCandidate, openList, closedList)\u001b[0m\n\u001b[1;32m     14\u001b[0m workingCandidate \u001b[39m=\u001b[39m openList\u001b[39m.\u001b[39mpop(nextItem)\n\u001b[1;32m     16\u001b[0m \u001b[39m# this is just for the sake of visualisation\u001b[39;00m\n\u001b[0;32m---> 17\u001b[0m displaySearchState(maze, workingCandidate,openList,algorithm,tested)\n\u001b[1;32m     19\u001b[0m \u001b[39m######## GENERATE ONE STEP. NEIGHBOURS. \u001b[39;00m\n\u001b[1;32m     20\u001b[0m \u001b[39m#FOREACH (1-step neighbour)\u001b[39;00m\n\u001b[1;32m     21\u001b[0m \u001b[39mfor\u001b[39;00m move \u001b[39min\u001b[39;00m moveSet:         \n\u001b[1;32m     22\u001b[0m \n\u001b[1;32m     23\u001b[0m     \u001b[39m##### Generate NEIGHBOUR #####\u001b[39;00m\n",
      "File \u001b[0;32m~/GitHub/Artificial_Intelligence_1/Learning_Materials/week 3 (was 12)/workbook12_utils.py:190\u001b[0m, in \u001b[0;36mdisplaySearchState\u001b[0;34m(theMaze, current, openList, algname, steps, refresh_rate)\u001b[0m\n\u001b[1;32m    188\u001b[0m plt\u001b[39m.\u001b[39maxis(\u001b[39m'\u001b[39m\u001b[39moff\u001b[39m\u001b[39m'\u001b[39m)\n\u001b[1;32m    189\u001b[0m plt\u001b[39m.\u001b[39mimshow(newmaze\u001b[39m.\u001b[39mcontents,cmap\u001b[39m=\u001b[39m\u001b[39m\"\u001b[39m\u001b[39mSet1\u001b[39m\u001b[39m\"\u001b[39m)\n\u001b[0;32m--> 190\u001b[0m plt\u001b[39m.\u001b[39;49mshow()\n",
      "File \u001b[0;32m~/GitHub/AIenv/lib/python3.10/site-packages/matplotlib/pyplot.py:446\u001b[0m, in \u001b[0;36mshow\u001b[0;34m(*args, **kwargs)\u001b[0m\n\u001b[1;32m    402\u001b[0m \u001b[39m\u001b[39m\u001b[39m\"\"\"\u001b[39;00m\n\u001b[1;32m    403\u001b[0m \u001b[39mDisplay all open figures.\u001b[39;00m\n\u001b[1;32m    404\u001b[0m \n\u001b[0;32m   (...)\u001b[0m\n\u001b[1;32m    443\u001b[0m \u001b[39mexplicitly there.\u001b[39;00m\n\u001b[1;32m    444\u001b[0m \u001b[39m\"\"\"\u001b[39;00m\n\u001b[1;32m    445\u001b[0m _warn_if_gui_out_of_main_thread()\n\u001b[0;32m--> 446\u001b[0m \u001b[39mreturn\u001b[39;00m _get_backend_mod()\u001b[39m.\u001b[39;49mshow(\u001b[39m*\u001b[39;49margs, \u001b[39m*\u001b[39;49m\u001b[39m*\u001b[39;49mkwargs)\n",
      "File \u001b[0;32m~/GitHub/AIenv/lib/python3.10/site-packages/matplotlib_inline/backend_inline.py:90\u001b[0m, in \u001b[0;36mshow\u001b[0;34m(close, block)\u001b[0m\n\u001b[1;32m     88\u001b[0m \u001b[39mtry\u001b[39;00m:\n\u001b[1;32m     89\u001b[0m     \u001b[39mfor\u001b[39;00m figure_manager \u001b[39min\u001b[39;00m Gcf\u001b[39m.\u001b[39mget_all_fig_managers():\n\u001b[0;32m---> 90\u001b[0m         display(\n\u001b[1;32m     91\u001b[0m             figure_manager\u001b[39m.\u001b[39;49mcanvas\u001b[39m.\u001b[39;49mfigure,\n\u001b[1;32m     92\u001b[0m             metadata\u001b[39m=\u001b[39;49m_fetch_figure_metadata(figure_manager\u001b[39m.\u001b[39;49mcanvas\u001b[39m.\u001b[39;49mfigure)\n\u001b[1;32m     93\u001b[0m         )\n\u001b[1;32m     94\u001b[0m \u001b[39mfinally\u001b[39;00m:\n\u001b[1;32m     95\u001b[0m     show\u001b[39m.\u001b[39m_to_draw \u001b[39m=\u001b[39m []\n",
      "File \u001b[0;32m~/GitHub/AIenv/lib/python3.10/site-packages/IPython/core/display_functions.py:298\u001b[0m, in \u001b[0;36mdisplay\u001b[0;34m(include, exclude, metadata, transient, display_id, raw, clear, *objs, **kwargs)\u001b[0m\n\u001b[1;32m    296\u001b[0m     publish_display_data(data\u001b[39m=\u001b[39mobj, metadata\u001b[39m=\u001b[39mmetadata, \u001b[39m*\u001b[39m\u001b[39m*\u001b[39mkwargs)\n\u001b[1;32m    297\u001b[0m \u001b[39melse\u001b[39;00m:\n\u001b[0;32m--> 298\u001b[0m     format_dict, md_dict \u001b[39m=\u001b[39m \u001b[39mformat\u001b[39;49m(obj, include\u001b[39m=\u001b[39;49minclude, exclude\u001b[39m=\u001b[39;49mexclude)\n\u001b[1;32m    299\u001b[0m     \u001b[39mif\u001b[39;00m \u001b[39mnot\u001b[39;00m format_dict:\n\u001b[1;32m    300\u001b[0m         \u001b[39m# nothing to display (e.g. _ipython_display_ took over)\u001b[39;00m\n\u001b[1;32m    301\u001b[0m         \u001b[39mcontinue\u001b[39;00m\n",
      "File \u001b[0;32m~/GitHub/AIenv/lib/python3.10/site-packages/IPython/core/formatters.py:179\u001b[0m, in \u001b[0;36mDisplayFormatter.format\u001b[0;34m(self, obj, include, exclude)\u001b[0m\n\u001b[1;32m    177\u001b[0m md \u001b[39m=\u001b[39m \u001b[39mNone\u001b[39;00m\n\u001b[1;32m    178\u001b[0m \u001b[39mtry\u001b[39;00m:\n\u001b[0;32m--> 179\u001b[0m     data \u001b[39m=\u001b[39m formatter(obj)\n\u001b[1;32m    180\u001b[0m \u001b[39mexcept\u001b[39;00m:\n\u001b[1;32m    181\u001b[0m     \u001b[39m# FIXME: log the exception\u001b[39;00m\n\u001b[1;32m    182\u001b[0m     \u001b[39mraise\u001b[39;00m\n",
      "File \u001b[0;32m~/GitHub/AIenv/lib/python3.10/site-packages/decorator.py:232\u001b[0m, in \u001b[0;36mdecorate.<locals>.fun\u001b[0;34m(*args, **kw)\u001b[0m\n\u001b[1;32m    230\u001b[0m \u001b[39mif\u001b[39;00m \u001b[39mnot\u001b[39;00m kwsyntax:\n\u001b[1;32m    231\u001b[0m     args, kw \u001b[39m=\u001b[39m fix(args, kw, sig)\n\u001b[0;32m--> 232\u001b[0m \u001b[39mreturn\u001b[39;00m caller(func, \u001b[39m*\u001b[39;49m(extras \u001b[39m+\u001b[39;49m args), \u001b[39m*\u001b[39;49m\u001b[39m*\u001b[39;49mkw)\n",
      "File \u001b[0;32m~/GitHub/AIenv/lib/python3.10/site-packages/IPython/core/formatters.py:223\u001b[0m, in \u001b[0;36mcatch_format_error\u001b[0;34m(method, self, *args, **kwargs)\u001b[0m\n\u001b[1;32m    221\u001b[0m \u001b[39m\u001b[39m\u001b[39m\"\"\"show traceback on failed format call\"\"\"\u001b[39;00m\n\u001b[1;32m    222\u001b[0m \u001b[39mtry\u001b[39;00m:\n\u001b[0;32m--> 223\u001b[0m     r \u001b[39m=\u001b[39m method(\u001b[39mself\u001b[39;49m, \u001b[39m*\u001b[39;49margs, \u001b[39m*\u001b[39;49m\u001b[39m*\u001b[39;49mkwargs)\n\u001b[1;32m    224\u001b[0m \u001b[39mexcept\u001b[39;00m \u001b[39mNotImplementedError\u001b[39;00m:\n\u001b[1;32m    225\u001b[0m     \u001b[39m# don't warn on NotImplementedErrors\u001b[39;00m\n\u001b[1;32m    226\u001b[0m     \u001b[39mreturn\u001b[39;00m \u001b[39mself\u001b[39m\u001b[39m.\u001b[39m_check_return(\u001b[39mNone\u001b[39;00m, args[\u001b[39m0\u001b[39m])\n",
      "File \u001b[0;32m~/GitHub/AIenv/lib/python3.10/site-packages/IPython/core/formatters.py:340\u001b[0m, in \u001b[0;36mBaseFormatter.__call__\u001b[0;34m(self, obj)\u001b[0m\n\u001b[1;32m    338\u001b[0m     \u001b[39mpass\u001b[39;00m\n\u001b[1;32m    339\u001b[0m \u001b[39melse\u001b[39;00m:\n\u001b[0;32m--> 340\u001b[0m     \u001b[39mreturn\u001b[39;00m printer(obj)\n\u001b[1;32m    341\u001b[0m \u001b[39m# Finally look for special method names\u001b[39;00m\n\u001b[1;32m    342\u001b[0m method \u001b[39m=\u001b[39m get_real_method(obj, \u001b[39mself\u001b[39m\u001b[39m.\u001b[39mprint_method)\n",
      "File \u001b[0;32m~/GitHub/AIenv/lib/python3.10/site-packages/IPython/core/pylabtools.py:152\u001b[0m, in \u001b[0;36mprint_figure\u001b[0;34m(fig, fmt, bbox_inches, base64, **kwargs)\u001b[0m\n\u001b[1;32m    149\u001b[0m     \u001b[39mfrom\u001b[39;00m \u001b[39mmatplotlib\u001b[39;00m\u001b[39m.\u001b[39;00m\u001b[39mbackend_bases\u001b[39;00m \u001b[39mimport\u001b[39;00m FigureCanvasBase\n\u001b[1;32m    150\u001b[0m     FigureCanvasBase(fig)\n\u001b[0;32m--> 152\u001b[0m fig\u001b[39m.\u001b[39;49mcanvas\u001b[39m.\u001b[39;49mprint_figure(bytes_io, \u001b[39m*\u001b[39;49m\u001b[39m*\u001b[39;49mkw)\n\u001b[1;32m    153\u001b[0m data \u001b[39m=\u001b[39m bytes_io\u001b[39m.\u001b[39mgetvalue()\n\u001b[1;32m    154\u001b[0m \u001b[39mif\u001b[39;00m fmt \u001b[39m==\u001b[39m \u001b[39m'\u001b[39m\u001b[39msvg\u001b[39m\u001b[39m'\u001b[39m:\n",
      "File \u001b[0;32m~/GitHub/AIenv/lib/python3.10/site-packages/matplotlib/backend_bases.py:2342\u001b[0m, in \u001b[0;36mFigureCanvasBase.print_figure\u001b[0;34m(self, filename, dpi, facecolor, edgecolor, orientation, format, bbox_inches, pad_inches, bbox_extra_artists, backend, **kwargs)\u001b[0m\n\u001b[1;32m   2336\u001b[0m     renderer \u001b[39m=\u001b[39m _get_renderer(\n\u001b[1;32m   2337\u001b[0m         \u001b[39mself\u001b[39m\u001b[39m.\u001b[39mfigure,\n\u001b[1;32m   2338\u001b[0m         functools\u001b[39m.\u001b[39mpartial(\n\u001b[1;32m   2339\u001b[0m             print_method, orientation\u001b[39m=\u001b[39morientation)\n\u001b[1;32m   2340\u001b[0m     )\n\u001b[1;32m   2341\u001b[0m     \u001b[39mwith\u001b[39;00m \u001b[39mgetattr\u001b[39m(renderer, \u001b[39m\"\u001b[39m\u001b[39m_draw_disabled\u001b[39m\u001b[39m\"\u001b[39m, nullcontext)():\n\u001b[0;32m-> 2342\u001b[0m         \u001b[39mself\u001b[39;49m\u001b[39m.\u001b[39;49mfigure\u001b[39m.\u001b[39;49mdraw(renderer)\n\u001b[1;32m   2344\u001b[0m \u001b[39mif\u001b[39;00m bbox_inches:\n\u001b[1;32m   2345\u001b[0m     \u001b[39mif\u001b[39;00m bbox_inches \u001b[39m==\u001b[39m \u001b[39m\"\u001b[39m\u001b[39mtight\u001b[39m\u001b[39m\"\u001b[39m:\n",
      "File \u001b[0;32m~/GitHub/AIenv/lib/python3.10/site-packages/matplotlib/artist.py:95\u001b[0m, in \u001b[0;36m_finalize_rasterization.<locals>.draw_wrapper\u001b[0;34m(artist, renderer, *args, **kwargs)\u001b[0m\n\u001b[1;32m     93\u001b[0m \u001b[39m@wraps\u001b[39m(draw)\n\u001b[1;32m     94\u001b[0m \u001b[39mdef\u001b[39;00m \u001b[39mdraw_wrapper\u001b[39m(artist, renderer, \u001b[39m*\u001b[39margs, \u001b[39m*\u001b[39m\u001b[39m*\u001b[39mkwargs):\n\u001b[0;32m---> 95\u001b[0m     result \u001b[39m=\u001b[39m draw(artist, renderer, \u001b[39m*\u001b[39;49margs, \u001b[39m*\u001b[39;49m\u001b[39m*\u001b[39;49mkwargs)\n\u001b[1;32m     96\u001b[0m     \u001b[39mif\u001b[39;00m renderer\u001b[39m.\u001b[39m_rasterizing:\n\u001b[1;32m     97\u001b[0m         renderer\u001b[39m.\u001b[39mstop_rasterizing()\n",
      "File \u001b[0;32m~/GitHub/AIenv/lib/python3.10/site-packages/matplotlib/artist.py:72\u001b[0m, in \u001b[0;36mallow_rasterization.<locals>.draw_wrapper\u001b[0;34m(artist, renderer)\u001b[0m\n\u001b[1;32m     69\u001b[0m     \u001b[39mif\u001b[39;00m artist\u001b[39m.\u001b[39mget_agg_filter() \u001b[39mis\u001b[39;00m \u001b[39mnot\u001b[39;00m \u001b[39mNone\u001b[39;00m:\n\u001b[1;32m     70\u001b[0m         renderer\u001b[39m.\u001b[39mstart_filter()\n\u001b[0;32m---> 72\u001b[0m     \u001b[39mreturn\u001b[39;00m draw(artist, renderer)\n\u001b[1;32m     73\u001b[0m \u001b[39mfinally\u001b[39;00m:\n\u001b[1;32m     74\u001b[0m     \u001b[39mif\u001b[39;00m artist\u001b[39m.\u001b[39mget_agg_filter() \u001b[39mis\u001b[39;00m \u001b[39mnot\u001b[39;00m \u001b[39mNone\u001b[39;00m:\n",
      "File \u001b[0;32m~/GitHub/AIenv/lib/python3.10/site-packages/matplotlib/figure.py:3175\u001b[0m, in \u001b[0;36mFigure.draw\u001b[0;34m(self, renderer)\u001b[0m\n\u001b[1;32m   3172\u001b[0m         \u001b[39m# ValueError can occur when resizing a window.\u001b[39;00m\n\u001b[1;32m   3174\u001b[0m \u001b[39mself\u001b[39m\u001b[39m.\u001b[39mpatch\u001b[39m.\u001b[39mdraw(renderer)\n\u001b[0;32m-> 3175\u001b[0m mimage\u001b[39m.\u001b[39;49m_draw_list_compositing_images(\n\u001b[1;32m   3176\u001b[0m     renderer, \u001b[39mself\u001b[39;49m, artists, \u001b[39mself\u001b[39;49m\u001b[39m.\u001b[39;49msuppressComposite)\n\u001b[1;32m   3178\u001b[0m \u001b[39mfor\u001b[39;00m sfig \u001b[39min\u001b[39;00m \u001b[39mself\u001b[39m\u001b[39m.\u001b[39msubfigs:\n\u001b[1;32m   3179\u001b[0m     sfig\u001b[39m.\u001b[39mdraw(renderer)\n",
      "File \u001b[0;32m~/GitHub/AIenv/lib/python3.10/site-packages/matplotlib/image.py:131\u001b[0m, in \u001b[0;36m_draw_list_compositing_images\u001b[0;34m(renderer, parent, artists, suppress_composite)\u001b[0m\n\u001b[1;32m    129\u001b[0m \u001b[39mif\u001b[39;00m not_composite \u001b[39mor\u001b[39;00m \u001b[39mnot\u001b[39;00m has_images:\n\u001b[1;32m    130\u001b[0m     \u001b[39mfor\u001b[39;00m a \u001b[39min\u001b[39;00m artists:\n\u001b[0;32m--> 131\u001b[0m         a\u001b[39m.\u001b[39;49mdraw(renderer)\n\u001b[1;32m    132\u001b[0m \u001b[39melse\u001b[39;00m:\n\u001b[1;32m    133\u001b[0m     \u001b[39m# Composite any adjacent images together\u001b[39;00m\n\u001b[1;32m    134\u001b[0m     image_group \u001b[39m=\u001b[39m []\n",
      "File \u001b[0;32m~/GitHub/AIenv/lib/python3.10/site-packages/matplotlib/artist.py:72\u001b[0m, in \u001b[0;36mallow_rasterization.<locals>.draw_wrapper\u001b[0;34m(artist, renderer)\u001b[0m\n\u001b[1;32m     69\u001b[0m     \u001b[39mif\u001b[39;00m artist\u001b[39m.\u001b[39mget_agg_filter() \u001b[39mis\u001b[39;00m \u001b[39mnot\u001b[39;00m \u001b[39mNone\u001b[39;00m:\n\u001b[1;32m     70\u001b[0m         renderer\u001b[39m.\u001b[39mstart_filter()\n\u001b[0;32m---> 72\u001b[0m     \u001b[39mreturn\u001b[39;00m draw(artist, renderer)\n\u001b[1;32m     73\u001b[0m \u001b[39mfinally\u001b[39;00m:\n\u001b[1;32m     74\u001b[0m     \u001b[39mif\u001b[39;00m artist\u001b[39m.\u001b[39mget_agg_filter() \u001b[39mis\u001b[39;00m \u001b[39mnot\u001b[39;00m \u001b[39mNone\u001b[39;00m:\n",
      "File \u001b[0;32m~/GitHub/AIenv/lib/python3.10/site-packages/matplotlib/axes/_base.py:3064\u001b[0m, in \u001b[0;36m_AxesBase.draw\u001b[0;34m(self, renderer)\u001b[0m\n\u001b[1;32m   3061\u001b[0m \u001b[39mif\u001b[39;00m artists_rasterized:\n\u001b[1;32m   3062\u001b[0m     _draw_rasterized(\u001b[39mself\u001b[39m\u001b[39m.\u001b[39mfigure, artists_rasterized, renderer)\n\u001b[0;32m-> 3064\u001b[0m mimage\u001b[39m.\u001b[39;49m_draw_list_compositing_images(\n\u001b[1;32m   3065\u001b[0m     renderer, \u001b[39mself\u001b[39;49m, artists, \u001b[39mself\u001b[39;49m\u001b[39m.\u001b[39;49mfigure\u001b[39m.\u001b[39;49msuppressComposite)\n\u001b[1;32m   3067\u001b[0m renderer\u001b[39m.\u001b[39mclose_group(\u001b[39m'\u001b[39m\u001b[39maxes\u001b[39m\u001b[39m'\u001b[39m)\n\u001b[1;32m   3068\u001b[0m \u001b[39mself\u001b[39m\u001b[39m.\u001b[39mstale \u001b[39m=\u001b[39m \u001b[39mFalse\u001b[39;00m\n",
      "File \u001b[0;32m~/GitHub/AIenv/lib/python3.10/site-packages/matplotlib/image.py:131\u001b[0m, in \u001b[0;36m_draw_list_compositing_images\u001b[0;34m(renderer, parent, artists, suppress_composite)\u001b[0m\n\u001b[1;32m    129\u001b[0m \u001b[39mif\u001b[39;00m not_composite \u001b[39mor\u001b[39;00m \u001b[39mnot\u001b[39;00m has_images:\n\u001b[1;32m    130\u001b[0m     \u001b[39mfor\u001b[39;00m a \u001b[39min\u001b[39;00m artists:\n\u001b[0;32m--> 131\u001b[0m         a\u001b[39m.\u001b[39;49mdraw(renderer)\n\u001b[1;32m    132\u001b[0m \u001b[39melse\u001b[39;00m:\n\u001b[1;32m    133\u001b[0m     \u001b[39m# Composite any adjacent images together\u001b[39;00m\n\u001b[1;32m    134\u001b[0m     image_group \u001b[39m=\u001b[39m []\n",
      "File \u001b[0;32m~/GitHub/AIenv/lib/python3.10/site-packages/matplotlib/artist.py:72\u001b[0m, in \u001b[0;36mallow_rasterization.<locals>.draw_wrapper\u001b[0;34m(artist, renderer)\u001b[0m\n\u001b[1;32m     69\u001b[0m     \u001b[39mif\u001b[39;00m artist\u001b[39m.\u001b[39mget_agg_filter() \u001b[39mis\u001b[39;00m \u001b[39mnot\u001b[39;00m \u001b[39mNone\u001b[39;00m:\n\u001b[1;32m     70\u001b[0m         renderer\u001b[39m.\u001b[39mstart_filter()\n\u001b[0;32m---> 72\u001b[0m     \u001b[39mreturn\u001b[39;00m draw(artist, renderer)\n\u001b[1;32m     73\u001b[0m \u001b[39mfinally\u001b[39;00m:\n\u001b[1;32m     74\u001b[0m     \u001b[39mif\u001b[39;00m artist\u001b[39m.\u001b[39mget_agg_filter() \u001b[39mis\u001b[39;00m \u001b[39mnot\u001b[39;00m \u001b[39mNone\u001b[39;00m:\n",
      "File \u001b[0;32m~/GitHub/AIenv/lib/python3.10/site-packages/matplotlib/image.py:641\u001b[0m, in \u001b[0;36m_ImageBase.draw\u001b[0;34m(self, renderer, *args, **kwargs)\u001b[0m\n\u001b[1;32m    639\u001b[0m         renderer\u001b[39m.\u001b[39mdraw_image(gc, l, b, im, trans)\n\u001b[1;32m    640\u001b[0m \u001b[39melse\u001b[39;00m:\n\u001b[0;32m--> 641\u001b[0m     im, l, b, trans \u001b[39m=\u001b[39m \u001b[39mself\u001b[39;49m\u001b[39m.\u001b[39;49mmake_image(\n\u001b[1;32m    642\u001b[0m         renderer, renderer\u001b[39m.\u001b[39;49mget_image_magnification())\n\u001b[1;32m    643\u001b[0m     \u001b[39mif\u001b[39;00m im \u001b[39mis\u001b[39;00m \u001b[39mnot\u001b[39;00m \u001b[39mNone\u001b[39;00m:\n\u001b[1;32m    644\u001b[0m         renderer\u001b[39m.\u001b[39mdraw_image(gc, l, b, im)\n",
      "File \u001b[0;32m~/GitHub/AIenv/lib/python3.10/site-packages/matplotlib/image.py:949\u001b[0m, in \u001b[0;36mAxesImage.make_image\u001b[0;34m(self, renderer, magnification, unsampled)\u001b[0m\n\u001b[1;32m    946\u001b[0m transformed_bbox \u001b[39m=\u001b[39m TransformedBbox(bbox, trans)\n\u001b[1;32m    947\u001b[0m clip \u001b[39m=\u001b[39m ((\u001b[39mself\u001b[39m\u001b[39m.\u001b[39mget_clip_box() \u001b[39mor\u001b[39;00m \u001b[39mself\u001b[39m\u001b[39m.\u001b[39maxes\u001b[39m.\u001b[39mbbox) \u001b[39mif\u001b[39;00m \u001b[39mself\u001b[39m\u001b[39m.\u001b[39mget_clip_on()\n\u001b[1;32m    948\u001b[0m         \u001b[39melse\u001b[39;00m \u001b[39mself\u001b[39m\u001b[39m.\u001b[39mfigure\u001b[39m.\u001b[39mbbox)\n\u001b[0;32m--> 949\u001b[0m \u001b[39mreturn\u001b[39;00m \u001b[39mself\u001b[39;49m\u001b[39m.\u001b[39;49m_make_image(\u001b[39mself\u001b[39;49m\u001b[39m.\u001b[39;49m_A, bbox, transformed_bbox, clip,\n\u001b[1;32m    950\u001b[0m                         magnification, unsampled\u001b[39m=\u001b[39;49munsampled)\n",
      "File \u001b[0;32m~/GitHub/AIenv/lib/python3.10/site-packages/matplotlib/image.py:545\u001b[0m, in \u001b[0;36m_ImageBase._make_image\u001b[0;34m(self, A, in_bbox, out_bbox, clip_bbox, magnification, unsampled, round_to_pixel_border)\u001b[0m\n\u001b[1;32m    541\u001b[0m     \u001b[39m# Block the norm from sending an update signal during the\u001b[39;00m\n\u001b[1;32m    542\u001b[0m     \u001b[39m# temporary vmin/vmax change\u001b[39;00m\n\u001b[1;32m    543\u001b[0m     \u001b[39mwith\u001b[39;00m \u001b[39mself\u001b[39m\u001b[39m.\u001b[39mnorm\u001b[39m.\u001b[39mcallbacks\u001b[39m.\u001b[39mblocked(), \\\n\u001b[1;32m    544\u001b[0m          cbook\u001b[39m.\u001b[39m_setattr_cm(\u001b[39mself\u001b[39m\u001b[39m.\u001b[39mnorm, vmin\u001b[39m=\u001b[39ms_vmin, vmax\u001b[39m=\u001b[39ms_vmax):\n\u001b[0;32m--> 545\u001b[0m         output \u001b[39m=\u001b[39m \u001b[39mself\u001b[39;49m\u001b[39m.\u001b[39;49mnorm(resampled_masked)\n\u001b[1;32m    546\u001b[0m \u001b[39melse\u001b[39;00m:\n\u001b[1;32m    547\u001b[0m     \u001b[39mif\u001b[39;00m A\u001b[39m.\u001b[39mndim \u001b[39m==\u001b[39m \u001b[39m2\u001b[39m:  \u001b[39m# _interpolation_stage == 'rgba'\u001b[39;00m\n",
      "File \u001b[0;32m~/GitHub/AIenv/lib/python3.10/site-packages/matplotlib/colors.py:1336\u001b[0m, in \u001b[0;36mNormalize.__call__\u001b[0;34m(self, value, clip)\u001b[0m\n\u001b[1;32m   1333\u001b[0m \u001b[39mif\u001b[39;00m clip \u001b[39mis\u001b[39;00m \u001b[39mNone\u001b[39;00m:\n\u001b[1;32m   1334\u001b[0m     clip \u001b[39m=\u001b[39m \u001b[39mself\u001b[39m\u001b[39m.\u001b[39mclip\n\u001b[0;32m-> 1336\u001b[0m result, is_scalar \u001b[39m=\u001b[39m \u001b[39mself\u001b[39;49m\u001b[39m.\u001b[39;49mprocess_value(value)\n\u001b[1;32m   1338\u001b[0m \u001b[39mif\u001b[39;00m \u001b[39mself\u001b[39m\u001b[39m.\u001b[39mvmin \u001b[39mis\u001b[39;00m \u001b[39mNone\u001b[39;00m \u001b[39mor\u001b[39;00m \u001b[39mself\u001b[39m\u001b[39m.\u001b[39mvmax \u001b[39mis\u001b[39;00m \u001b[39mNone\u001b[39;00m:\n\u001b[1;32m   1339\u001b[0m     \u001b[39mself\u001b[39m\u001b[39m.\u001b[39mautoscale_None(result)\n",
      "File \u001b[0;32m~/GitHub/AIenv/lib/python3.10/site-packages/matplotlib/colors.py:1312\u001b[0m, in \u001b[0;36mNormalize.process_value\u001b[0;34m(value)\u001b[0m\n\u001b[1;32m   1310\u001b[0m mask \u001b[39m=\u001b[39m np\u001b[39m.\u001b[39mma\u001b[39m.\u001b[39mgetmask(value)\n\u001b[1;32m   1311\u001b[0m data \u001b[39m=\u001b[39m np\u001b[39m.\u001b[39masarray(value)\n\u001b[0;32m-> 1312\u001b[0m result \u001b[39m=\u001b[39m np\u001b[39m.\u001b[39;49mma\u001b[39m.\u001b[39;49marray(data, mask\u001b[39m=\u001b[39;49mmask, dtype\u001b[39m=\u001b[39;49mdtype, copy\u001b[39m=\u001b[39;49m\u001b[39mTrue\u001b[39;49;00m)\n\u001b[1;32m   1313\u001b[0m \u001b[39mreturn\u001b[39;00m result, is_scalar\n",
      "File \u001b[0;32m~/GitHub/AIenv/lib/python3.10/site-packages/numpy/ma/core.py:6665\u001b[0m, in \u001b[0;36marray\u001b[0;34m(data, dtype, copy, order, mask, fill_value, keep_mask, hard_mask, shrink, subok, ndmin)\u001b[0m\n\u001b[1;32m   6655\u001b[0m \u001b[39mdef\u001b[39;00m \u001b[39marray\u001b[39m(data, dtype\u001b[39m=\u001b[39m\u001b[39mNone\u001b[39;00m, copy\u001b[39m=\u001b[39m\u001b[39mFalse\u001b[39;00m, order\u001b[39m=\u001b[39m\u001b[39mNone\u001b[39;00m,\n\u001b[1;32m   6656\u001b[0m           mask\u001b[39m=\u001b[39mnomask, fill_value\u001b[39m=\u001b[39m\u001b[39mNone\u001b[39;00m, keep_mask\u001b[39m=\u001b[39m\u001b[39mTrue\u001b[39;00m,\n\u001b[1;32m   6657\u001b[0m           hard_mask\u001b[39m=\u001b[39m\u001b[39mFalse\u001b[39;00m, shrink\u001b[39m=\u001b[39m\u001b[39mTrue\u001b[39;00m, subok\u001b[39m=\u001b[39m\u001b[39mTrue\u001b[39;00m, ndmin\u001b[39m=\u001b[39m\u001b[39m0\u001b[39m):\n\u001b[1;32m   6658\u001b[0m \u001b[39m    \u001b[39m\u001b[39m\"\"\"\u001b[39;00m\n\u001b[1;32m   6659\u001b[0m \u001b[39m    Shortcut to MaskedArray.\u001b[39;00m\n\u001b[1;32m   6660\u001b[0m \n\u001b[0;32m   (...)\u001b[0m\n\u001b[1;32m   6663\u001b[0m \n\u001b[1;32m   6664\u001b[0m \u001b[39m    \"\"\"\u001b[39;00m\n\u001b[0;32m-> 6665\u001b[0m     \u001b[39mreturn\u001b[39;00m MaskedArray(data, mask\u001b[39m=\u001b[39;49mmask, dtype\u001b[39m=\u001b[39;49mdtype, copy\u001b[39m=\u001b[39;49mcopy,\n\u001b[1;32m   6666\u001b[0m                        subok\u001b[39m=\u001b[39;49msubok, keep_mask\u001b[39m=\u001b[39;49mkeep_mask,\n\u001b[1;32m   6667\u001b[0m                        hard_mask\u001b[39m=\u001b[39;49mhard_mask, fill_value\u001b[39m=\u001b[39;49mfill_value,\n\u001b[1;32m   6668\u001b[0m                        ndmin\u001b[39m=\u001b[39;49mndmin, shrink\u001b[39m=\u001b[39;49mshrink, order\u001b[39m=\u001b[39;49morder)\n",
      "File \u001b[0;32m~/GitHub/AIenv/lib/python3.10/site-packages/numpy/ma/core.py:2820\u001b[0m, in \u001b[0;36mMaskedArray.__new__\u001b[0;34m(cls, data, mask, dtype, copy, subok, ndmin, fill_value, keep_mask, hard_mask, shrink, order)\u001b[0m\n\u001b[1;32m   2811\u001b[0m \u001b[39m\u001b[39m\u001b[39m\"\"\"\u001b[39;00m\n\u001b[1;32m   2812\u001b[0m \u001b[39mCreate a new masked array from scratch.\u001b[39;00m\n\u001b[1;32m   2813\u001b[0m \n\u001b[0;32m   (...)\u001b[0m\n\u001b[1;32m   2817\u001b[0m \n\u001b[1;32m   2818\u001b[0m \u001b[39m\"\"\"\u001b[39;00m\n\u001b[1;32m   2819\u001b[0m \u001b[39m# Process data.\u001b[39;00m\n\u001b[0;32m-> 2820\u001b[0m _data \u001b[39m=\u001b[39m np\u001b[39m.\u001b[39;49marray(data, dtype\u001b[39m=\u001b[39;49mdtype, copy\u001b[39m=\u001b[39;49mcopy,\n\u001b[1;32m   2821\u001b[0m                  order\u001b[39m=\u001b[39;49morder, subok\u001b[39m=\u001b[39;49m\u001b[39mTrue\u001b[39;49;00m, ndmin\u001b[39m=\u001b[39;49mndmin)\n\u001b[1;32m   2822\u001b[0m _baseclass \u001b[39m=\u001b[39m \u001b[39mgetattr\u001b[39m(data, \u001b[39m'\u001b[39m\u001b[39m_baseclass\u001b[39m\u001b[39m'\u001b[39m, \u001b[39mtype\u001b[39m(_data))\n\u001b[1;32m   2823\u001b[0m \u001b[39m# Check that we're not erasing the mask.\u001b[39;00m\n",
      "\u001b[0;31mKeyboardInterrupt\u001b[0m: "
     ]
    }
   ],
   "source": [
    "algorithm = \"depthFirst\"\n",
    "\n",
    "maze, moveSet = setUpMaze(\"maze.txt\")\n",
    "workingCandidate,openList,closedList,atGoal = initialise(maze)\n",
    "\n",
    "atGoal,tested,complexity = runMainSearchLoop(maze,workingCandidate,openList, closedList)\n",
    "\n",
    "if(atGoal==False):\n",
    "    print('failed to find solution to the problem in the time allowed!') \n",
    "else:\n",
    "    print(f'Using algorithm {algorithm}, goal was found after {tested} tests with length {complexity}:')"
   ]
  },
  {
   "cell_type": "code",
   "execution_count": null,
   "metadata": {},
   "outputs": [
    {
     "data": {
      "application/vnd.jupyter.widget-view+json": {
       "model_id": "8bfb7b3d5976400c9aee578a2a24d2ea",
       "version_major": 2,
       "version_minor": 0
      },
      "text/plain": [
       "VBox(children=(Output(outputs=({'name': 'stdout', 'text': 'What type of search is implemented?\\n', 'output_typ…"
      ]
     },
     "metadata": {},
     "output_type": "display_data"
    },
    {
     "data": {
      "application/vnd.jupyter.widget-view+json": {
       "model_id": "980408c0e93048c698760b5b5a9aa723",
       "version_major": 2,
       "version_minor": 0
      },
      "text/plain": [
       "VBox(children=(Output(outputs=({'name': 'stdout', 'text': 'Which algorithm found a path to the goal state afte…"
      ]
     },
     "metadata": {},
     "output_type": "display_data"
    },
    {
     "data": {
      "application/vnd.jupyter.widget-view+json": {
       "model_id": "ea92788b638d4340a4dc16dd72b4f5fe",
       "version_major": 2,
       "version_minor": 0
      },
      "text/plain": [
       "VBox(children=(Output(outputs=({'name': 'stdout', 'text': 'How did the quality of solutions found by depth and…"
      ]
     },
     "metadata": {},
     "output_type": "display_data"
    },
    {
     "data": {
      "application/vnd.jupyter.widget-view+json": {
       "model_id": "339afde8f2c44e299e23a22c26cccf34",
       "version_major": 2,
       "version_minor": 0
      },
      "text/plain": [
       "VBox(children=(Output(outputs=({'name': 'stdout', 'text': 'Of the algorithms that found the optimal solution, …"
      ]
     },
     "metadata": {},
     "output_type": "display_data"
    }
   ],
   "source": [
    "display(wb12.Q1)\n",
    "display(wb12.Q2)\n",
    "display(wb12.Q3)\n",
    "display(wb12.Q4)"
   ]
  },
  {
   "cell_type": "markdown",
   "metadata": {},
   "source": [
    "<div class=\"alert alert-warning\" style=\"color:black\">\n",
    "    <h2> Activity 3: Testing your understanding by creating new instances to <it>break</it> algorithms</h2>\n",
    "    <p> The cell below illustrates how to create a new instance of the path-finding problem by changing walls into paths or vice-versa.</p>\n",
    "    <p><b> Experiment with creating new mazes then answer the following questions.</b></p>\n",
    "    </div>\n",
    "    \n",
    "<div class=\"alert alert-info\" style=\"color:black\">\n",
    "    <h2> To make the code run faster ...</h2>\n",
    "    <p> The method that shows the search state has the following signature: <br>\n",
    "        def displaySearchState(theMaze:Maze, current:CandidateSolution, openList,algname,steps, refresh_rate= 0.0075):<br>\n",
    "        You can make your search run faster by changing the pause between steps (refresh_rate), then restarting the kernel  and re-importing the module<br>\n",
    "        But be wary - this may create flashing outputs.\n",
    "</div.\n",
    "     \n",
    "     "
   ]
  },
  {
   "cell_type": "code",
   "execution_count": 22,
   "metadata": {},
   "outputs": [
    {
     "name": "stdout",
     "output_type": "stream",
     "text": [
      "first plot shows the initial maze\n",
      "second plot shows removing a wall cell\n",
      "third plot shows creating a new all cell near the bottom right\n"
     ]
    },
    {
     "data": {
      "image/png": "[encoded data removed]",
      "text/plain": [
       "<Figure size 500x500 with 1 Axes>"
      ]
     },
     "metadata": {},
     "output_type": "display_data"
    },
    {
     "data": {
      "image/png": "[encoded data removed]",
      "text/plain": [
       "<Figure size 500x500 with 1 Axes>"
      ]
     },
     "metadata": {},
     "output_type": "display_data"
    },
    {
     "data": {
      "image/png": "[encoded data removed]",
      "text/plain": [
       "<Figure size 500x500 with 1 Axes>"
      ]
     },
     "metadata": {},
     "output_type": "display_data"
    }
   ],
   "source": [
    "algorithm = \"depthFirst\"\n",
    "\n",
    "maze, moveSet = setUpMaze(\"maze.txt\")\n",
    "print(\"first plot shows the initial maze\")\n",
    "#this is an example of how to make a hole in a wall\n",
    "#in this case just below the entrance \n",
    "# the first value is for the row of the cell to change, the second for the column\n",
    "print(\"second plot shows removing a wall cell\")\n",
    "\n",
    "maze.contents[8][1] = 1\n",
    "maze.showMaze()\n",
    "\n",
    "# and this turns a path into a wall\n",
    "print(\"third plot shows creating a new all cell near the bottom right\")\n",
    "maze.contents[6][17] = 0\n",
    "maze.showMaze()"
   ]
  },
  {
   "cell_type": "code",
   "execution_count": 24,
   "metadata": {},
   "outputs": [
    {
     "data": {
      "image/png": "[encoded data removed]",
      "text/plain": [
       "<Figure size 750x750 with 1 Axes>"
      ]
     },
     "metadata": {},
     "output_type": "display_data"
    },
    {
     "name": "stdout",
     "output_type": "stream",
     "text": [
      "Using algorithm depthFirst, goal was found after 726 tests with length 101\n"
     ]
    }
   ],
   "source": [
    "workingCandidate,openList,closedList,atGoal = initialise(maze)\n",
    "\n",
    "atGoal,tested,complexity = runMainSearchLoop(maze,workingCandidate,openList, closedList)\n",
    "\n",
    "if(atGoal==False):\n",
    "    print('failed to find solution to the problem in the time allowed!') \n",
    "else:\n",
    "    print(f'Using algorithm {algorithm}, goal was found after {tested} tests with length {complexity}')"
   ]
  },
  {
   "cell_type": "code",
   "execution_count": 9,
   "metadata": {},
   "outputs": [
    {
     "data": {
      "application/vnd.jupyter.widget-view+json": {
       "model_id": "055cfe067ef646c8810854ffde0dae26",
       "version_major": 2,
       "version_minor": 0
      },
      "text/plain": [
       "VBox(children=(Output(outputs=({'name': 'stdout', 'text': 'Does depth-first successfully solve all instances o…"
      ]
     },
     "metadata": {},
     "output_type": "display_data"
    },
    {
     "data": {
      "application/vnd.jupyter.widget-view+json": {
       "model_id": "3834fcf1444e47c3b9767623c55c06cb",
       "version_major": 2,
       "version_minor": 0
      },
      "text/plain": [
       "VBox(children=(Output(outputs=({'name': 'stdout', 'text': 'Does the rank-order of efficiency the complete algo…"
      ]
     },
     "metadata": {},
     "output_type": "display_data"
    }
   ],
   "source": [
    "\n",
    "\n",
    "display(wb12.Q5)\n",
    "display(wb12.Q6)\n"
   ]
  },
  {
   "cell_type": "markdown",
   "metadata": {},
   "source": [
    "<h2> Now  could you try and get them to try to create a maze pattern that will break the searching algorithm (and explain why it broke the algorithm ) </h2>"
   ]
  },
  {
   "cell_type": "markdown",
   "metadata": {},
   "source": [
    "<div class = \"alert alert-warning\" style=\"color:black\">\n",
    "<h2>Activity4 (stretch): Changing the direction we search the maze</h2>\n",
    "    <ul>\n",
    "        <li>The order in which the mazes is searched (i.e. left-first or right first) is determined the order that we create neighbours and put them on the openList.   </li>\n",
    "       <li> This is held in the array moveSet is initialised in setUpMaze() as moveSet = [leftMove,rightMove, upMove,downMove] <br>(look in setUpMaze() to see how the values for these four variables are calculated according to the size of the maze).</li>\n",
    "        <b> After the call to setUpMaze you could print out then reorder the contents of movesewt.  Do you think this will make a difference?</b>\n",
    "    </ul>   \n",
    "        </div>"
   ]
  },
  {
   "cell_type": "markdown",
   "metadata": {},
   "source": [
    "<div class=\"alert alert-block alert-danger\"> Please save your work (click the save icon) then shutdown the notebook when you have finished with this tutorial (menu->file->close and shutdown notebook</div>\n",
    "\n",
    "<div class=\"alert alert-block alert-danger\"> Remember to download and save your work if you are not running this notebook locally.</div>"
   ]
  }
 ],
 "metadata": {
  "kernelspec": {
   "display_name": "Python 3 (ipykernel)",
   "language": "python",
   "name": "python3"
  },
  "language_info": {
   "codemirror_mode": {
    "name": "ipython",
    "version": 3
   },
   "file_extension": ".py",
   "mimetype": "text/x-python",
   "name": "python",
   "nbconvert_exporter": "python",
   "pygments_lexer": "ipython3",
   "version": "3.10.5"
  }
 },
 "nbformat": 4,
 "nbformat_minor": 4
}
