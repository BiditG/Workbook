{
 "cells": [
  {
   "cell_type": "markdown",
   "id": "7dea5538-7e30-4824-a665-73c32d7f2e3b",
   "metadata": {},
   "source": [
    "# Week 4: Search in Continuous Spaces"
   ]
  }
 ],
 "metadata": {
  "kernelspec": {
   "display_name": "py10",
   "language": "python",
   "name": "py10"
  },
  "language_info": {
   "codemirror_mode": {
    "name": "ipython",
    "version": 3
   },
   "file_extension": ".py",
   "mimetype": "text/x-python",
   "name": "python",
   "nbconvert_exporter": "python",
   "pygments_lexer": "ipython3",
   "version": "3.10.6"
  }
 },
 "nbformat": 4,
 "nbformat_minor": 5
}
