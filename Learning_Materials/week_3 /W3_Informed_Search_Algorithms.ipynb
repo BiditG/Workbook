{
 "cells": [
  {
   "cell_type": "markdown",
   "metadata": {
    "slideshow": {
     "slide_type": "slide"
    }
   },
   "source": [
    "## Informed Search Algorithms\n",
    "### Artificial Intelligence 1: week 3"
   ]
  },
  {
   "cell_type": "markdown",
   "metadata": {
    "slideshow": {
     "slide_type": "slide"
    }
   },
   "source": [
    "## This week\n",
    "- Recap: uninformed search algorithms for decision problems\n",
    "\n",
    "- Heuristic Quality Functions\n",
    "\n",
    "- General framework for informed search\n",
    "  - Search guided by cost/quality function  \n",
    "    Without backtracking:  Hill Climbing (local search)  \n",
    "    With backtracking: Best-First Search\n",
    "  - Search taking into account cost of steps taken  \n",
    "    Dijkstra (path-finding),  A* \n",
    "    \n",
    "- Example applications:\n",
    "    - inside Machine Learning algorithms\n",
    "    - path-finding\n",
    "    - optimisation\n",
    "    \n",
    "- Strengths and weaknesses to take into account  \n",
    "  when selecting a search algorithm to apply to a problem\n",
    "  "
   ]
  },
  {
   "cell_type": "markdown",
   "metadata": {
    "slideshow": {
     "slide_type": "slide"
    }
   },
   "source": [
    "## Recap: common framework\n",
    "<img src=\"./figures/generate-and-test-framework.png\" style=\"float:right\" >\n",
    "\n",
    "\n"
   ]
  },
  {
   "cell_type": "markdown",
   "metadata": {
    "slideshow": {
     "slide_type": "slide"
    }
   },
   "source": [
    "## Recap: Decision problems:\n",
    "- yes / no answer (needle in a haystack), so nothing to guide search\n",
    "- e.g. logic puzzles, combination lock, \n",
    "- but lots of real world examples too\n",
    "\n",
    "Depth-First and Breadth-first search\n",
    "- up and down the tree or across side to side"
   ]
  },
  {
   "cell_type": "code",
   "execution_count": 1,
   "metadata": {
    "slideshow": {
     "slide_type": "slide"
    },
    "tags": []
   },
   "outputs": [],
   "source": [
    "from workbook3_utils import Maze, CandidateSolution,  display_search_state\n",
    "import matplotlib.pyplot as plt\n",
    "import copy\n",
    "import numpy as np\n",
    "from time import sleep\n",
    "from IPython.display import clear_output\n",
    "%matplotlib inline\n",
    "\n",
    "\n",
    "maze = Maze()\n",
    "\n",
    "\n"
   ]
  },
  {
   "cell_type": "code",
   "execution_count": 2,
   "metadata": {
    "slideshow": {
     "slide_type": "slide"
    },
    "tags": []
   },
   "outputs": [],
   "source": [
    "#### INITIALISE SEARCH ###\n",
    "def initialise(maze):\n",
    "    working_candidate = CandidateSolution()\n",
    "    # get start position on maze and set this as start for search\n",
    "\n",
    "    maze.setup(mazefilename=\"maze.txt\", start=(0, 9), end=(20, 11))\n",
    "    working_candidate.variable_values.append(maze.start)\n",
    "\n",
    "    # measure quality\n",
    "    working_candidate.quality = maze.evaluate(working_candidate)\n",
    "\n",
    "    # check for lucky guess\n",
    "    if maze.is_at_goal(working_candidate):\n",
    "        print(\"solution found\")\n",
    "        at_goal = True\n",
    "    else:\n",
    "        open_list = []\n",
    "        closed_list = []\n",
    "        open_list.append(working_candidate)\n",
    "        at_goal = False\n",
    "\n",
    "    # show first stage\n",
    "    display_search_state(maze, working_candidate, open_list, algorithm, 0)\n",
    "\n",
    "    return working_candidate, open_list, closed_list, at_goal"
   ]
  },
  {
   "cell_type": "code",
   "execution_count": 3,
   "metadata": {
    "slideshow": {
     "slide_type": "slide"
    },
    "tags": []
   },
   "outputs": [],
   "source": [
    "##================= MAIN SEACH LOOP =================\n",
    "def runMainSearchLoop(\n",
    "    maze: Maze, working_candidate: CandidateSolution, open_list: list, closed_list: list\n",
    "):\n",
    "    iteration = 0\n",
    "    tested = 0\n",
    "    at_goal = False\n",
    "\n",
    "    # WHILE ( Openlist not empty) DO\n",
    "    while at_goal == False and len(open_list) > 0 and iteration < 1000:\n",
    "        iteration = iteration + 1\n",
    "        print(\"\")\n",
    "\n",
    "        ######### MOVE (chosen item from openList into working candidate)\n",
    "        nextItem = get_next_item_for_algorithm(algorithm, open_list)\n",
    "        working_candidate = open_list.pop(nextItem)\n",
    "\n",
    "        # this is just for the sake of visualisation\n",
    "        display_search_state(maze, working_candidate, open_list, algorithm, tested)\n",
    "\n",
    "        ######## GENERATE ONE STEP. NEIGHBOURS.\n",
    "        # FOREACH (1-step neighbour)\n",
    "        for move in maze.move_set:\n",
    "            ##### Generate NEIGHBOUR #####\n",
    "            neighbour = copy.deepcopy(working_candidate)\n",
    "\n",
    "            # neighbour = ApplyMoveOperator(workingCandidate)\n",
    "            last_cell = neighbour.variable_values[\n",
    "                -1\n",
    "            ]  # neat bit of python indexing that returns last item in list\n",
    "            next_cell = last_cell + move\n",
    "            neighbour.variable_values.append(next_cell)\n",
    "\n",
    "            ##### TEST NEIGHBOUR   ######\n",
    "            neighbour.quality, _ = maze.evaluate(neighbour)\n",
    "            tested += 1\n",
    "\n",
    "            # IF AT GOAL OUTPUT (SUCCESS, neighbour)\n",
    "            if maze.is_at_goal(neighbour):\n",
    "                display_search_state(maze, neighbour, open_list, algorithm, tested)\n",
    "                at_goal = True\n",
    "                break  ##takes us out of for loop\n",
    "\n",
    "            ### ELSE UPDATE WORKING MEMORY ###\n",
    "            elif neighbour.quality >= 0:  # neighbour is feasible\n",
    "                open_list.append(neighbour)\n",
    "            else:  # neighbour is infeasible\n",
    "                closed_list.append(neighbour)\n",
    "\n",
    "        #### END OF FOR LOOP\n",
    "        ##COPY (working candidate to closedList)\n",
    "        closed_list.append(working_candidate)\n",
    "\n",
    "    ##### END OF WHILE LOOP ###\n",
    "\n",
    "    return at_goal, tested, len(neighbour.variable_values)"
   ]
  },
  {
   "cell_type": "code",
   "execution_count": 4,
   "metadata": {
    "slideshow": {
     "slide_type": "slide"
    },
    "tags": []
   },
   "outputs": [],
   "source": [
    "def get_next_item_for_algorithm(algorithm: str, open_list: list):\n",
    "    next = -1\n",
    "    numEntries = len(openList)\n",
    "    # check openList is not empty\n",
    "    if numEntries == 0:\n",
    "        print(\"openList was empty!\")\n",
    "\n",
    "    else:\n",
    "        if algorithm == \"depthFirst\":\n",
    "            # return last thing added\n",
    "            next = len(openList) - 1\n",
    "\n",
    "        elif algorithm == \"breadthFirst\":\n",
    "            # return oldest thing on list\n",
    "            next = 0\n",
    "\n",
    "        else:\n",
    "            print(\"unrecognised algorithm\")\n",
    "\n",
    "    return next"
   ]
  },
  {
   "cell_type": "code",
   "execution_count": 5,
   "metadata": {
    "slideshow": {
     "slide_type": "slide"
    },
    "tags": []
   },
   "outputs": [
    {
     "data": {
      "image/png": "[encoded data removed]",
      "text/plain": [
       "<Figure size 500x500 with 1 Axes>"
      ]
     },
     "metadata": {},
     "output_type": "display_data"
    },
    {
     "name": "stdout",
     "output_type": "stream",
     "text": [
      "Using algorithm depthFirst, goal was found after 410 tests with length 79:\n"
     ]
    }
   ],
   "source": [
    "algorithm = \"depthFirst\"\n",
    "\n",
    "workingCandidate, openList, closedList, atGoal = initialise(maze)\n",
    "\n",
    "atGoal, tested, complexity = runMainSearchLoop(\n",
    "    maze, workingCandidate, openList, closedList\n",
    ")\n",
    "\n",
    "if atGoal == False:\n",
    "    print(\"failed to find solution to the problem in the time allowed!\")\n",
    "else:\n",
    "    print(\n",
    "        \"Using algorithm {}, goal was found after {} tests with length {}:\".format(\n",
    "            algorithm, tested, complexity\n",
    "        )\n",
    "    )"
   ]
  },
  {
   "cell_type": "code",
   "execution_count": 6,
   "metadata": {
    "slideshow": {
     "slide_type": "slide"
    },
    "tags": []
   },
   "outputs": [
    {
     "data": {
      "image/png": "[encoded data removed]",
      "text/plain": [
       "<Figure size 500x500 with 1 Axes>"
      ]
     },
     "metadata": {},
     "output_type": "display_data"
    },
    {
     "name": "stdout",
     "output_type": "stream",
     "text": [
      "Using algorithm breadthFirst, goal was found after 1110 tests with length 59:\n"
     ]
    }
   ],
   "source": [
    "algorithm = \"breadthFirst\"\n",
    "\n",
    "workingCandidate, openList, closedList, atGoal = initialise(maze)\n",
    "\n",
    "atGoal, tested, complexity = runMainSearchLoop(\n",
    "    maze, workingCandidate, openList, closedList\n",
    ")\n",
    "\n",
    "if atGoal == False:\n",
    "    print(\"failed to find solution to the problem in the time allowed!\")\n",
    "else:\n",
    "    print(\n",
    "        \"Using algorithm {}, goal was found after {} tests with length {}:\".format(\n",
    "            algorithm, tested, complexity\n",
    "        )\n",
    "    )"
   ]
  },
  {
   "cell_type": "markdown",
   "metadata": {
    "slideshow": {
     "slide_type": "slide"
    }
   },
   "source": [
    "# above maze things are good and show both how they work, why depth migth not get the best soulution and how depth might take much longer; it might be good to have them on the previous week when your introducing each of the serch algorithms the first time \n",
    "# Pause"
   ]
  },
  {
   "cell_type": "markdown",
   "metadata": {
    "slideshow": {
     "slide_type": "slide"
    }
   },
   "source": [
    "## How could we make those better?<img src=\"figures/timer.png\" style=\"float:right\" width = 15%>\n",
    "\n",
    "\n",
    "Breadth/depth-first generate nodes to test:\n",
    "-  based on the shape of the tree,\n",
    "- ignoring  how good the solutions are,  \n",
    "- or how close they might be to the goal state.\n",
    "\n",
    "we say they are “blind” or “uninformed”."
   ]
  },
  {
   "cell_type": "markdown",
   "metadata": {
    "slideshow": {
     "slide_type": "fragment"
    }
   },
   "source": [
    "More efficient approach is to incorporate information about how close you are to the solution\n",
    "\n",
    "USE ANYTHING YOU HAVE TO HAND if it helps you avoid constraints!\n",
    "\n",
    "<img src=\"figures/multitool.png\" style=\"float:right\" width = 20%>"
   ]
  },
  {
   "cell_type": "markdown",
   "metadata": {
    "slideshow": {
     "slide_type": "slide"
    }
   },
   "source": [
    "## Quality Functions\n",
    "Natural for some problems, e.g.:\n",
    "- **Model Building**: error rate of model on training set,\n",
    "- **Optimisation**: Distance, cost, payoff\n",
    "- **Prediction**: error rate of model in real world…\n",
    "\n",
    "Often more than one\n",
    "- hence **“heuristic”** (rule of thumb)\n",
    "- Some may take more effort to calculate\n",
    "  - simulations run at different fidelity,\n",
    "  - User studies with different sized groups\n"
   ]
  },
  {
   "cell_type": "markdown",
   "metadata": {
    "slideshow": {
     "slide_type": "slide"
    }
   },
   "source": [
    "## Estimated Quality Measures\n",
    "For other problems we can define a\n",
    "\t“heuristic evaluation function” , h(n)  for each node n:\n",
    " - provides information to **guide**  *informed search*.\n",
    " - **estimates** how far a node is from the goal state,\n",
    "\n",
    "Comparing two nodes m  and n \n",
    "- h(m) < h(n) implies m is closer to the goal.\n",
    "- So typically we look to **minimise** the function.\n",
    "\n",
    "Also known as a ...  \n",
    "  cost function  \n",
    "  quality function,  \n",
    "  ‘score’,  \n",
    "  ‘fitness’  (to be maximised)\n"
   ]
  },
  {
   "cell_type": "markdown",
   "metadata": {
    "slideshow": {
     "slide_type": "slide"
    }
   },
   "source": [
    "## Choosing Heuristic Functions\n",
    " Should be quick to calculate\n",
    " \n",
    " Might simplify or ignore constraints (especially 'soft' ones)\n",
    " \n",
    " The more different levels the better (provide more information to search)\n",
    " \n",
    " Should be \"optimistic\" (underestimate distance/cost)\n",
    "  - e.g. training set accuracy underestimates error on unseen data"
   ]
  },
  {
   "cell_type": "code",
   "execution_count": null,
   "metadata": {
    "slideshow": {
     "slide_type": "slide"
    }
   },
   "outputs": [],
   "source": [
    "from mpl_toolkits.mplot3d import Axes3D  # noqa: F401 unused import\n",
    "\n",
    "import matplotlib.pyplot as plt\n",
    "from matplotlib import cm\n",
    "from matplotlib.ticker import LinearLocator, FormatStrFormatter\n",
    "import numpy as np\n",
    "\n",
    "# Make data.\n",
    "X = np.arange(-5, 5, 0.01)\n",
    "Y = np.arange(-5, 5, 0.01)\n",
    "X, Y = np.meshgrid(X, Y)\n",
    "R = np.sqrt(X**2 + Y**2)\n",
    "Z1 = np.round(np.sin(R) * 2, 0)\n",
    "Z2 = np.round(np.sin(R) * 2, 1)"
   ]
  },
  {
   "cell_type": "code",
   "execution_count": null,
   "metadata": {
    "slideshow": {
     "slide_type": "subslide"
    }
   },
   "outputs": [],
   "source": [
    "# Plot the surfaces.\n",
    "# Z1 (left) only has integer parts\n",
    "# Z2 (right) has one decimal place\n",
    "fig = plt.figure(figsize=(16, 12))\n",
    "ax1 = fig.add_subplot(121, projection=\"3d\")\n",
    "ax2 = fig.add_subplot(122, projection=\"3d\")\n",
    "fig.suptitle(\"Example search landscape with different precision for quality function\")\n",
    "ax1.set_title(\"Integer \")\n",
    "ax2.set_title(\"float with one decimal place \")\n",
    "surf1 = ax1.plot_surface(X, Y, Z1, cmap=cm.jet, antialiased=True)\n",
    "surf2 = ax2.plot_surface(X, Y, Z2, cmap=cm.jet, antialiased=True)\n",
    "plt.tight_layout()\n",
    "plt.show()"
   ]
  },
  {
   "cell_type": "markdown",
   "metadata": {
    "cell_style": "center",
    "slideshow": {
     "slide_type": "slide"
    }
   },
   "source": [
    "## Adding heuristic functions to our generate and test code\n",
    "\n",
    "Minor change to pseudocode we had for depth and breadth first:\n",
    "\n",
    "Now our Evaluate() function gives some idea of quality instead of just feasibility\n",
    "\n",
    "So we can add a line to sort by that value (or just find the index of the best in our openlist)\n",
    "\n",
    "Could do the same with blindsearch using quality = age\n",
    "\n",
    "- Depth|Breadth => sort increasing | decreasing\n",
    " - But don’t usually bother to add the extra time spent sorting\n"
   ]
  },
  {
   "cell_type": "markdown",
   "metadata": {
    "cell_style": "center",
    "slideshow": {
     "slide_type": "slide"
    }
   },
   "source": [
    "## Pseudocode for informed search\n",
    "### Common initialisation \n",
    "    \n",
    "    ## make initial guess,  \n",
    "    SET workingCandidate = StartSolution\n",
    "    ## Test it\n",
    "    Evaluate (workingCandidate)\n",
    "    IF( IsAtGoal(workingCandidate)) \n",
    "        OUTPUT (SUCCESS, workingCandidate)\n",
    "    ## Start the openList \n",
    "    APPEND workingCandidate to openList\n",
    "    "
   ]
  },
  {
   "cell_type": "markdown",
   "metadata": {
    "cell_style": "center",
    "slideshow": {
     "slide_type": "subslide"
    }
   },
   "source": [
    "    WHILE ( Openlist not empty) DO\n",
    "      SORT(OpenList)                  ## This is the new line \n",
    "      MOVE (first item from openList into working candidate)\n",
    "      FOREACH (1-step neighbour)\n",
    "        neighbour = ApplyMoveOperator(workingCandidate)  ## Generate\n",
    "        Evaluate(neighbour)                              ## Test \n",
    "\t    IF(IsAtGoal(neighbour))\n",
    "          OUTPUT (SUCCESS, neighbour)\n",
    "        ELSE IF (neighbor is feasible)                   ## Update Memory\n",
    "          APPEND( neighbor to end of openList)\n",
    "        ELSE\n",
    "          APPEND( neighbor to end of closedList)\n",
    "      COPY (working candidate to closedList)\n",
    " \n",
    "    ** only get this far if we've run out of candidate solutions to test\n",
    "    OUTPUT (FAILURE, workingCandidate)\n",
    "\n",
    "\n",
    "\n",
    "\n",
    "\n",
    "<div class=\"alert alert-block alert-danger\"> The only difference is the extra line at the start of  each iteration: <b>Sort(OpenList)</b> <br>Sorting our list once makes things faster if we subsequently insert things in the right place to keep it sorted. <br>\n",
    "<b>But we can just leave unsorted and pick the best according to our sort criteria</b></div> "
   ]
  },
  {
   "cell_type": "markdown",
   "metadata": {
    "slideshow": {
     "slide_type": "slide"
    }
   },
   "source": [
    "# Pause"
   ]
  },
  {
   "cell_type": "markdown",
   "metadata": {
    "cell_style": "center",
    "slideshow": {
     "slide_type": "slide"
    }
   },
   "source": [
    "## Simple example: Hill Climbing local search\n",
    "\n",
    "Sorts list by decreasing quality <=> increasing distance_to_goal\n",
    "\n",
    "Doesn’t allow back-tracking \n",
    "  - Discard all but first node after sorting.\n",
    "\n",
    "In practice: examine child-nodes then:\n",
    " - move to one with better heuristic value if exists,\n",
    " - else stop (even if goal / global optimum not reached)\n",
    "\n",
    "greedy/steepest ascent variants:\n",
    " - Examine all child nodes and follow first / best  improvement.\n",
    "\n",
    "**Quick but gets stuck in local optima**\n"
   ]
  },
  {
   "cell_type": "markdown",
   "metadata": {
    "cell_style": "center",
    "slideshow": {
     "slide_type": "slide"
    }
   },
   "source": [
    " ## Pseudocode for hill-climbing (main loop only)\n",
    " \n",
    "    WHILE ( Openlist not empty) DO\n",
    "      SORT(OpenList by increasing distance to goal)  #quality\n",
    "      DELETE(all but first item in openlist)         # no backtracking\n",
    "      MOVE (first item from openList into working candidate)\n",
    "      FOREACH (1-step neighbour)\n",
    "        neighbour = ApplyMoveOperator(workingCandidate)  \n",
    "        Evaluate(neighbour)                               \n",
    "\t    IF(IsAtGoal(neighbour))\n",
    "          OUTPUT (SUCCESS, neighbour)\n",
    "        ELSE IF (neighbor is better than workingCandidate) #stop at plateau    \n",
    "          APPEND( neighbor to end of openList)\n",
    "        ELSE\n",
    "          APPEND( neighbour to end of closedList)\n",
    "      COPY (working candidate to closedList)\n"
   ]
  },
  {
   "cell_type": "code",
   "execution_count": null,
   "metadata": {
    "slideshow": {
     "slide_type": "slide"
    }
   },
   "outputs": [],
   "source": [
    "def getNextItemForAlgorithm(algorithm, openList):\n",
    "    next = -1\n",
    "    numEntries = len(openList)\n",
    "    # check openList is not empty\n",
    "    if numEntries == 0:\n",
    "        print(\"openList was empty!\")\n",
    "\n",
    "    else:\n",
    "        if algorithm == \"depthFirst\":\n",
    "            # return last thing added\n",
    "            next = len(openList) - 1\n",
    "\n",
    "        elif algorithm == \"breadthFirst\":\n",
    "            # return oldest thing on list\n",
    "            next = 0\n",
    "\n",
    "        elif algorithm == \"localSearch\":\n",
    "            # loop through list looking for entry with highest quality\n",
    "            best = 0\n",
    "            for pos in range(1, (numEntries - 1)):\n",
    "                if openList[pos].quality < openList[best].quality:\n",
    "                    best = pos\n",
    "            next = best\n",
    "\n",
    "        else:\n",
    "            print(\"unrecognised algorithm\")\n",
    "\n",
    "    return next"
   ]
  },
  {
   "cell_type": "code",
   "execution_count": null,
   "metadata": {
    "slideshow": {
     "slide_type": "slide"
    }
   },
   "outputs": [],
   "source": [
    "##================= MAIN SEACH LOOP =================\n",
    "def runMainSearchLoop(maze, workingCandidate, openList, closedList):\n",
    "    iteration = 0\n",
    "    tested = 0\n",
    "    atGoal = False\n",
    "\n",
    "    # WHILE ( Openlist not empty) DO\n",
    "    while atGoal == False and len(openList) > 0 and iteration < 1000:\n",
    "        iteration = iteration + 1\n",
    "\n",
    "        ######### MOVE (chosen item from openList into working candidate)\n",
    "        nextItem = getNextItemForAlgorithm(algorithm, openList)\n",
    "        workingCandidate = openList.pop(nextItem)\n",
    "        if algorithm == \"localSearch\":\n",
    "            openList.clear()\n",
    "\n",
    "        # this is just for the sake of visualisation\n",
    "        displaySearchState(maze, workingCandidate, openList, algorithm, tested)\n",
    "\n",
    "        ######## GENERATE ONE STEP. NEIGHBOURS.\n",
    "        # FOREACH (1-step neighbour)\n",
    "        for move in moveSet:\n",
    "            ##### Generate NEIGHBOUR #####\n",
    "            neighbour = copy.deepcopy(workingCandidate)\n",
    "\n",
    "            # neighbour = ApplyMoveOperator(workingCandidate)\n",
    "            lastCell = neighbour.variableValues[\n",
    "                -1\n",
    "            ]  # neat bit of python indexing that returns last item in list\n",
    "            nextCell = lastCell + move\n",
    "            neighbour.variableValues.append(nextCell)\n",
    "\n",
    "            ##### TEST NEIGHBOUR   ######\n",
    "            evaluate(neighbour, maze)\n",
    "            tested += 1\n",
    "\n",
    "            # IF AT GOAL OUTPUT (SUCCESS, neighbour)\n",
    "            if IsAtGoal(neighbour, maze):\n",
    "                displaySearchState(maze, neighbour, openList, algorithm, tested)\n",
    "                atGoal = True\n",
    "                break  ##takes us out of for loop\n",
    "\n",
    "            ### ELSE UPDATE WORKING MEMORY ###\n",
    "            elif neighbour.quality >= 0:  # neighbour is feasible\n",
    "                openList.append(neighbour)\n",
    "            else:  # neighbour is infeasible\n",
    "                closedList.append(neighbour)\n",
    "\n",
    "        #### END OF FOR LOOP\n",
    "        ##COPY (working candidate to closedList)\n",
    "        closedList.append(workingCandidate)\n",
    "\n",
    "    ##### END OF WHILE LOOP ###\n",
    "\n",
    "    return atGoal, tested, len(neighbour.variableValues)"
   ]
  },
  {
   "cell_type": "code",
   "execution_count": null,
   "metadata": {
    "scrolled": true,
    "slideshow": {
     "slide_type": "slide"
    }
   },
   "outputs": [],
   "source": [
    "algorithm = \"localSearch\"\n",
    "\n",
    "workingCandidate, openList, closedList, atGoal = initialise(maze)\n",
    "\n",
    "atGoal, tested, complexity = runMainSearchLoop(\n",
    "    maze, workingCandidate, openList, closedList\n",
    ")\n",
    "\n",
    "if atGoal == False:\n",
    "    print(\"failed to find solution to the problem in the time allowed!\")\n",
    "else:\n",
    "    print(\n",
    "        \"Using algorithm {}, goal was found after {} tests with length {}:\".format(\n",
    "            algorithm, tested, complexity\n",
    "        )\n",
    "    )"
   ]
  },
  {
   "cell_type": "markdown",
   "metadata": {
    "cell_style": "center",
    "slideshow": {
     "slide_type": "slide"
    }
   },
   "source": [
    "## Hill Climbing can get stuck even on our simple example! <img src=\"figures/hillclimbing-tree.png\" style=\"float:right\" width=50%>\n",
    "\n",
    "- But is fast\n",
    "- and you can always restart it from another place\n",
    "\n",
    "Examples:\n",
    "- Optimisation:\n",
    "  - timetabling\n",
    "- Machine Learning\n",
    "  - most decision tree algorirthms\n",
    "   - greedy rule induction     \n",
    "- \"Stochastic Gradient Descent\" (aka backprop)\n",
    "  for training neural networks\n"
   ]
  },
  {
   "cell_type": "markdown",
   "metadata": {
    "cell_style": "center",
    "slideshow": {
     "slide_type": "slide"
    }
   },
   "source": [
    "## Best First Search <img src=\"figures/best-first-tree.png\" style=\"float:right\" width = 50%>\n",
    "Like hill-climbing is driven by quality  \n",
    "**but keeps unused nodes in the open list**\n",
    "\n",
    "At every iteration:\n",
    "- sort **whole queue** by decreasing quality,  \n",
    "  instead of just sorting children of current node.\n",
    "- i.e. doesn’t removed unexplored nodes  \n",
    "  This adds  backtracking\n",
    "\n",
    "Tends to produce shorter paths than depth- or breadth first search\n"
   ]
  },
  {
   "cell_type": "markdown",
   "metadata": {
    "cell_style": "center",
    "slideshow": {
     "slide_type": "slide"
    }
   },
   "source": [
    "### pseudocode for best-first search (main loop only)\n",
    "    WHILE ( Openlist not empty) DO\n",
    "      SORT(OpenList by increasing distance to goal)  ## quality\n",
    "      MOVE (first item from openList into working candidate)\n",
    "      FOREACH (1-step neighbour)\n",
    "        neighbour = ApplyMoveOperator(workingCandidate)  \n",
    "        Evaluate(neighbour)                               \n",
    "\t    IF(IsAtGoal(neighbour))\n",
    "          OUTPUT (SUCCESS, neighbour)\n",
    "        ELSE IF (neighbour is feasible) ##don't stop at plateau \n",
    "          APPEND( neighbour to end of openList)\n",
    "        ELSE\n",
    "          APPEND( neighbour to end of closedList)\n",
    "      COPY (working candidate to closedList)\n",
    "\n",
    "\n",
    "\n",
    "<div class=\"alert alert-block alert-danger\"> note best-first get back-tracking by omitting the line <b>DELETE(all but first item in openlist)</b>  </div> "
   ]
  },
  {
   "cell_type": "code",
   "execution_count": null,
   "metadata": {
    "slideshow": {
     "slide_type": "slide"
    }
   },
   "outputs": [],
   "source": [
    "def getNextItemForAlgorithm(algorithm, openList):\n",
    "    next = -1\n",
    "    numEntries = len(openList)\n",
    "    # check openList is not empty\n",
    "    if numEntries == 0:\n",
    "        print(\"openList was empty!\")\n",
    "\n",
    "    else:\n",
    "        if algorithm == \"depthFirst\":\n",
    "            # return last thing added\n",
    "            next = len(openList) - 1\n",
    "\n",
    "        elif algorithm == \"breadthFirst\":\n",
    "            # return oldest thing on list\n",
    "            next = 0\n",
    "\n",
    "        elif algorithm == \"bestFirst\" or algorithm == \"localSearch\":\n",
    "            # loop through list looking for entry with highest quality\n",
    "            best = 0\n",
    "            for pos in range(1, (numEntries - 1)):\n",
    "                if openList[pos].quality < openList[best].quality:\n",
    "                    best = pos\n",
    "            next = best\n",
    "\n",
    "        else:\n",
    "            print(\"unrecognised algorithm\")\n",
    "\n",
    "    return next"
   ]
  },
  {
   "cell_type": "code",
   "execution_count": null,
   "metadata": {
    "slideshow": {
     "slide_type": "slide"
    }
   },
   "outputs": [],
   "source": [
    "algorithm = \"bestFirst\"\n",
    "\n",
    "workingCandidate, openList, closedList, atGoal = initialise(maze)\n",
    "\n",
    "atGoal, tested, complexity = runMainSearchLoop(\n",
    "    maze, workingCandidate, openList, closedList\n",
    ")\n",
    "\n",
    "if atGoal == False:\n",
    "    print(\"failed to find solution to the problem in the time allowed!\")\n",
    "else:\n",
    "    print(\n",
    "        \"Using algorithm {}, goal was found after {} tests with length {}:\".format(\n",
    "            algorithm, tested, complexity\n",
    "        )\n",
    "    )"
   ]
  },
  {
   "cell_type": "markdown",
   "metadata": {
    "cell_style": "center",
    "slideshow": {
     "slide_type": "skip"
    }
   },
   "source": [
    "## Quiz Questions:\n",
    "- Hill-Climbers can get stuck in local optima (True:False)\n",
    "- The local optima a hill-climber finds, depends on where it starts (True:False)\n",
    "- Which of these might help local search?\u000b",
    "\n",
    "Vote for as many as you think will\n",
    "  - Multiple runs from random starting places\n",
    "  - Multiple runs, start each one by making random changes to  the last local optimum\n",
    "  - One  run, changing the move operator everytime you reach a local optimum\n",
    "  - Sometimes accepting worsening moves\n"
   ]
  },
  {
   "cell_type": "markdown",
   "metadata": {
    "slideshow": {
     "slide_type": "slide"
    }
   },
   "source": [
    "# Pause"
   ]
  },
  {
   "cell_type": "markdown",
   "metadata": {
    "cell_style": "center",
    "slideshow": {
     "slide_type": "slide"
    }
   },
   "source": [
    "## Taking into account the cost of reaching a solution\n",
    " <img src=\"figures/search/balanced_plates.jpg\" style=\"float:right\">\n",
    "\n",
    "\n",
    "E.g. planning \n",
    "- Routes to avoid toll roads (cost)  \n",
    "- Routes to avoid  built-up areas (air pollution)\n",
    "- the path of a manipulator to reduce number of moves\n",
    "- the path of a manipulator avoiding sudden changes of direction  \n",
    "\n"
   ]
  },
  {
   "cell_type": "markdown",
   "metadata": {
    "cell_style": "center",
    "slideshow": {
     "slide_type": "slide"
    }
   },
   "source": [
    "## A* : **guaranteed** shortest/least cost paths <img src=\"figures/optimal.png\" style=\"float:right\" width = 25%>\n",
    "Adds cost to Best-First to find optima\n",
    " - Shortest path / least complex model,\n",
    "\n",
    "Sorts the list of unexplored nodes by f(node):\n",
    "- f(node) = g(node) + h(node),  \n",
    "  h(node) =  estimated distance to goal (heuristic).  \n",
    "  g(node) = cost of reaching that node.\n",
    "\n",
    "So you can stop looking as soon as  you know that   \n",
    "g(node) > best_so_far for all remaining nodes\n",
    "\n",
    "**A* is complete and optimal as long as h(node) is an underestimate**\n",
    "\n",
    "A* is used for : path-finding (especially NPCs in games),   query optimisation, …\n"
   ]
  },
  {
   "cell_type": "markdown",
   "metadata": {
    "cell_style": "center",
    "slideshow": {
     "slide_type": "slide"
    }
   },
   "source": [
    "## pseudocode for A* (main loop only)\n",
    "\n",
    "    WHILE ( Openlist not empty) DO\n",
    "      SORT(OpenList by combined distance to goal and cost)  ## quality\n",
    "      MOVE (first item from openList into working candidate)\n",
    "      FOREACH (1-step neighbour)\n",
    "        neighbour = ApplyMoveOperator(workingCandidate)  \n",
    "        Evaluate(neighbour)                               \n",
    "        IF(IsAtGoal(neighbour))\n",
    "          OUTPUT (SUCCESS, neighbour)\n",
    "        ELSE IF (neighbour is feasible) ##don't stop at plateau \n",
    "          APPEND( neighbour to end of openList)\n",
    "        ELSE\n",
    "          APPEND( neighbour to end of closedList)\n",
    "      COPY (working candidate to closedList)\n",
    "<div class=\"alert alert-block alert-danger\"> This is just best-first with a modified sort condition.<br> You could modify the IF statement to only add things to openlist if g(neighbour) < f(workingCandidate)  </div> "
   ]
  },
  {
   "cell_type": "code",
   "execution_count": null,
   "metadata": {
    "slideshow": {
     "slide_type": "slide"
    }
   },
   "outputs": [],
   "source": [
    "def getNextItemForAlgorithm(algorithm, openList):\n",
    "    next = -1\n",
    "    numEntries = len(openList)\n",
    "    # check openList is not empty\n",
    "    if numEntries == 0:\n",
    "        print(\"openList was empty!\")\n",
    "\n",
    "    else:\n",
    "        if algorithm == \"depthFirst\":\n",
    "            # return last thing added\n",
    "            next = len(openList) - 1\n",
    "\n",
    "        elif algorithm == \"breadthFirst\":\n",
    "            # return oldest thing on list\n",
    "            next = 0\n",
    "\n",
    "        elif algorithm == \"bestFirst\" or algorithm == \"localSearch\":\n",
    "            # loop through list looking for entry with highest quality\n",
    "            best = 0\n",
    "            for pos in range(1, (numEntries - 1)):\n",
    "                if openList[pos].quality < openList[best].quality:\n",
    "                    best = pos\n",
    "            next = best\n",
    "\n",
    "        elif algorithm == \"Astar\":\n",
    "            # loop through list lookinmg for item with lowest sum of estimated distance ot goal + number of moves from start\n",
    "            best = 0\n",
    "            for pos in range(1, (numEntries - 1)):\n",
    "                if openList[pos].quality + len(openList[pos].variableValues) < (\n",
    "                    openList[best].quality + len(openList[best].variableValues)\n",
    "                ):\n",
    "                    best = pos\n",
    "            next = best\n",
    "\n",
    "        else:\n",
    "            print(\"unrecognised algorithm\")\n",
    "\n",
    "    return next"
   ]
  },
  {
   "cell_type": "code",
   "execution_count": null,
   "metadata": {
    "slideshow": {
     "slide_type": "slide"
    }
   },
   "outputs": [],
   "source": [
    "algorithm = \"Astar\"\n",
    "\n",
    "workingCandidate, openList, closedList, atGoal = initialise(maze)\n",
    "\n",
    "atGoal, tested, complexity = runMainSearchLoop(\n",
    "    maze, workingCandidate, openList, closedList\n",
    ")\n",
    "\n",
    "if atGoal == False:\n",
    "    print(\"failed to find solution to the problem in the time allowed!\")\n",
    "else:\n",
    "    print(\n",
    "        \"Using algorithm {}, goal was found after {} tests with length {}:\".format(\n",
    "            algorithm, tested, complexity\n",
    "        )\n",
    "    )"
   ]
  },
  {
   "cell_type": "markdown",
   "metadata": {
    "cell_style": "center",
    "slideshow": {
     "slide_type": "slide"
    }
   },
   "source": [
    "## A* example <img src=\"figures/Astar-tree.png\" style = \"float:right\" width = 40%>\n",
    " We show the cost as a second number in each node – in this case just the depth\n",
    "\n",
    "## What does \"optimality\" mean for A* ?\n",
    "Finds node which satisfies the goal criteria\n",
    "\n",
    "If there is more than one of these, it finds the one with the least cost \n",
    "\n",
    "How else could we interpret this?\n",
    "What might be desirable?\n",
    "\n",
    "\n"
   ]
  },
  {
   "cell_type": "markdown",
   "metadata": {
    "slideshow": {
     "slide_type": "slide"
    }
   },
   "source": [
    "# Dijktra's algorithm\n",
    "<img src = \"figures/dijkstra.gif\" style = \"float:right\" width = 40%>\n",
    "\n",
    "Designed for use in tracing routes between points in an weighted undirected graph.\n",
    "- \"weighted\" means there are cost/distances on each link   \n",
    "  (edge in the graph)  \n",
    "  e.g. tolls/ different terrains, ...\n",
    "- \"undirected\" means you can traverse an edge  \n",
    "  in either direction ( no one-way roads)\n",
    "\n",
    "Finds the single shortest path between two points.  \n",
    "Most used for path-finding – a *lot* in games\n",
    "\n",
    "Like A* but ignores heuristic cost\n",
    "h(n) = 0 for all n\n",
    "\n",
    "\"Dijkstra Animation\" by Ibmua - Work by uploader.. Licensed under Public Domain via Commons - https://commons.wikimedia.org/wiki/File:Dijkstra_Animation.gif#/media/File:Dijkstra_Animation.gif\n"
   ]
  },
  {
   "cell_type": "markdown",
   "metadata": {
    "slideshow": {
     "slide_type": "slide"
    }
   },
   "source": [
    "## What does this mean in terms of our existing pseudocode?\n",
    "Solution = node in graph = location on grid\n",
    "- Representation:\n",
    "  - 2 ints for {x,y} co-ordinates\n",
    "  - (optional) Add parent location to trace route afterwards\n",
    "- Distance from start\n",
    "- Could add distance to goal = but ignored by algorithm so why bother?\n",
    "\n",
    "Sort criteria for picking working candidate from open list = closest distance to start"
   ]
  },
  {
   "cell_type": "markdown",
   "metadata": {
    "slideshow": {
     "slide_type": "slide"
    }
   },
   "source": [
    "## pseudocode for Dijkstra (main loop only)\n",
    "\n",
    "\n",
    "    WHILE ( Openlist not empty) DO\n",
    "      SORT(OpenList by increasing distance from start)  ## distance travelled\n",
    "      MOVE (first item from openList into working candidate)\n",
    "      FOREACH (1-step neighbour)    neighbour = ApplyMoveOperator(workingCandidate)  \n",
    "        Evaluate(neighbour) ##using route through workingCandidate                               \n",
    "        IF(IsAtGoal(neighbour))\n",
    "           OUTPUT (SUCCESS, neighbour)\n",
    "        ELSE IF (neighbor is already on openList) ## might have new\n",
    "           UPDATE(neighbor.dist_to_start on openList) ##quicker route to neighour\n",
    "        ELSE IF(neighbor is feasible)\n",
    "           ADD( neighbor to end of openList)\n",
    "        ELSE\n",
    "           ADD( neighbor to end of closedList)\n",
    "      COPY (working candidate to closedList)    \n",
    "\n",
    "<div class=\"alert alert-block alert-danger\"> This is just best-first with a modified sort condition and two extra lines:<br>\n",
    "           ELSE IF (neighbor is already on openList) ## might have new <br>\n",
    "           UPDATE(neighbor.dist_to_start on openList) ##quicker route to neighour\n",
    "</div> "
   ]
  },
  {
   "cell_type": "code",
   "execution_count": null,
   "metadata": {
    "slideshow": {
     "slide_type": "slide"
    }
   },
   "outputs": [],
   "source": [
    "def getNextItemForAlgorithm(algorithm, openList):\n",
    "    next = -1\n",
    "    numEntries = len(openList)\n",
    "    # check openList is not empty\n",
    "    if numEntries == 0:\n",
    "        print(\"openList was empty!\")\n",
    "\n",
    "    else:\n",
    "        if algorithm == \"depthFirst\":\n",
    "            # return last thing added\n",
    "            next = len(openList) - 1\n",
    "\n",
    "        elif algorithm == \"breadthFirst\":\n",
    "            # return oldest thing on list\n",
    "            next = 0\n",
    "\n",
    "        elif algorithm == \"bestFirst\" or algorithm == \"localSearch\":\n",
    "            # loop through list looking for entry with highest quality\n",
    "            best = 0\n",
    "            for pos in range(1, (numEntries - 1)):\n",
    "                if openList[pos].quality < openList[best].quality:\n",
    "                    best = pos\n",
    "            next = best\n",
    "\n",
    "        elif algorithm == \"Astar\":\n",
    "            # loop through list lookinmg for item with lowest sum of estimated distance ot goal + number of moves from start\n",
    "            best = 0\n",
    "            for pos in range(1, (numEntries - 1)):\n",
    "                if openList[pos].quality + len(openList[pos].variableValues) < (\n",
    "                    openList[best].quality + len(openList[best].variableValues)\n",
    "                ):\n",
    "                    best = pos\n",
    "            next = best\n",
    "\n",
    "        #### THIS SIMPLIFIED VERSION IS NOT UPDATING OPENLIST DISTANCES\n",
    "        elif algorithm == \"dijkstra\":\n",
    "            # loop through list looking for one that has taken fewest moves from start\n",
    "            best = 0\n",
    "            for pos in range(1, (numEntries - 1)):\n",
    "                if len(openList[pos].variableValues) < len(\n",
    "                    openList[best].variableValues\n",
    "                ):\n",
    "                    best = pos\n",
    "            next = best\n",
    "\n",
    "        else:\n",
    "            print(\"unrecognised algorithm\")\n",
    "\n",
    "    return next"
   ]
  },
  {
   "cell_type": "code",
   "execution_count": null,
   "metadata": {
    "slideshow": {
     "slide_type": "slide"
    }
   },
   "outputs": [],
   "source": [
    "algorithm = \"dijkstra\"\n",
    "\n",
    "workingCandidate, openList, closedList, atGoal = initialise(maze)\n",
    "\n",
    "atGoal, tested, complexity = runMainSearchLoop(\n",
    "    maze, workingCandidate, openList, closedList\n",
    ")\n",
    "\n",
    "if atGoal == False:\n",
    "    print(\"failed to find solution to the problem in the time allowed!\")\n",
    "else:\n",
    "    print(\n",
    "        \"Using algorithm {}, goal was found after {} tests with length {}:\".format(\n",
    "            algorithm, tested, complexity\n",
    "        )\n",
    "    )"
   ]
  },
  {
   "cell_type": "markdown",
   "metadata": {
    "slideshow": {
     "slide_type": "slide"
    }
   },
   "source": [
    "## Really good description and discussion of how different algorithms can be used for path-finding\n",
    "\n",
    "http://www.redblobgames.com/pathfinding/a-star/introduction.html\n",
    "    \n",
    "    "
   ]
  },
  {
   "cell_type": "markdown",
   "metadata": {
    "slideshow": {
     "slide_type": "skip"
    }
   },
   "source": [
    "## Quiz Questions\n",
    "For a ‘decision’ problem, which of these   would be appropriate ?\n",
    "\n",
    "For an exam timetabling problem which of these   would be appropriate ?\n",
    "\n",
    "For a npc planning a path to chase someone in a game, which of these   would be appropriate ?\n",
    "\n",
    "For organising daily delivery schedules, which of these   would be appropriate ?\n",
    "\n",
    "- Depth-first\n",
    "- Breadth-first\n",
    "- Hill-Climbing\n",
    "- Best-First\n",
    "- A*\n",
    "- Dijkstra\n"
   ]
  },
  {
   "cell_type": "markdown",
   "metadata": {
    "slideshow": {
     "slide_type": "slide"
    }
   },
   "source": [
    "## Strengths and weaknesses of different approaches\n",
    "\n",
    "You should construct a tables listing whether different algorithms possess these features\n",
    "\n",
    "- Completeness?\n",
    "  - will get stuck in local optima?\n",
    "  - avoids getting stuck in loops by design?\n",
    "  - can (sometimes) be adapted to avoid being stuck in loops? \n",
    "- Efficiency, e.g.\n",
    "  - Can make more efficient by incorporating information about solution quality?\n",
    "  - Limited storage overheads\n",
    "- Optimality:\n",
    "  - Guaranteed to find a solution if one exists?\n",
    "  - Can find least-cost/short/least complex solutions?\n",
    "  \n",
    " And look at the reading lists, examples of applications using search algorithms  (sat navs, machine learning, ...) to understand why they make the choices and trade-offs they do"
   ]
  },
  {
   "cell_type": "markdown",
   "metadata": {
    "slideshow": {
     "slide_type": "slide"
    }
   },
   "source": [
    "## Summary of search topic:\n",
    "You need to know about and recognise:\n",
    "- Common framework\n",
    "- Depth and Best first search when there is no quality function\n",
    "- Characteristics of a good heuristic quality function\n",
    "- Simple Hill Climber\n",
    "- Best first\n",
    "- A*\n",
    "- Dijkstra’s Algorithm\n",
    "\n",
    "You should be able to answer questions about\n",
    "- How to implement different strategies within a common framework\n",
    "- Choosing an appropriate search strategy for a problem:\n",
    "  - Do you have a way of assigning quality?\n",
    "  - What are your trade-offs for time vs storage vs optimality?\n",
    "  - Can ‘good-enough’ be ok?\n"
   ]
  },
  {
   "cell_type": "code",
   "execution_count": null,
   "metadata": {},
   "outputs": [],
   "source": []
  },
  {
   "cell_type": "markdown",
   "metadata": {},
   "source": [
    "# Extras: Optimising TSP"
   ]
  },
  {
   "cell_type": "code",
   "execution_count": null,
   "metadata": {},
   "outputs": [],
   "source": [
    "import random, numpy as np, math, matplotlib.pyplot as plt\n",
    "\n",
    "# place cities in random positions\n",
    "\n",
    "\n",
    "def get_distances(cities):\n",
    "    num_cities = len(cities)\n",
    "    distances = np.zeros((num_cities, num_cities))\n",
    "    for row in range(num_cities):\n",
    "        for col in range(num_cities):\n",
    "            if row != col:\n",
    "                xdist = cities[row][0] - cities[col][0]\n",
    "                ydist = cities[row][1] - cities[col][1]\n",
    "                distances[row][col] = math.sqrt(xdist * xdist + ydist * ydist)\n",
    "    return distances\n",
    "\n",
    "\n",
    "def plot_cities(cities):\n",
    "    fig, ax = plt.subplots()\n",
    "    for i in range(len(cities)):\n",
    "        ax.plot(cities[i][0], cities[i][1], \"Xb\")\n",
    "    modelstrings = np.array([\"%.2f\" % x for x in model.reshape(model.size)])\n",
    "    modelstrings = modelstrings.reshape(model.shape)\n",
    "    ax.table(cellText=modelstrings, loc=\"right\", bbox=[1.1, 0, 1, 1])\n",
    "    plt.show()\n",
    "\n",
    "\n",
    "def show_tour(cities, start, tour):\n",
    "    num_cities = len(cities)\n",
    "    plt.plot(cities[start][0], cities[start][1], \"or\", markersize=12)\n",
    "    plt.plot(\n",
    "        [cities[tour[i % num_cities]][0] for i in range(num_cities + 1)],\n",
    "        [cities[tour[i % num_cities]][1] for i in range(num_cities + 1)],\n",
    "        \"Xb-\",\n",
    "    )\n",
    "    plt.show()"
   ]
  },
  {
   "cell_type": "code",
   "execution_count": null,
   "metadata": {},
   "outputs": [],
   "source": [
    "num_cities = 10\n",
    "cities = [random.sample(range(100), 2) for x in range(num_cities)]\n",
    "model = get_distances(cities)\n",
    "plot_cities(cities)"
   ]
  },
  {
   "cell_type": "code",
   "execution_count": null,
   "metadata": {},
   "outputs": [],
   "source": [
    "def greedyConstructive(cities, start=0):\n",
    "    num_cities = len(cities)\n",
    "    tour = [-1 for i in range(num_cities)]\n",
    "    tour[start] = 0\n",
    "    # loop through stops on the tour\n",
    "    for i in range(1, num_cities):\n",
    "        min_dist = 100000\n",
    "        # finding the next closest unvisited place\n",
    "        for k in range(num_cities):\n",
    "            dist_ik = model[tour[i - 1]][k]\n",
    "            if tour[k] == -1 and dist_ik < min_dist:\n",
    "                min_dist = dist_ik\n",
    "                min_k = k\n",
    "        tour[min_k] = i\n",
    "    return tour\n",
    "\n",
    "\n",
    "start = random.randint(0, num_cities - 1)\n",
    "tour = greedyConstructive(cities, start)\n",
    "print(tour)\n",
    "show_tour(cities, start, tour)"
   ]
  },
  {
   "cell_type": "code",
   "execution_count": null,
   "metadata": {},
   "outputs": [],
   "source": [
    "def getNextItemForAlgorithm(algorithm, openList):\n",
    "    next = -1\n",
    "    numEntries = len(openList)\n",
    "    # check openList is not empty\n",
    "    if numEntries == 0:\n",
    "        print(\"openList was empty!\")\n",
    "\n",
    "    else:\n",
    "        if algorithm == \"depthFirst\":\n",
    "            # return last thing added\n",
    "            next = len(openList) - 1\n",
    "\n",
    "        elif algorithm == \"breadthFirst\":\n",
    "            # return oldest thing on list\n",
    "            next = 0\n",
    "\n",
    "        elif algorithm == \"bestFirst\" or algorithm == \"localSearch\":\n",
    "            # loop through list looking for entry with highest quality\n",
    "            best = 0\n",
    "            for pos in range(1, (numEntries - 1)):\n",
    "                if openList[pos].quality < openList[best].quality:\n",
    "                    best = pos\n",
    "            next = best\n",
    "\n",
    "        elif algorithm == \"Astar\":\n",
    "            # loop through list lookinmg for item with lowest sum of estimated distance ot goal + number of moves from start\n",
    "            best = 0\n",
    "            for pos in range(1, (numEntries - 1)):\n",
    "                if openList[pos].quality + len(openList[pos].variableValues) < (\n",
    "                    openList[best].quality + len(openList[best].variableValues)\n",
    "                ):\n",
    "                    best = pos\n",
    "            next = best\n",
    "\n",
    "        else:\n",
    "            print(\"unrecognised algorithm\")\n",
    "\n",
    "    return next"
   ]
  },
  {
   "cell_type": "code",
   "execution_count": null,
   "metadata": {},
   "outputs": [],
   "source": [
    "#### INITIALISE SEARCH ###\n",
    "num_cities = 10\n",
    "cities = [random.sample(range(100), 2) for x in range(num_cities)]\n",
    "model = get_distances(cities)\n",
    "plot_cities(cities)\n",
    "\n",
    "\n",
    "# change initialise os that it takes a model of distances rathe than a maze\n",
    "def initialise(model):\n",
    "    num_cities = model.shape[0]\n",
    "    workingCandidate = CandidateSolution()\n",
    "    # get start position  and set this as start for search\n",
    "    start = random.randint(0, num_cities - 1)\n",
    "    workingCandidate.variableValues.append(start)\n",
    "\n",
    "    # measure quality\n",
    "    workingCandidate.quality = evaluate(workingCandidate, model)\n",
    "\n",
    "    # check for lucky guess\n",
    "    if IsAtGoal(workingCandidate, maze):\n",
    "        print(\"solution found\")\n",
    "        atGoal = True\n",
    "    else:\n",
    "        openList = []\n",
    "        closedList = []\n",
    "        openList.append(workingCandidate)\n",
    "        atGoal = False\n",
    "\n",
    "    return workingCandidate, openList, closedList, atGoal"
   ]
  },
  {
   "cell_type": "code",
   "execution_count": null,
   "metadata": {},
   "outputs": [],
   "source": [
    "##================= MAIN SEACH LOOP =================\n",
    "def runMainSearchLoop(maze, workingCandidate, openList, closedList):\n",
    "    iteration = 0\n",
    "    tested = 0\n",
    "    atGoal = False\n",
    "\n",
    "    # WHILE ( Openlist not empty) DO\n",
    "    while atGoal == False and len(openList) > 0 and iteration < 1000:\n",
    "        iteration = iteration + 1\n",
    "\n",
    "        ######### MOVE (chosen item from openList into working candidate)\n",
    "        nextItem = getNextItemForAlgorithm(algorithm, openList)\n",
    "        workingCandidate = openList.pop(nextItem)\n",
    "        if algorithm == \"localSearch\":\n",
    "            openList.clear()\n",
    "\n",
    "        # this is just for the sake of visualisation\n",
    "        displaySearchState(maze, workingCandidate, openList, algorithm, tested)\n",
    "\n",
    "        ######## GENERATE ONE STEP. NEIGHBOURS.\n",
    "        # FOREACH (1-step neighbour)\n",
    "        for move in moveSet:\n",
    "            ##### Generate NEIGHBOUR #####\n",
    "            neighbour = copy.deepcopy(workingCandidate)\n",
    "\n",
    "            # neighbour = ApplyMoveOperator(workingCandidate)\n",
    "            lastCell = neighbour.variableValues[\n",
    "                -1\n",
    "            ]  # neat bit of python indexing that returns last item in list\n",
    "            nextCell = lastCell + move\n",
    "            neighbour.variableValues.append(nextCell)\n",
    "\n",
    "            ##### TEST NEIGHBOUR   ######\n",
    "            evaluate(neighbour, maze)\n",
    "            tested += 1\n",
    "\n",
    "            # IF AT GOAL OUTPUT (SUCCESS, neighbour)\n",
    "            if IsAtGoal(neighbour, maze):\n",
    "                show_tour(cities, start, tour)\n",
    "                atGoal = True\n",
    "                break  ##takes us out of for loop\n",
    "\n",
    "            ### ELSE UPDATE WORKING MEMORY ###\n",
    "            elif neighbour.quality >= 0:  # neighbour is feasible\n",
    "                openList.append(neighbour)\n",
    "            else:  # neighbour is infeasible\n",
    "                closedList.append(neighbour)\n",
    "\n",
    "        #### END OF FOR LOOP\n",
    "        ##COPY (working candidate to closedList)\n",
    "        closedList.append(workingCandidate)\n",
    "\n",
    "    ##### END OF WHILE LOOP ###\n",
    "\n",
    "    return atGoal, tested, len(neighbour.variableValues)"
   ]
  }
 ],
 "metadata": {
  "celltoolbar": "Slideshow",
  "kernelspec": {
   "display_name": "aienv",
   "language": "python",
   "name": "aienv"
  },
  "language_info": {
   "codemirror_mode": {
    "name": "ipython",
    "version": 3
   },
   "file_extension": ".py",
   "mimetype": "text/x-python",
   "name": "python",
   "nbconvert_exporter": "python",
   "pygments_lexer": "ipython3",
   "version": "3.11.6"
  }
 },
 "nbformat": 4,
 "nbformat_minor": 4
}
