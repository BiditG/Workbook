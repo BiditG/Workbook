{
 "cells": [
  {
   "cell_type": "markdown",
   "metadata": {},
   "source": [
    "# Workbook 1: Setting up jupyter and writing your first notebook\n",
    "\n",
    "If you are seeing this in your browser it means that you have successfully downloaded and run this notebook within your Jupiter environment.\n",
    "\n",
    "You should have watched the videos that explain how a note book works, and what the different types of cells are.\n",
    "\n",
    "If you haven't done that, on the modules blackboard go to:\n",
    "\n",
    "**Learning materials > Getting ready for the module: setting up Jupyter**\n",
    "\n",
    "- Please take the time to watch the video and run through the simple examples.\n",
    "- it is important to understand the effect of running and re-running different cells, and the order that you do that.\n",
    "\n",
    "This particular cell is a 'markdown' cell which we can use to show text on screen. \n",
    "- markdown cells are very useful to keep a record of what you are doing."
   ]
  },
  {
   "cell_type": "markdown",
   "metadata": {},
   "source": [
    "# Part 1: Implementing a simple algorithm for. simple problem\n",
    "## You are now ready to start doing some coding.\n",
    "\n",
    "- What we are going to do start off with is to refresh your python coding skills by writing a simple algorithm that tries all the possible combinations of 5 digits to solve a combination lock puzzle.\n",
    "- We'll also create a simple class for a puzzle with methods that let you test whether a given combination is the one you are looking for. \n",
    "- After that we will introducce the ```numpy``` class which is incredibly useful for all sorts of numeric computing.\n",
    "- along the way we will refresh the idea of splitting code into different files:\n",
    "  - so code can be re-used \n",
    "  - and to keep the main code (or notebook) cleaner and more self-explanatory\n",
    "- Finally you will submit your notebook to ther online marking system for feedback.\n",
    "<div class=\"alert alert-block alert-danger\"> <b>REMEMBER:</b> IF you are running the notebooks on the cloud server you need to click on the kernel menu and then change-kernel to'AIenv'.<br>\n",
    "IF you are running locally AND you created a virtual environment in Jupyter click on the kernel menu then change-kernel OR in VSCode use the kernel selector in the top-right hand corner.\n",
    "</div>"
   ]
  },
  {
   "cell_type": "markdown",
   "metadata": {},
   "source": [
    "### In the next cell:\n",
    "- line 1 tells python to import one module (file) which contains details of the multiple-choice questions checking your understanding\n",
    "- line 2 imports some code that lets us display multiple choice questions within a notebook\n",
    "- line 3 imports the numpy library. We'll focus more on this at the end of this workbook"
   ]
  },
  {
   "cell_type": "code",
   "execution_count": null,
   "metadata": {},
   "outputs": [],
   "source": [
    "import  workbook1_mcq1\n",
    "from IPython.display import display\n",
    "import numpy as np"
   ]
  },
  {
   "cell_type": "markdown",
   "metadata": {},
   "source": [
    "### The next  cell defines a class for a combination lock problem:\n",
    "<a title=\"Immanuel goldstein at English Wikipedia, Public domain, via Wikimedia Commons\" href=\"https://commons.wikimedia.org/wiki/File:CombinationBikeLock.JPG\"><img width=\"256\" style=\"float:right\" alt=\"CombinationBikeLock\" src=\"https://upload.wikimedia.org/wikipedia/commons/b/b7/CombinationBikeLock.JPG\"></a>\n",
    "\n",
    "Coding things to note:\n",
    "- This code just uses python lists to hold the answer and attempts\n",
    "- I've used strict PEP8 naming conventions, docstrings and type hints for parameters to methods.  \n",
    "- This is good coding practice and many github repositories will use automated checks to enforce them\n",
    "- Note also I've use f-strings to create the output [Good explanation here](https://realpython.com/python-f-strings/)\n",
    "\n",
    "The init function takes one integer parameter, N:  the number of digits to guess.\n",
    "\n",
    "The evaluate function takes one parameter: the attempt (a list of numbers) and return True/False\n",
    "- Note the use of python's ```assert``` method to insist that the attempt is the right length\n",
    "- together with a ```try ...except``` block to deal with erroneous inputs"
   ]
  },
  {
   "cell_type": "code",
   "execution_count": null,
   "metadata": {},
   "outputs": [],
   "source": [
    "class CombinationProblem:\n",
    "    \"\"\" \n",
    "    Class to create simple combination lock problems\n",
    "    and report whether a guess opens the lock\n",
    "        \"\"\"\n",
    "    def __init__(self,N:int=4,num_options:int =10):\n",
    "        \"\"\" Create a new intance with a random solution\"\"\"\n",
    "        self.answer = []\n",
    "        self.num_options=num_options\n",
    "        for position in range(N):\n",
    "            new_random_val= np.random.randint(0,num_options)\n",
    "            self.answer.append(new_random_val)\n",
    "        print(f' The new code to find is {self.answer}')\n",
    "        \n",
    "        \n",
    "    def evaluate(self, attempt:list)->bool:\n",
    "        \"\"\" Tests whether a provided attempt matches the combination\"\"\"\n",
    "        try:\n",
    "            assert len(attempt) == N # stop here if attempt is wrong length\n",
    "            for pos in range(N):\n",
    "                assert attempt[pos] >0\n",
    "                assert attempt[pos] <num_options\n",
    "                #stop if any digit is out of range\n",
    "            if attempt == self.answer :\n",
    "                return True\n",
    "            else:\n",
    "                return False\n",
    "        except AssertionError:\n",
    "            print(f' attempt had length {len(attempt)}, should have been {N}')\n",
    "            print('or values were out of range')\n",
    "            return False\n",
    "        "
   ]
  },
  {
   "cell_type": "markdown",
   "metadata": {},
   "source": [
    "<div class = \"alert alert-warning\" style= \"color:black\">\n",
    "    <h2>Activity 1: Write a simple algorithm to solve a combination lock puzzle</h2>\n",
    "    <h3> 40 marks for correct implementation </h3>\n",
    "    <h3> The puzzle will have 4 digits, each from the set {0,1,...num_options-1}</h3>\n",
    "    Your code should be wrapped up as a method that can be called using the skeleton code below.<br>\n",
    "    Having it as a method is neater, and means the automated marking system can test it as well.\n",
    "    <ol>\n",
    "        <li> Your code should take as a parameter a new puzzle instance with 4 digits.</li>\n",
    "        <li> Use the values [0,0,0,0] as your first guess</li>\n",
    "        <li> Then write four nested for loops (one for each digit of the puzzle) that should try every combination of digits until you find the right answer.</li>\n",
    "                <li> Each loop should try the values 0 ... num_options-1</li>\n",
    "                <li>The 'inside' loop should:\n",
    "                    <ul> \n",
    "                        <li> set the contents of the list <em>attempt</em></li>\n",
    "                        <li> then try to open the lock by calling <em>puzzle.evaluate(attempt)</em> </li>\n",
    "                        <li> and return current value of <em>attempt</em> if the outcome is True </li>\n",
    "                        <li> or move on to the next go around the loops if the answer is False</li>\n",
    "        </ul>\n",
    "        <li> Your function should return the right answer (as a list)</li>\n",
    "    </ol>\n",
    "    <p><b>Then run the second cell below to test your algorithm</b></p>\n",
    "    <p>    <b>Hint:</b> if your 4 loop variables are called digit1, digit2, digit3, digit4<br>\n",
    "        then you can set <em>attempt = [digit1,digit2,digit3,digit4]</em></p>\n",
    "    <p> <b>Note:</b>\n",
    "        It's easiest to do this with four nested for loops, but other methods might be quicker.</p>\n",
    "    </div>\n",
    "\n",
    "    \n",
    "    "
   ]
  },
  {
   "cell_type": "code",
   "execution_count": null,
   "metadata": {},
   "outputs": [],
   "source": [
    "def exhaustive_search_4digits(puzzle:CombinationProblem, num_options=10)->list:\n",
    "    \"\"\" simple exhaustive search method that tries every combination until\n",
    "    it finds the answer to a 4-digit combination lock puzzle \"\"\"\n",
    "    attempt=[]\n",
    "\n",
    "    \n",
    "    ##Your code here\n",
    "    #set the first attempt to [0,0,0,0]\n",
    "\n",
    "    # now four nested for loops\n",
    "  \n",
    "    #should never get here                \n",
    "    return attempt"
   ]
  },
  {
   "cell_type": "code",
   "execution_count": null,
   "metadata": {},
   "outputs": [],
   "source": [
    "#run this cell to test your algorithm\n",
    "\n",
    "puzzle = CombinationProblem(N=4,num_options=10)\n",
    "\n",
    "search_answer = exhaustive_search_4digits(puzzle)\n",
    "\n",
    "if(search_answer == puzzle.answer):\n",
    "    print(f'Congratulations, your code successfully found the answer {search_answer}')\n",
    "else:\n",
    "    print(f'Something went wrong: your code returned the answer {search_answer}')\n",
    "    print(f' but the real answer was {puzzle.answer}') "
   ]
  },
  {
   "cell_type": "markdown",
   "metadata": {},
   "source": [
    "# Part 2: Analysing your algorithm's performance\n",
    "## How does your algorithm behave as the complexity of the problem grows\n",
    "\n",
    "\n",
    "<div class = \"alert alert-warning\" style= \"color:black\">\n",
    "    <h2>Activity 2 (40 marks): Analysing your algorithm's effectiveness and efficiency</h2>\n",
    "    <h3> 5 marks each for the first six questions, ten for the seventh</h3>\n",
    "     <ol>\n",
    "         <li> Run the next cell and answer the multiple-choice questions to check your understanding of your algorithm.</li>\n",
    "         <li> Then copy the right answers in to the cell below where they are stored for automated marking.<br>\n",
    "             <b> If you don't do this the marking system will record your answers as wrong.</b></li>\n",
    "    </ol>\n",
    "    <p>It's often a good idea to check your understanding of how the method works <b> in theory</b> against <b>observations</b>.<br> \n",
    "    So to check some of your answers you might want to add some print statements to your code.</p>\n",
    "    <p><b>Remember that the marking system wants to see your method working for 4 digits</b><br>\n",
    "    so  make a copy of the function with a different name if you want to experiment with what happens if there are more or less than 4 digits.</p>\n",
    "    </div>\n",
    "\n"
   ]
  },
  {
   "cell_type": "code",
   "execution_count": null,
   "metadata": {
    "code_folding": [
     1
    ]
   },
   "outputs": [],
   "source": [
    "print('\\nThese first three questions check how your algorithm should run with the settings provided.\\n')\n",
    "display(workbook1_mcq1.Q1)\n",
    "display (workbook1_mcq1.Q2)\n",
    "display(workbook1_mcq1.Q3)\n",
    "\n",
    "print('\\n The next questions ask you to think about how fast the search space grows as you change the puzzle definition.\\n')\n",
    "\n",
    "display (workbook1_mcq1.Q4)\n",
    "display(workbook1_mcq1.Q5)\n",
    "display (workbook1_mcq1.Q6)\n",
    "display (workbook1_mcq1.Q7)"
   ]
  },
  {
   "cell_type": "markdown",
   "metadata": {},
   "source": [
    "### Now you've worked out the answers, save them for the automatic marking system to read\n",
    "For each of the variables in the dictionary below, change the value stored to  the right answer."
   ]
  },
  {
   "cell_type": "code",
   "execution_count": null,
   "metadata": {},
   "outputs": [],
   "source": [
    "answer_dict = {'Q1': -1,\n",
    "               'Q2': -1,\n",
    "               'Q3': -1,\n",
    "               'Q4': -1,\n",
    "               'Q5': -1,\n",
    "               'Q6': -1,\n",
    "               'Q7': \"don't know\"\n",
    "          }\n",
    "\n"
   ]
  },
  {
   "cell_type": "code",
   "execution_count": null,
   "metadata": {},
   "outputs": [],
   "source": [
    "workbook1_mcq1.check_submitted_answers(answer_dict)"
   ]
  },
  {
   "cell_type": "markdown",
   "metadata": {},
   "source": [
    "# Part 3: Introducing the numpy package for storing and manipulating numerical data\n",
    "<img src=\"figs/slicing.png\" style=\"float:right\"/>\n",
    "\n",
    "## Python arrays and slicing:\n",
    "Python has a **numpy** module with lots of useful code for doing math, and creating and manipulating arrays of data. \n",
    "\n",
    "There are **lots** of books and online resources to help you learn about numpy such as [W3schools](https://www.w3schools.com/python/numpy/default.asp), [geeksforgeeks](https://www.geeksforgeeks.org/python-numpy/) and of course you can ask specific questions if you're stuck with bits of coding on [stackoverflow](https://stackoverflow.com/questions/tagged/python)\n",
    "\n",
    "### finding the size of arrays\n",
    "- numpy arrays are created using ```np.array()```\n",
    "- numpy arrays can be:\n",
    "  - 1 dimensional (like a vector) datatype= ```np.array```, or \n",
    "  - N-dimension (like a matrix or a table) daatype ```np.ndarray```\n",
    "- all numpy arrays have a ```.shape``` attribute\n",
    "   - either a scalar (integer) value giving the length of a 1D array\n",
    "   - or an array of values holding the size of different dimension\n",
    "   - for example a two-dimensional array myarray with R rows and C columns has  \n",
    "     ```myarray.shape= [R,C]     \n",
    "\n",
    "### slicing arrays\n",
    "If we have a 2D numpy array X  we can select just parts of it - i.e. groups of rows, or colums, by \"slicing\".  \n",
    "\n",
    "We specify the range of rows we want, then the range of columns using ```X[start_row: end_row, start_col: end_col]``` \n",
    "- The end_row and end_col are not included in the slice.\n",
    "- If start or end are empty, then the slices goes right from the start or right to the end.\n",
    "- If the start is empty and the end is negative, the slices comes from the end of the row/column."
   ]
  },
  {
   "cell_type": "markdown",
   "metadata": {},
   "source": [
    "**Example 1:** If we put the letters of my name into a 1-D array  then we can pick out what we want as shown in the cell below. \n",
    "\n",
    "**Example 2:** (also in the cell below) If we have all the tutors names we could pick out just one row,  or the nth letter in all their names. \n",
    "\n",
    "**Example 3:** if (as in the iris data we'll see this a lot in the next topic) X has 150 rows and 4 columns then:\n",
    "- ```X.shape = [150,4]```\n",
    "- ```A = X[ 0 : 50 , :]```.  A is a 2d array containing the first 50 rows, and all 4 columns.\n",
    "- ```B = X[ : , 3:]```.   B is a 1D array with 150 rows and  the columns 3 and onwards (in this case, it is just the last).\n",
    "- ```C = X[ 0: 2, 0:4]``` C is a 2D array with 3 rows and 4 columns."
   ]
  },
  {
   "cell_type": "code",
   "execution_count": null,
   "metadata": {},
   "outputs": [],
   "source": [
    "import numpy as np\n",
    "\n",
    "#Example 1\n",
    "print('Declaring a 1d array')\n",
    "jims_name = np.array ( ['j','i','m',' ','s','m','i','t','h'])\n",
    "\n",
    "print(jims_name)\n",
    "print(f'jims_name has shape {jims_name.shape}')\n",
    "print('extracting a range of values from a 1-D array:')\n",
    "print( jims_name[0:3])"
   ]
  },
  {
   "cell_type": "code",
   "execution_count": null,
   "metadata": {},
   "outputs": [],
   "source": [
    "# Example 2\n",
    "print('\\n Declaring a  a 2D array:')\n",
    "tutors_names = np.array([['j','i','m',' ',' ',' ',' ','s','m','i','t','h',' '], \n",
    "                        ['n','a','t','h','a','n',' ','d','u','r','a','n',' '],\n",
    "                        ['e','l','i','s','a',' ',' ','c','o','v','a','t','o']\n",
    "                       ],dtype=str)\n",
    "print(f'{tutors_names}')\n",
    "\n",
    "print(f' tutors_names has shape {tutors_names.shape}\\n'\n",
    "      f'so if we print tutors_names.shape[0] we see it has {tutors_names.shape[0]} rows\\n'\n",
    "      f'and if we print tutors_names.shape[1] we see it has {tutors_names.shape[1]} columns'\n",
    "     )"
   ]
  },
  {
   "cell_type": "code",
   "execution_count": null,
   "metadata": {},
   "outputs": [],
   "source": [
    "print('Extracting the a row from a 2D array - in this case the second')\n",
    "print(tutors_names[1, : ])   # every column of the second row\n",
    "\n",
    "print('Extracting a range of columns from every row of a 2D array')\n",
    "print(tutors_names[ :, 0:6])\n",
    "\n",
    "# This example uses negative index to read from the end of a slice\n",
    "print('extracting a specific block of data from a 2D array')\n",
    "print(tutors_names[2,-6:])"
   ]
  },
  {
   "cell_type": "markdown",
   "metadata": {},
   "source": [
    "<div class = \"alert alert-warning\" style= \"color:black\">\n",
    "<h2>Activity 3: practising numpy slicing</h2>\n",
    "<h3> 10 marks</h3>\n",
    "Making use of the snippets above, write a function <em>get_names(namearray:np.ndarray)->list</em> that:\n",
    "    <ul>\n",
    "    <li>takes the array <em>tutors_names</em> as a parameter</li>\n",
    "    <li>gets smaller array containing just the family names</li>\n",
    "        <li> uses the python <em> str.join method</em> to turn each family name into a single string</li>\n",
    "    <li>appends all the strings to a list</li>\n",
    "    <li>turns a list containing the family names as a list</li>\n",
    "    </ul>\n",
    "    <p><b> Your code should work if we test it with different arrays (as long as the family names have the same maximum length)</b></p>\n",
    "    <p> <b>HINT1:</b> try the answers in  <a href=\"https://stackoverflow.com/questions/12453580/how-to-concatenate-join-items-in-a-list-to-a-single-string\">this question</a> to see how to make strings out of the characters in a name.    </p>\n",
    "    <p> <b>HINT2:</b> my solution has one for loop (using namearray.shape[0] to access the number of rows)<br> and 3 lines of code inside the loop.     </p>\n",
    "    <p> use the cell below to develop your code and the one after to test it.</p>\n",
    "</div>"
   ]
  },
  {
   "cell_type": "code",
   "execution_count": null,
   "metadata": {},
   "outputs": [],
   "source": [
    "def get_names(namearray:np.ndarray)->list:\n",
    "    family_names = []\n",
    "    #your code goes here\n",
    "    \n",
    "    return family_names"
   ]
  },
  {
   "cell_type": "code",
   "execution_count": null,
   "metadata": {},
   "outputs": [],
   "source": [
    "#this is \n",
    "def test_get_names():\n",
    "    \"\"\" \n",
    "    an example of writing a test to check code does what it should,\n",
    "    building and using an error string to give more information \n",
    "    \"\"\"\n",
    "    tutors_names2 = np.array([['j','i','m',' ',' ',' ',' ','s','m','i','t','h',' '], \n",
    "                        ['n','a','t','h','a','n',' ','d','u','r','a','n',' '],\n",
    "                        ['e','l','i','s','a',' ',' ','c','o','v','a','t','o']\n",
    "                       ],dtype=str)\n",
    "    returned_value= get_names(tutors_names2)\n",
    "    correct_value= ['smith ','duran ','covato']\n",
    "    ermsg = f'returned value {returned_value} should be {correct_value}'\n",
    "    assert returned_value == correct_value,errmsg\n",
    "    print('test passed')\n",
    "\n",
    "test_get_names()"
   ]
  },
  {
   "cell_type": "markdown",
   "metadata": {},
   "source": [
    "## Some useful numerical functions provided for  numpy arrays\n",
    "\n",
    "The real benefits of numpy arrays come when they hold numerical data.\n",
    "\n",
    "Numpy provides **lots** of built-in mathematical functions, here we'll just illustrate a few that you'll use in this course\n",
    "\n",
    "### making arrays full of zeros/ones etc\n",
    "- via functions like ```np.zeros((rows,columns),datatype)```\n",
    "- see [the numpy documentation](https://numpy.org/doc/stable/reference/routines.array-creation.html) for more details\n",
    "\n",
    "### Statistics that describe contents:mean, max and min\n",
    "- if we call ```np.mean(myarray)```,  ```np.max(myarray)``` or ```np.min(myarray)``` on a 1D array we. get what you would expect\n",
    "- if we call the methods on a N-Dimensional array we get results for the whole array\n",
    "- but we can also get it for different dimensions by specifying what *axis* we want\n",
    "- and ```np.argmax(myarray)``` or ```np.argmin(myarray)``` tell us where the biggest/smallest values are in the array\n",
    "\n",
    "The cell below illustrates how to use these - and also a handy function ```np.reshape()``` which re-organises things "
   ]
  },
  {
   "cell_type": "code",
   "execution_count": null,
   "metadata": {},
   "outputs": [],
   "source": [
    "# make a 2d array holding the values from 1 to 100\n",
    "my_1darray = np.zeros(100,dtype=int)\n",
    "for position in range(my_1darray.shape[0]):\n",
    "    my_1darray[position] = position+1\n",
    "\n",
    "# to illustrate the point lets shuffle the array first\n",
    "np.random.shuffle(my_1darray)\n",
    "print(f'The 1D-version of the array looks like this:\\n{my_1darray}\\n')\n",
    "\n",
    "\n",
    "my_2darray = my_1darray.reshape(10,10)            \n",
    "print(f'The 2D-version looks like this:\\n{my_2darray}')"
   ]
  },
  {
   "cell_type": "code",
   "execution_count": null,
   "metadata": {},
   "outputs": [],
   "source": [
    "# getting the unique values in an array\n",
    "uniques = np.unique(my_1darray)\n",
    "print(f' np.unique returns an array of the different values present which are:\\n{uniques}\\n')\n",
    "\n",
    "print(f'we can use the shape attribute to see there are there are {uniques.shape[0]} different values in the array')\n"
   ]
  },
  {
   "cell_type": "code",
   "execution_count": null,
   "metadata": {},
   "outputs": [],
   "source": [
    "# now lets have some statistics\n",
    "\n",
    "#1D means and max\n",
    "oneD_biggest = np.max(my_1darray)\n",
    "oneD_mean = np.mean(my_1darray)\n",
    "print(f' the one-D array has biggest value {oneD_biggest} and mean {oneD_mean}')"
   ]
  },
  {
   "cell_type": "code",
   "execution_count": null,
   "metadata": {},
   "outputs": [],
   "source": [
    "# 2d versions\n",
    "twoD_biggest = np.max(my_2darray)\n",
    "twoD_mean = np.mean(my_2darray)\n",
    "print(f'The two-D array also has biggest value {twoD_biggest} and mean {twoD_mean}\\n')\n",
    "\n",
    "print('But we can also get row/column stats by asking min/mean to report by axes\\n')\n",
    "row_wise_biggest = np.max(my_2darray,axis=0)\n",
    "row_wise_mean = np.mean(my_2darray,axis=0)\n",
    "column_wise_biggest = np.max(my_2darray,axis=1)\n",
    "column_wise_mean = np.mean(my_2darray,axis=1)\n",
    "\n",
    "print(f'row-by-row maxima are {row_wise_biggest}')\n",
    "print(f'colum-by-column means are {column_wise_mean}')"
   ]
  },
  {
   "cell_type": "code",
   "execution_count": null,
   "metadata": {},
   "outputs": [],
   "source": [
    "#locations of max\n",
    "\n",
    "location = np.argmax(my_1darray)\n",
    "print (f'The biggest value is found in location {location}')\n",
    "\n"
   ]
  },
  {
   "cell_type": "markdown",
   "metadata": {},
   "source": [
    "<div class = \"alert alert-warning\" style= \"color:black\">\n",
    "<h2>Activity 4 (Stretch): Bringing it all together in a search contex</h2>\n",
    "<h3> 10 marks</h3>\n",
    "    Complete the code snippet below to create a testing function for a sudoku problem.<br>\n",
    "    Your code should:\n",
    "    <ul>\n",
    "        <li> Take a 2d numpy array <em>attempt</em> as input</li>\n",
    "        <li> Use assertions to check that the array has 9 rows and 9 columns</li>\n",
    "        <li> Define 27 <it>slices</it> or subarrays corresponding to the 9 sub-squares, 9 rows and 9 columns e.g.,<br>\n",
    "            <em>row1 = attempt[1,:]</em><br> <em>top_middle_square = attempt[0:3,3:6]</em> </li>\n",
    "        <li> Store these slices in a list called <em>slices></em>\n",
    "        <li> Use <em>np.uniques()</em> to check that each slice has 9 unique values </li>\n",
    "        <li> Return an integer saying how many of the 27 checks the attempt passes</li>\n",
    "    </ul>\n",
    "    <p> <b>HINTS</b> <ul>\n",
    "    <li> If you iterate over the rows and columns you can define (and then add to the list) quite a lot of the slices automatically</li>\n",
    "    <li> and then add the sub-square slices either by hand or using 2 nested loops</li>\n",
    "    </ul>\n",
    "</div>    "
   ]
  },
  {
   "cell_type": "code",
   "execution_count": null,
   "metadata": {},
   "outputs": [],
   "source": [
    "def check_sudoku_array(attempt:np.ndarray)->int:\n",
    "    tests_passed = 0\n",
    "    # your code goes here\n",
    "    \n",
    "    #use assertions to check that the array has 2 dimensions each of size 9\n",
    " \n",
    "    \n",
    "    slices = [] #this will be a list of numpy arrays\n",
    "    # your code goes here \n",
    " \n",
    "    ## remember all the examples of indexing above\n",
    "    ## and use the append() method to add something to a list\n",
    " \n",
    "    \n",
    "    for slice in slices: #easiest way to iterate over list\n",
    "        #print(slice) - useful for debugging?\n",
    "        \n",
    "        # get number of unique values in slice\n",
    "        \n",
    "        # increment value of tests_passed as appropriate\n",
    "        \n",
    "    #return count of tests passed\n",
    "    return tests_passed"
   ]
  },
  {
   "cell_type": "code",
   "execution_count": null,
   "metadata": {},
   "outputs": [],
   "source": [
    "# some sample code to test your function\n",
    "\n",
    "attempt = np.array([\n",
    "    [1,2,3,4,5,6,7,8,9],\n",
    "    [2,3,4,5,6,7,8,9,1],\n",
    "    [3,4,5,6,7,8,9,1,2],\n",
    "    [4,5,6,7,8,9,1,2,3],\n",
    "    [5,6,7,8,9,1,2,3,4],\n",
    "    [6,7,8,9,1,2,3,4,5],\n",
    "    [7,8,9,1,2,3,4,5,6],\n",
    "    [8,9,1,2,3,4,5,6,7],\n",
    "    [9,1,2,3,4,5,6,7,8]\n",
    "])\n",
    "\n",
    "passed = check_sudoku_array(attempt)\n"
   ]
  },
  {
   "cell_type": "code",
   "execution_count": null,
   "metadata": {},
   "outputs": [],
   "source": []
  }
 ],
 "metadata": {
  "kernelspec": {
   "display_name": "py10",
   "language": "python",
   "name": "py10"
  },
  "language_info": {
   "codemirror_mode": {
    "name": "ipython",
    "version": 3
   },
   "file_extension": ".py",
   "mimetype": "text/x-python",
   "name": "python",
   "nbconvert_exporter": "python",
   "pygments_lexer": "ipython3",
   "version": "3.10.6"
  }
 },
 "nbformat": 4,
 "nbformat_minor": 4
}
