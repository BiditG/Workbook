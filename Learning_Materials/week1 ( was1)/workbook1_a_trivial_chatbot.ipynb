{
 "cells": [
  {
   "cell_type": "markdown",
   "metadata": {},
   "source": [
    "# Workbook 1: Setting up jupyter and writing your first notebook\n",
    "\n",
    "If you are seeing this in your browser it means that you have successfully downloaded and run this notebook within your Jupiter environment.\n",
    "\n",
    "You should have watched the videos that explain how a note book works, and what the different types of cells are.\n",
    "\n",
    "If you haven't done that, on the modules blackboard go to:\n",
    "\n",
    "**Learning materials > Getting ready for the module: setting up Jupyter**\n",
    "\n",
    "- Please take the time to watch the video and run through the simple examples.\n",
    "- it is important to understand the effect of running and re-running different cells, and the order that you do that.\n",
    "\n",
    "This particular cell is a 'markdown' cell which we can use to show text on screen. \n",
    "- markdown cells are very useful to keep a record of what you are doing.\n",
    "\n",
    "You are now ready to start doing some coding.\n",
    "\n",
    "- What we are going to do start off with is to begin by creating a nice simple chat bot that will answer some trivial questions.\n",
    "- You're going to edit this chatbot within your Jupyter notebook's environment so that it can  answer different questions. \n",
    "- After that you will do some exercises finding out some useful things about the model and code them in AIML.\n",
    "- that should make your chatbot  answer them for you.\n",
    "<div class=\"alert alert-block alert-danger\"> <b>REMEMBER:</b> IF you are running the notebooks on the cloud server you need to click on the kernel menu and then change-kernel to'AIenv'.<br>\n",
    "IF you are running locally AND you created a virtual environment in Jupyter click on the kernel menu then change-kernel OR in VSCode use the kernel selector in the top-right hand corner.\n",
    "</div>"
   ]
  },
  {
   "cell_type": "markdown",
   "metadata": {},
   "source": [
    "## What next the next cell does\n",
    "- the first two lines tells python to import three libraries:\n",
    " - one called 'aiml' which provides the functionality required by the AIML chatbot language.\n",
    " - the second contains the multiple choice questions you will do later\n",
    " - and the third lets us display multiple choice questions\n",
    "- the third line create the chatbot itself as a variable called 'myChatbot'"
   ]
  },
  {
   "cell_type": "code",
   "execution_count": 1,
   "metadata": {},
   "outputs": [],
   "source": [
    "import aiml, workbook1_mcq1\n",
    "from IPython.display import display\n",
    "\n",
    "# Create the kernel and learn AIML files\n",
    "myChatbot = aiml.Kernel()"
   ]
  },
  {
   "cell_type": "markdown",
   "metadata": {},
   "source": [
    "## The next cell is where we will edit and save the knowledge base for our chatbot \n",
    "\n",
    "The first line starts with the symbols %% and is called a 'Magic'\n",
    "- Magics are a very handy way for a notebook to make calls outside the kernel\n",
    "- in this case it invokes a function called 'writefile' and whenever the cell runs, the contents from line 2 onwards are written into a file called myFirstChatbot.aiml\n",
    " - you should see this file appearing in the directory you are working in.\n",
    " - and when you edit the next cell and re-run it,  you should be able to see that the saved file changes.\n",
    " \n",
    "The rest of the file is in aiml - a form of xml. It saves your knowledge in the form of \"categories\" which represent rules.  \n",
    "Each category contains some basic parts:\n",
    " - A **pattern** - the exact form of words that the chatbot recognises to trigger the rule.\n",
    " - A **template** which is the output of the rule.\n",
    " \n",
    " - Each part is started and finished with a tag pair in angled brackets <> - just like html.\n",
    " \n",
    " - This example also displays how we can use the keyword tag-pair **random** , enclosing a list of <li> elements.\n",
    "    - We can **only** use a random list within a **template** \n",
    "    - It tells the chatbot to pick one of the list items at random as its output.\n",
    "    \n",
    "    \n",
    "    "
   ]
  },
  {
   "cell_type": "code",
   "execution_count": 2,
   "metadata": {},
   "outputs": [
    {
     "name": "stdout",
     "output_type": "stream",
     "text": [
      "Overwriting myFirstChatbot.aiml\n"
     ]
    }
   ],
   "source": [
    "%%writefile myFirstChatbot.aiml\n",
    "<aiml version=\"1.0.1\" encoding=\"UTF-8\">\n",
    "<!-- basic_chat.aiml -->\n",
    "\n",
    " <category>\n",
    "    <pattern> FOO * </pattern>\n",
    "    <template> <srai> <star/> </srai> </template>\n",
    "    </category>\n",
    "\n",
    "    <category>\n",
    "        <pattern>HELLO</pattern>\n",
    "        <template>\n",
    "            Well, hello!\n",
    "        </template>\n",
    "    </category>\n",
    "    \n",
    "    <category>\n",
    "        <pattern>WHAT ARE YOU</pattern>\n",
    "        <template>\n",
    "            I'm a bot, silly!\n",
    "        </template>\n",
    "    </category>\n",
    "    \n",
    "    <category>\n",
    "        <pattern> IS THIS ALL THERE IS</pattern>\n",
    "        <template> I AM AFRAID SO </template>\n",
    "    </category>\n",
    "    \n",
    "    <category>\n",
    "        <pattern> do you have any suggestions for improving this </pattern>\n",
    "        <template> \n",
    "            <random>\n",
    "            <li> use ipywidgets to make the user interface fancier</li>\n",
    "            <li> finding a way of making the system show a trece of what it has matched and why for an input </li>\n",
    "            \n",
    "            </random>\n",
    "        </template>\n",
    "    </category>\n",
    "    \n",
    "    <category>\n",
    "        <pattern> WHAT IS LEFT </pattern>\n",
    "        <template> \n",
    "            <srai> IS THIS ALL THERE IS </srai> \n",
    "        </template>\n",
    "    \n",
    "    </category>\n",
    "    \n",
    "    <category>\n",
    "        <pattern> WHAT IS YOUR NAME</pattern>\n",
    "        <template> MY NAME IS UWE-BOT</template>\n",
    "    </category>\n",
    "    \n",
    "    <category>\n",
    "        <pattern> DO NOT PRETEND YOU ARE HUMAN </pattern>\n",
    "        <template> IT WAS WORTH A TRY </template>\n",
    "    </category>    \n",
    "            \n",
    "    \n",
    "</aiml>\n",
    "\n",
    "\n"
   ]
  },
  {
   "cell_type": "markdown",
   "metadata": {},
   "source": [
    "## Next we will tell the chatbot to learn what we have coded, and then present an interactive dialogue\n",
    "\n",
    "- Lines 1-3 load the chatbot and print out how many categories it has learned\n",
    " \n",
    "- Then we declare a variable called 'keep going' that we will use to finish our chat session\n",
    " \n",
    "- Finally we go into a while loop:\n",
    " - asking for an input.\n",
    " - checking if the user wants to finish.\n",
    " - otherwise:\n",
    "  - trying to provide an answer to what you type.\n",
    "  - and then moving on to the next input"
   ]
  },
  {
   "cell_type": "code",
   "execution_count": 4,
   "metadata": {},
   "outputs": [
    {
     "name": "stdout",
     "output_type": "stream",
     "text": [
      "Loading myFirstChatbot.aiml...done (0.01 seconds)\n",
      "Successfuly loaded 8 categories\n"
     ]
    },
    {
     "name": "stdout",
     "output_type": "stream",
     "text": [
      "Well, hello!\n"
     ]
    },
    {
     "name": "stderr",
     "output_type": "stream",
     "text": [
      "WARNING: No match found for input: hh\n"
     ]
    },
    {
     "name": "stdout",
     "output_type": "stream",
     "text": [
      "\n",
      "\n"
     ]
    },
    {
     "ename": "KeyboardInterrupt",
     "evalue": "Interrupted by user",
     "output_type": "error",
     "traceback": [
      "\u001b[0;31m---------------------------------------------------------------------------\u001b[0m",
      "\u001b[0;31mKeyboardInterrupt\u001b[0m                         Traceback (most recent call last)",
      "Cell \u001b[0;32mIn[4], line 9\u001b[0m\n\u001b[1;32m      6\u001b[0m keepGoing \u001b[39m=\u001b[39m \u001b[39mTrue\u001b[39;00m\n\u001b[1;32m      8\u001b[0m \u001b[39mwhile\u001b[39;00m keepGoing:\n\u001b[0;32m----> 9\u001b[0m     nextInput \u001b[39m=\u001b[39m \u001b[39minput\u001b[39;49m(\u001b[39m\"\u001b[39;49m\u001b[39mEnter your message >> \u001b[39;49m\u001b[39m\"\u001b[39;49m)\n\u001b[1;32m     10\u001b[0m     \u001b[39mif\u001b[39;00m(nextInput \u001b[39m==\u001b[39m \u001b[39m'\u001b[39m\u001b[39mbye\u001b[39m\u001b[39m'\u001b[39m):\n\u001b[1;32m     11\u001b[0m         keepGoing \u001b[39m=\u001b[39m \u001b[39mFalse\u001b[39;00m\n",
      "File \u001b[0;32m~/GitHub/AIenv/lib/python3.10/site-packages/ipykernel/kernelbase.py:1202\u001b[0m, in \u001b[0;36mKernel.raw_input\u001b[0;34m(self, prompt)\u001b[0m\n\u001b[1;32m   1200\u001b[0m     msg \u001b[39m=\u001b[39m \u001b[39m\"\u001b[39m\u001b[39mraw_input was called, but this frontend does not support input requests.\u001b[39m\u001b[39m\"\u001b[39m\n\u001b[1;32m   1201\u001b[0m     \u001b[39mraise\u001b[39;00m StdinNotImplementedError(msg)\n\u001b[0;32m-> 1202\u001b[0m \u001b[39mreturn\u001b[39;00m \u001b[39mself\u001b[39;49m\u001b[39m.\u001b[39;49m_input_request(\n\u001b[1;32m   1203\u001b[0m     \u001b[39mstr\u001b[39;49m(prompt),\n\u001b[1;32m   1204\u001b[0m     \u001b[39mself\u001b[39;49m\u001b[39m.\u001b[39;49m_parent_ident[\u001b[39m\"\u001b[39;49m\u001b[39mshell\u001b[39;49m\u001b[39m\"\u001b[39;49m],\n\u001b[1;32m   1205\u001b[0m     \u001b[39mself\u001b[39;49m\u001b[39m.\u001b[39;49mget_parent(\u001b[39m\"\u001b[39;49m\u001b[39mshell\u001b[39;49m\u001b[39m\"\u001b[39;49m),\n\u001b[1;32m   1206\u001b[0m     password\u001b[39m=\u001b[39;49m\u001b[39mFalse\u001b[39;49;00m,\n\u001b[1;32m   1207\u001b[0m )\n",
      "File \u001b[0;32m~/GitHub/AIenv/lib/python3.10/site-packages/ipykernel/kernelbase.py:1245\u001b[0m, in \u001b[0;36mKernel._input_request\u001b[0;34m(self, prompt, ident, parent, password)\u001b[0m\n\u001b[1;32m   1242\u001b[0m \u001b[39mexcept\u001b[39;00m \u001b[39mKeyboardInterrupt\u001b[39;00m:\n\u001b[1;32m   1243\u001b[0m     \u001b[39m# re-raise KeyboardInterrupt, to truncate traceback\u001b[39;00m\n\u001b[1;32m   1244\u001b[0m     msg \u001b[39m=\u001b[39m \u001b[39m\"\u001b[39m\u001b[39mInterrupted by user\u001b[39m\u001b[39m\"\u001b[39m\n\u001b[0;32m-> 1245\u001b[0m     \u001b[39mraise\u001b[39;00m \u001b[39mKeyboardInterrupt\u001b[39;00m(msg) \u001b[39mfrom\u001b[39;00m \u001b[39mNone\u001b[39;00m\n\u001b[1;32m   1246\u001b[0m \u001b[39mexcept\u001b[39;00m \u001b[39mException\u001b[39;00m:\n\u001b[1;32m   1247\u001b[0m     \u001b[39mself\u001b[39m\u001b[39m.\u001b[39mlog\u001b[39m.\u001b[39mwarning(\u001b[39m\"\u001b[39m\u001b[39mInvalid Message:\u001b[39m\u001b[39m\"\u001b[39m, exc_info\u001b[39m=\u001b[39m\u001b[39mTrue\u001b[39;00m)\n",
      "\u001b[0;31mKeyboardInterrupt\u001b[0m: Interrupted by user"
     ]
    }
   ],
   "source": [
    "myChatbot.learn(\"myFirstChatbot.aiml\")\n",
    "myChatbot.verbose(True)\n",
    "print( \"Successfuly loaded {} categories\".format(myChatbot.numCategories()))\n",
    "\n",
    "#type stop to end the chat session\n",
    "keepGoing = True\n",
    "\n",
    "while keepGoing:\n",
    "    nextInput = input(\"Enter your message >> \")\n",
    "    if(nextInput == 'bye'):\n",
    "        keepGoing = False\n",
    "    else:\n",
    "        print (myChatbot.respond(nextInput))"
   ]
  },
  {
   "cell_type": "markdown",
   "metadata": {},
   "source": [
    "<div class = \"alert alert-warning\" style= \"color:black\">\n",
    "    <h2>Activity 1: Experiment to find out how the chatbot preprocesses your input</h2>\n",
    "    You may have noticed that the patterns on the categories are all in upper case.\n",
    "\n",
    "Internally, the chatbot 'pre-processes' your input before it tries to match it.\n",
    "\n",
    "**Task 1** Experiment with using lower and upper case, and different punctuation, to see if you can work out what is happening.\n",
    "Then run the cells below to answer some questions on what you have learned\n",
    "    </div>\n",
    "\n"
   ]
  },
  {
   "cell_type": "markdown",
   "metadata": {},
   "source": [
    "<h2> you said you could use muktiople choice questions </h2>"
   ]
  },
  {
   "cell_type": "code",
   "execution_count": 5,
   "metadata": {
    "code_folding": [
     1
    ]
   },
   "outputs": [
    {
     "data": {
      "application/vnd.jupyter.widget-view+json": {
       "model_id": "1dcd40b6daab452fbef47bab372b771d",
       "version_major": 2,
       "version_minor": 0
      },
      "text/plain": [
       "VBox(children=(Output(outputs=({'name': 'stdout', 'text': 'Does it make a difference whether you use upper or …"
      ]
     },
     "metadata": {},
     "output_type": "display_data"
    }
   ],
   "source": [
    "display(workbook1_mcq1.Q1)\n"
   ]
  },
  {
   "cell_type": "code",
   "execution_count": 6,
   "metadata": {},
   "outputs": [
    {
     "data": {
      "application/vnd.jupyter.widget-view+json": {
       "model_id": "c1f619d0f6434ebe89df5e9043d97c60",
       "version_major": 2,
       "version_minor": 0
      },
      "text/plain": [
       "VBox(children=(Output(outputs=({'name': 'stdout', 'text': 'Does it make a difference if you have a comma in th…"
      ]
     },
     "metadata": {},
     "output_type": "display_data"
    }
   ],
   "source": [
    "display (workbook1_mcq1.Q2)"
   ]
  },
  {
   "cell_type": "code",
   "execution_count": 7,
   "metadata": {},
   "outputs": [
    {
     "data": {
      "application/vnd.jupyter.widget-view+json": {
       "model_id": "f059eb77740c48789a06c71bd50582bb",
       "version_major": 2,
       "version_minor": 0
      },
      "text/plain": [
       "VBox(children=(Output(outputs=({'name': 'stdout', 'text': 'Does it make a difference if you put a full stop in…"
      ]
     },
     "metadata": {},
     "output_type": "display_data"
    }
   ],
   "source": [
    "display(workbook1_mcq1.Q3)"
   ]
  },
  {
   "cell_type": "code",
   "execution_count": 8,
   "metadata": {},
   "outputs": [
    {
     "data": {
      "application/vnd.jupyter.widget-view+json": {
       "model_id": "1e218c177ead4133b664dab464e0eba7",
       "version_major": 2,
       "version_minor": 0
      },
      "text/plain": [
       "VBox(children=(Output(outputs=({'name': 'stdout', 'text': 'Does it make a difference if you you put a question…"
      ]
     },
     "metadata": {},
     "output_type": "display_data"
    }
   ],
   "source": [
    "display(workbook1_mcq1.Q4)"
   ]
  },
  {
   "cell_type": "code",
   "execution_count": 9,
   "metadata": {},
   "outputs": [
    {
     "data": {
      "application/vnd.jupyter.widget-view+json": {
       "model_id": "a3e9d0224f314a399c628f82fe5dcf17",
       "version_major": 2,
       "version_minor": 0
      },
      "text/plain": [
       "VBox(children=(Output(outputs=({'name': 'stdout', 'text': 'Does it make a difference if you have a comma at th…"
      ]
     },
     "metadata": {},
     "output_type": "display_data"
    }
   ],
   "source": [
    "display(workbook1_mcq1.Q5)"
   ]
  },
  {
   "cell_type": "code",
   "execution_count": 10,
   "metadata": {},
   "outputs": [
    {
     "data": {
      "application/vnd.jupyter.widget-view+json": {
       "model_id": "895190549094429ab84c72e73512b5aa",
       "version_major": 2,
       "version_minor": 0
      },
      "text/plain": [
       "VBox(children=(Output(outputs=({'name': 'stdout', 'text': 'Does it make a difference if you put a full stop at…"
      ]
     },
     "metadata": {},
     "output_type": "display_data"
    }
   ],
   "source": [
    "display(workbook1_mcq1.Q6)"
   ]
  },
  {
   "cell_type": "code",
   "execution_count": 11,
   "metadata": {},
   "outputs": [
    {
     "data": {
      "application/vnd.jupyter.widget-view+json": {
       "model_id": "7c2c6e6fee62445f9a20d85f9d40519f",
       "version_major": 2,
       "version_minor": 0
      },
      "text/plain": [
       "VBox(children=(Output(outputs=({'name': 'stdout', 'text': 'Does it make a difference if you you put a question…"
      ]
     },
     "metadata": {},
     "output_type": "display_data"
    }
   ],
   "source": [
    "display(workbook1_mcq1.Q7)"
   ]
  },
  {
   "cell_type": "code",
   "execution_count": 12,
   "metadata": {},
   "outputs": [
    {
     "data": {
      "application/vnd.jupyter.widget-view+json": {
       "model_id": "61019f4ac7134e2f932d57c3913baea4",
       "version_major": 2,
       "version_minor": 0
      },
      "text/plain": [
       "VBox(children=(Output(outputs=({'name': 'stdout', 'text': 'What happens if you enclose some of your input in q…"
      ]
     },
     "metadata": {},
     "output_type": "display_data"
    }
   ],
   "source": [
    "display(workbook1_mcq1.Q8)"
   ]
  },
  {
   "cell_type": "code",
   "execution_count": 15,
   "metadata": {},
   "outputs": [
    {
     "data": {
      "application/vnd.jupyter.widget-view+json": {
       "model_id": "b5d2cfefcda04144bcf0c3675abec43a",
       "version_major": 2,
       "version_minor": 0
      },
      "text/plain": [
       "VBox(children=(Output(outputs=({'name': 'stdout', 'text': \"What happens to contractions such as what's your na…"
      ]
     },
     "metadata": {},
     "output_type": "display_data"
    }
   ],
   "source": [
    "display(workbook1_mcq1.Q9)"
   ]
  },
  {
   "cell_type": "code",
   "execution_count": null,
   "metadata": {},
   "outputs": [],
   "source": []
  },
  {
   "cell_type": "markdown",
   "metadata": {},
   "source": [
    "# Debugging your chatbot:\n",
    "\n",
    "Debugging chatbots, like any other complex rule -based system, can be tricky.\n",
    "Some tools (especially pandorabots) provide you with more help than this python implementation does.\n",
    "\n",
    "From more than ten years experience teaching students AIML,  the main things to look out for are:\n",
    "- punctuation in your input\n",
    "- punctuation in patterns for categories you write.\n",
    "\n",
    "<div class = \"alert alert-warning\" style= \"color:black\"> <h2>Activitity 2: Thought exercise</h2>\n",
    "    Will the pattern below ever get matched?\n",
    "\n",
    "&lt;category&gt;  \n",
    "    &lt;pattern> WILL THIS BE MATCHED ? &lt;/pattern&gt;  \n",
    "    &lt;template&gt; Try it and come up with an explanation. &lt;/template&gt;  \n",
    " &lt;/category>     \n",
    "    </div>\n"
   ]
  },
  {
   "cell_type": "code",
   "execution_count": 4,
   "metadata": {},
   "outputs": [
    {
     "ename": "NameError",
     "evalue": "name 'workbook1_mcq1' is not defined",
     "output_type": "error",
     "traceback": [
      "\u001b[0;31m---------------------------------------------------------------------------\u001b[0m",
      "\u001b[0;31mNameError\u001b[0m                                 Traceback (most recent call last)",
      "Cell \u001b[0;32mIn[4], line 1\u001b[0m\n\u001b[0;32m----> 1\u001b[0m C \u001b[39m=\u001b[39mworkbook1_mcq1\u001b[39m.\u001b[39mactivity2()\n\u001b[1;32m      2\u001b[0m \u001b[39mprint\u001b[39m (C)\n",
      "\u001b[0;31mNameError\u001b[0m: name 'workbook1_mcq1' is not defined"
     ]
    }
   ],
   "source": [
    "C =.activity2()\n",
    "print (C)"
   ]
  },
  {
   "cell_type": "markdown",
   "metadata": {},
   "source": [
    "<h2> ^written function but cant get it to use it </h2>"
   ]
  },
  {
   "cell_type": "markdown",
   "metadata": {},
   "source": [
    "<div class = \"alert alert-warning\" style= \"color:black\">\n",
    "    <h2>Activity 3: Adding information to your chatbot</h2>\n",
    "It's time for you to start coding your first knowledge into a chatbot.\n",
    "<ul> \n",
    "    <li>Answers to the  following questions can all be found in the module blackboard site.</li>\n",
    " <li> We suggest that you just copy-paste-edit  the first simple category in the AIML cell above to make your bot answer the questions.</li>\n",
    "    </ul>\n",
    " <ol>\n",
    "     <li> When is the coursework submission deadline?</li>\n",
    "     <li> What is the name of the automated marking and feedback system?</li>\n",
    "     <li>How many Learning Outcomes does this module have?</li>\n",
    "    </ol>\n",
    " </div>\n",
    " \n",
    "\n",
    "### Don't forget \n",
    " - stop your current bot session by typing bye before you edit the AIML cell\n",
    " - run the aiml cell once you have edited it\n",
    " - then rerun the cell with the bot in it\n",
    " - if you get really stuck you can do Kernel-> 'Restart and Clear Output' from the notebook menu\n",
    "\n",
    "\n",
    "<div class=\"alert alert-block alert-danger\"> Please save your work (click the save icon) then shutdown the notebook when you have finished with this tutorial (menu->file->close and shutdown notebook)</div>\n",
    "<div class=\"alert alert-block alert-danger\"> Remember to download and save you work if you are not running this notebook locally.</div>\n",
    "\n"
   ]
  },
  {
   "cell_type": "markdown",
   "metadata": {},
   "source": [
    "pretty sure this is the thing where you challenge them to write in less than 10 things so wont be submitted here\n"
   ]
  }
 ],
 "metadata": {
  "kernelspec": {
   "display_name": "AIenv",
   "language": "python",
   "name": "python3"
  },
  "language_info": {
   "codemirror_mode": {
    "name": "ipython",
    "version": 3
   },
   "file_extension": ".py",
   "mimetype": "text/x-python",
   "name": "python",
   "nbconvert_exporter": "python",
   "pygments_lexer": "ipython3",
   "version": "3.10.5"
  }
 },
 "nbformat": 4,
 "nbformat_minor": 4
}
