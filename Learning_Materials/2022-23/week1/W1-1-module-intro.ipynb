{
 "cells": [
  {
   "cell_type": "markdown",
   "metadata": {
    "cell_style": "center",
    "slideshow": {
     "slide_type": "slide"
    },
    "tags": []
   },
   "source": [
    "# Artificial Intelligence I\n",
    "### Introduction by Jim Smith,  \n",
    "<img src=\"figs/Jim-dark-cropped.png\" alt= \"Picture of Jim on a dark background\" style=\"float:right;width:300px\"/>\n",
    "\n",
    "- Professor in Interactive AI\n",
    "  - time ~50:50 split between teaching/  research projects\n",
    "- Module Leader for AI 1 and Advanced AI (final year)\n",
    "- Led design of the AI pathway\n",
    "\n",
    "\n",
    "\n"
   ]
  },
  {
   "cell_type": "markdown",
   "metadata": {
    "cell_style": "center",
    "slideshow": {
     "slide_type": "slide"
    }
   },
   "source": [
    "<img src=\"figs/bookCover.jpg\" style=\"float:right; width:200px\" alt= \"Cover of Jim's textbook\"></img>\n",
    "## A bit about me\n",
    "*  1st degree Cambridge 1980s\n",
    "* 6 years away from academia\n",
    "* MSc. then PhD at UWE\n",
    "* 20 years researching & teaching AI\n",
    "\n",
    "### Current research interests:\n",
    "- Systems that learn how to learn\n",
    "- Human-AI collaboration\n",
    "- Privacy and AI\n",
    "\n"
   ]
  },
  {
   "cell_type": "markdown",
   "metadata": {
    "cell_style": "center",
    "slideshow": {
     "slide_type": "slide"
    },
    "tags": []
   },
   "source": [
    "## Nathan Duran\n",
    "* BSc Computer Science UWE, 2017\n",
    "* Final Year Project with me: crowd-sourced AI\n",
    "  for detecting exo-planets\n",
    "* Graduate Tutor recently finished PhD:  \n",
    "  in AI for conversational analysis \n",
    "<img src=\"figs/NathanDuran.jpg\" style=\"float:right; size:200px\"/>"
   ]
  },
  {
   "cell_type": "markdown",
   "metadata": {
    "slideshow": {
     "slide_type": "slide"
    }
   },
   "source": [
    "# Learning Outcomes\n",
    "1. Apply the basic concepts, uses and processes of AI to new tasks, identifying: the type of problem; what technologies or algorithms would be appropriate to apply; and suitable representations for candidate solutions.  \n",
    "  \n",
    "2. Recognise the differences between “Knowledge-based” paradigms of AI (inspired by the mind) and “Computational Intelligence” (e.g. inspired by the brain), and select appropriate paradigms according to the needs of a specific problem or application. \n",
    "3. Identify potential legal and ethical issues - such as privacy and unintentional bias- associated with the deployment of AI-based systems, and suggest actions to mitigate undesirable effects. \n",
    "4. Design and implement basic optimisation, expert system and machine learning systems. "
   ]
  },
  {
   "cell_type": "markdown",
   "metadata": {
    "cell_style": "center",
    "slideshow": {
     "slide_type": "slide"
    }
   },
   "source": [
    "# What we'll be covering\n",
    "### Week1:\n",
    "\n",
    "<img src=\"figs/input-model-output.png\" style=\"float:right; width:400px\"/>\n",
    "\n",
    "* Three basic types of problem\n",
    " * Symbolic vs. Computational AI \n",
    " \n",
    "<div class=\"alert alert-block alert-warning\" style=\"width:400px\">\n",
    "    <b>Practical:</b> your first jupyter notebook</div>\n",
    " \n"
   ]
  },
  {
   "cell_type": "markdown",
   "metadata": {
    "cell_style": "center",
    "slideshow": {
     "slide_type": "slide"
    }
   },
   "source": [
    " ### Topic 1: Representing Knowledge (weeks 2-5)\n",
    "\n",
    "<img src=\"figs/kbs.png\" style=\"width:400px;float:right\"/>\n",
    "\n",
    "* How to represent, store, and manipulate/use human knowledge\n",
    "* types of knowledge and reasoning\n",
    "* components of knowledge-based systems\n",
    "* modern knowledge based systems (Semantic Web)\n",
    "* Illustrated using the chatbot authoring language AIML\n",
    "\n",
    "\n",
    "\n",
    "<div class=\"alert alert-block alert-warning\" style=\"width:800px\"> <b>Practicals:</b> creating your own chatbots</div>"
   ]
  },
  {
   "cell_type": "markdown",
   "metadata": {
    "cell_style": "center",
    "slideshow": {
     "slide_type": "slide"
    }
   },
   "source": [
    " ### Topic 2: Machine Learning (weeks 6-10)\n",
    " <img src=\"figs/MachineLearningDiagram.png\" alt= \"example applications for types of machine learning\" style=\"width:400px;float:right\">example applications for types of machine learning.</img>\n",
    " * Types of Machine Learning\n",
    " * Ethical and legal issues \n",
    " * Supervised Machine Learning\n",
    "   * train-test workflow\n",
    "   * Common ML models\n",
    "   * Artificial Neural Networks\n",
    "\n",
    "<div class=\"alert alert-block alert-warning\" style=\"width:800px\"> <b>Practicals:</b> Creating interactive visualisations. <br>  Learning and comparing predictive models using different algorithms</div>"
   ]
  },
  {
   "cell_type": "markdown",
   "metadata": {
    "cell_style": "center",
    "slideshow": {
     "slide_type": "slide"
    }
   },
   "source": [
    "### Topic 3: Search (weeks 11-13)\n",
    "<img src=\"figs/pacman-routefinding.png\" alt= \"image of pacman executing depth-first search\" style=\"width:400px;  float:right\">.</img>\n",
    "* Problem solving as search\n",
    "* Common framework,\n",
    "* Recognising properties of algorithms and problems\n",
    "* constructing a solution vs changing one\n",
    "* decision problems vs optimisation\n",
    "\n",
    "<div class=\"alert alert-block alert-warning\" style=\"width:800px\"> <b>Practicals:</b> Designing and creating route-planning systems</div>"
   ]
  },
  {
   "cell_type": "markdown",
   "metadata": {
    "slideshow": {
     "slide_type": "skip"
    }
   },
   "source": [
    "## How this fits in with the rest of the degree\n",
    "Overall ethos: giving you the skills to undertake AI based projects\n",
    "* __Artificial Intelligence 1__: fluency in the basic ideas and tools of AI.\n",
    "* __Artificial Intelligence 2__: More computational AI e.g. Evolutionary Algorithms, Deep Learning, Reinforcement Learning \n",
    "* __Machine Learning__:  what it says ...\n",
    "* __Security, Data Analytics & Visualisation__ : exploring data, linking to ML algorithms to interactive visualisations\n",
    "* __Autonomous Agents and Multi-Agent Systems__: designing complex deliberate agents to work together \n",
    "* __Advanced Artificial Intelligence__: latest advances, dealing with complex problems"
   ]
  },
  {
   "cell_type": "markdown",
   "metadata": {
    "slideshow": {
     "slide_type": "slide"
    }
   },
   "source": [
    "# How we will teach this course: \n",
    "\n",
    "- **Acquisition: To help you learn by reading/ watching**  \n",
    "  Each week there are 3-4 15-20 minute pre-precorded videos for you to watch in advance \n",
    "\n",
    "- **Timetabled Online Lectorial: To help you learn through interactions with others**  \n",
    "  Interactive online sessions with quizzes and chat covering that week's key concepts.  \n",
    "  Your opportunity to ask your questions on that week's materials.\n",
    "\n",
    "- **Timetabled 2 hour lab session: To help you learn through practice**  \n",
    "  Workbooks of   practical  activities around week's concepts.  \n",
    "  Each workbook ends with an activity building up to that topic's coursework \n",
    "\n",
    "- **Self study each week**  \n",
    "  Self assessment test  \n",
    "  Complete practical workbook activities (especially coursework ones!)  \n",
    "  Watch materials for next week's Monday lecture\n",
    "\n",
    "- **Each topic ends with a \"reflection week\"**  \n",
    "  Bringing things together and putting them in context.  \n",
    "  In-class testss during the lab sessions and first access to submission system for that piece of coursework\n",
    "\n",
    "\n"
   ]
  },
  {
   "cell_type": "markdown",
   "metadata": {
    "slideshow": {
     "slide_type": "slide"
    }
   },
   "source": [
    "## Assessment\n",
    "For each topic there is  \n",
    "\n",
    "A short in-class tests designed to test your understanding of the coursework you are submitting.\n",
    " - taken in the lab session in the *reflection week*\n",
    "\n",
    "A deliverable for the Individual Coursework \n",
    " - multiple choice/multiple-answers questions to check your understnding of the concepts\n",
    " - code to test your ability to implement ideas\n",
    "\n",
    "<div class = \"alert alert-block alert-info\"><b>Online submission system for coursework:</b>\n",
    "    <ul><li> Automatically marks your work and provides feedback</li> <li>Available 24/7, and you get several attempts.</li> <li><strong>Learning through practice</strong></li></ul> </div>"
   ]
  },
  {
   "cell_type": "markdown",
   "metadata": {
    "slideshow": {
     "slide_type": "slide"
    }
   },
   "source": [
    "# How we will teach this course 2: Tools\n",
    "**Blackboard:** to host all materials,  self-assessment tests, links to videos and marking systems\n",
    "\n",
    "**Course will be taught in python**\n",
    "- 'language of choice' for ML\n",
    "- good open-source libraries\n",
    "- build on the *toolbox* of skills you learned in Principles of Programming\n",
    " \n",
    "**All the lectures and tutorials will use Jupyter Notebooks**\n",
    "- we'll help you  install it\n",
    "- or you can run on the cloud server we're providing"
   ]
  },
  {
   "cell_type": "code",
   "execution_count": 3,
   "metadata": {
    "cell_style": "center",
    "slideshow": {
     "slide_type": "fragment"
    },
    "tags": []
   },
   "outputs": [
    {
     "name": "stdout",
     "output_type": "stream",
     "text": [
      "Because I can change the code live   ...?\n"
     ]
    }
   ],
   "source": [
    "\n",
    "print ('Because I can change the code live   ...?')\n"
   ]
  }
 ],
 "metadata": {
  "celltoolbar": "Slideshow",
  "kernelspec": {
   "display_name": "py10",
   "language": "python",
   "name": "py10"
  },
  "language_info": {
   "codemirror_mode": {
    "name": "ipython",
    "version": 3
   },
   "file_extension": ".py",
   "mimetype": "text/x-python",
   "name": "python",
   "nbconvert_exporter": "python",
   "pygments_lexer": "ipython3",
   "version": "3.10.6"
  }
 },
 "nbformat": 4,
 "nbformat_minor": 4
}
