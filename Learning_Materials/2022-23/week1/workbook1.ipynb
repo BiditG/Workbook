{
 "cells": [
  {
   "cell_type": "markdown",
   "metadata": {},
   "source": [
    "# Workbook 1: Setting up jupyter and writing your first notebook\n",
    "\n",
    "If you are seeing this in your browser it means that you have successfully downloaded and run this notebook within your Jupiter environment.\n",
    "\n",
    "You should have watched the videos that explain how a note book works, and what the different types of cells are.\n",
    "\n",
    "If you haven't done that, on the modules blackboard go to:\n",
    "\n",
    "**Learning materials > Getting ready for the module: setting up Jupyter**\n",
    "\n",
    "- Please take the time to watch the video and run through the simple examples.\n",
    "- it is important to understand the effect of running and re-running different cells, and the order that you do that.\n",
    "\n",
    "This particular cell is a 'markdown' cell which we can use to show text on screen. \n",
    "- markdown cells are very useful to keep a record of what you are doing."
   ]
  },
  {
   "cell_type": "markdown",
   "metadata": {},
   "source": [
    "# Part 1: Implementing a simple algorithm for. simple problem\n",
    "## You are now ready to start doing some coding.\n",
    "\n",
    "- What we are going to do start off with is to refresh your python coding skills by writing a simple algorithm that tries all the possible combinations of 5 digits to solve a combination lock puzzle.\n",
    "- We'll also create a simple class for a puzzle with methods that let you test whether a given combination is the one you are looking for. \n",
    "- After that we will introducce the ```numpy``` class which is incredibly useful for all sorts of numeric computing.\n",
    "- along the way we will refresh the idea of splitting code into different files:\n",
    "  - so code can be re-used \n",
    "  - and to keep the main code (or notebook) cleaner and more self-explanatory\n",
    "- Finally you will submit your notebook to ther online marking system for feedback.\n",
    "<div class=\"alert alert-block alert-danger\"> <b>REMEMBER:</b> IF you are running the notebooks on the cloud server you need to click on the kernel menu and then change-kernel to'AIenv'.<br>\n",
    "IF you are running locally AND you created a virtual environment in Jupyter click on the kernel menu then change-kernel OR in VSCode use the kernel selector in the top-right hand corner.\n",
    "</div>"
   ]
  },
  {
   "cell_type": "markdown",
   "metadata": {},
   "source": [
    "### In the next cell:\n",
    "- line 1 tells python to import one module (file) which contains details of the multiple-choice questions checking your understanding\n",
    "- line 2 imports some code that lets us display multiple choice questions within a notebook\n",
    "- line 3 imports the numpy library. We'll focus more on this at the end of this workbook"
   ]
  },
  {
   "cell_type": "code",
   "execution_count": 1,
   "metadata": {},
   "outputs": [],
   "source": [
    "import  workbook1_mcq1\n",
    "from IPython.display import display\n",
    "import numpy as np"
   ]
  },
  {
   "cell_type": "markdown",
   "metadata": {},
   "source": [
    "### The next  cell defines a class for a combination lock problem:\n",
    "<a title=\"Immanuel goldstein at English Wikipedia, Public domain, via Wikimedia Commons\" href=\"https://commons.wikimedia.org/wiki/File:CombinationBikeLock.JPG\"><img width=\"256\" style=\"float:right\" alt=\"CombinationBikeLock\" src=\"https://upload.wikimedia.org/wikipedia/commons/b/b7/CombinationBikeLock.JPG\"></a>\n",
    "\n",
    "Coding things to note:\n",
    "- This code just uses python lists to hold the answer and attempts\n",
    "- I've used strict PEP8 naming conventions, docstrings and type hints for parameters to methods.  \n",
    "- This is good coding practice and many github repositories will use automated checks to enforce them\n",
    "- Note also I've use f-strings to create the output [Good explanation here](https://realpython.com/python-f-strings/)\n",
    "\n",
    "The init function takes one integer parameter, N:  the number of digits to guess.\n",
    "\n",
    "The evaluate function takes one parameter: the attempt (a list of numbers) and return True/False\n",
    "- Note the use of python's ```assert``` method to insist that the attempt is the right length\n",
    "- together with a ```try ...except``` block to deal with erroneous inputs"
   ]
  },
  {
   "cell_type": "code",
   "execution_count": 2,
   "metadata": {},
   "outputs": [],
   "source": [
    "class CombinationProblem:\n",
    "    \"\"\" \n",
    "    Class to create simple combination lock problems\n",
    "    and report whether a guess opens the lock\n",
    "        \"\"\"\n",
    "    def __init__(self,N:int=4,num_options:int =10):\n",
    "        \"\"\" Create a new intance with a random solution\"\"\"\n",
    "        self.answer = []\n",
    "        self.num_options=num_options\n",
    "        for position in range(N):\n",
    "            new_random_val= np.random.randint(0,num_options)\n",
    "            self.answer.append(new_random_val)\n",
    "        print(f' The new code to find is {self.answer}')\n",
    "        \n",
    "        \n",
    "    def evaluate(self, attempt:list)->bool:\n",
    "        \"\"\" Tests whether a provided attempt matches the combination\"\"\"\n",
    "        try:\n",
    "            assert len(attempt) == N # stop here if attempt is wrong length\n",
    "            for pos in range(N):\n",
    "                assert attempt[pos] >0\n",
    "                assert attempt[pos] <num_options\n",
    "                #stop if any digit is out of range\n",
    "            if attempt == self.answer :\n",
    "                return True\n",
    "            else:\n",
    "                return False\n",
    "        except AssertionError:\n",
    "            print(f' attempt had length {len(attempt)}, should have been {N}')\n",
    "            print('or values were out of range')\n",
    "            return False\n",
    "        "
   ]
  },
  {
   "cell_type": "markdown",
   "metadata": {},
   "source": [
    "<div class = \"alert alert-warning\" style= \"color:black\">\n",
    "    <h2>Activity 1: Write a simple algorithm to solve a combination lock puzzle</h2>\n",
    "    <h3> 40 marks for correct implementation </h3>\n",
    "    <h3> The puzzle will have 4 digits, each from the set {0,1,...num_options-1}</h3>\n",
    "    Your code should be wrapped up as a method that can be called using the skeleton code below.<br>\n",
    "    Having it as a method is neater, and means the automated marking system can test it as well.\n",
    "    <ol>\n",
    "        <li> Your code should take as a parameter a new puzzle instance with 4 digits.</li>\n",
    "        <li> Use the values [0,0,0,0] as your first guess</li>\n",
    "        <li> Then write four nested for loops (one for each digit of the puzzle) that should try every combination of digits until you find the right answer.</li>\n",
    "                <li> Each loop should try the values 0 ... num_options-1</li>\n",
    "                <li>The 'inside' loop should:\n",
    "                    <ul> \n",
    "                        <li> set the contents of the list <em>attempt</em></li>\n",
    "                        <li> then try to open the lock by calling <em>puzzle.evaluate(attempt)</em> </li>\n",
    "                        <li> and return current value of <em>attempt</em> if the outcome is True </li>\n",
    "                        <li> or move on to the next go around the loops if the answer is False</li>\n",
    "        </ul>\n",
    "        <li> Your function should return the right answer (as a list)</li>\n",
    "    </ol>\n",
    "    <p><b>Then run the second cell below to test your algorithm</b></p>\n",
    "    <p>    <b>Hint:</b> if your 4 loop variables are called digit1, digit2, digit3, digit4<br>\n",
    "        then you can set <em>attempt = [digit1,digit2,digit3,digit4]</em></p>\n",
    "    <p> <b>Note:</b>\n",
    "        It's easiest to do this with four nested for loops, but other methods might be quicker.</p>\n",
    "    </div>\n",
    "\n",
    "    \n",
    "    "
   ]
  },
  {
   "cell_type": "code",
   "execution_count": 3,
   "metadata": {},
   "outputs": [],
   "source": [
    "def exhaustive_search_4digits(puzzle:CombinationProblem, num_options=10)->list:\n",
    "    \"\"\" simple exhaustive search method that tries every combination until\n",
    "    it finds the answer to a 4-digit combination lock puzzle \"\"\"\n",
    "    attempt=[]\n",
    "\n",
    "    \n",
    "    ##Your code here\n",
    "    #set the first attempt to [0,0,0,0]\n",
    "\n",
    "    # now four nested for loops\n",
    "  \n",
    "    #should never get here                \n",
    "    return attempt"
   ]
  },
  {
   "cell_type": "code",
   "execution_count": 4,
   "metadata": {},
   "outputs": [
    {
     "name": "stdout",
     "output_type": "stream",
     "text": [
      " The new code to find is [3, 2, 3, 3]\n",
      "Something went wrong: your code returned the answer []\n",
      " but the real answer was [3, 2, 3, 3]\n"
     ]
    }
   ],
   "source": [
    "#run this cell to test your algorithm\n",
    "\n",
    "puzzle = CombinationProblem(N=4,num_options=10)\n",
    "\n",
    "search_answer = exhaustive_search_4digits(puzzle)\n",
    "\n",
    "if(search_answer == puzzle.answer):\n",
    "    print(f'Congratulations, your code successfully found the answer {search_answer}')\n",
    "else:\n",
    "    print(f'Something went wrong: your code returned the answer {search_answer}')\n",
    "    print(f' but the real answer was {puzzle.answer}') "
   ]
  },
  {
   "cell_type": "markdown",
   "metadata": {},
   "source": [
    "# Part 2: Analysing your algorithm's performance\n",
    "## How does your algorithm behave as the complexity of the problem grows\n",
    "\n",
    "\n",
    "<div class = \"alert alert-warning\" style= \"color:black\">\n",
    "    <h2>Activity 2 (40 marks): Analysing your algorithm's effectiveness and efficiency</h2>\n",
    "    <h3> 5 marks each for the first six questions, ten for the seventh</h3>\n",
    "     <ol>\n",
    "         <li> Run the next cell and answer the multiple-choice questions to check your understanding of your algorithm.</li>\n",
    "         <li> Then copy the right answers in to the cell below where they are stored for automated marking.<br>\n",
    "             <b> If you don't do this the marking system will record your answers as wrong.</b></li>\n",
    "    </ol>\n",
    "    <p>It's often a good idea to check your understanding of how the method works <b> in theory</b> against <b>observations</b>.<br> \n",
    "    So to check some of your answers you might want to add some print statements to your code.</p>\n",
    "    <p><b>Remember that the marking system wants to see your method working for 4 digits</b><br>\n",
    "    so  make a copy of the function with a different name if you want to experiment with what happens if there are more or less than 4 digits.</p>\n",
    "    </div>\n",
    "\n"
   ]
  },
  {
   "cell_type": "code",
   "execution_count": 5,
   "metadata": {
    "code_folding": [
     1
    ]
   },
   "outputs": [
    {
     "name": "stdout",
     "output_type": "stream",
     "text": [
      "\n",
      "These first three questions check how your algorithm should run with the settings provided.\n",
      "\n"
     ]
    },
    {
     "data": {
      "application/vnd.jupyter.widget-view+json": {
       "model_id": "b929c8f007c446bea96bd35f564700eb",
       "version_major": 2,
       "version_minor": 0
      },
      "text/plain": [
       "VBox(children=(Output(), RadioButtons(options=(('1', 0), ('4', 1), ('9', 2), ('1000', 3), ('5000', 4), ('10000…"
      ]
     },
     "metadata": {},
     "output_type": "display_data"
    },
    {
     "data": {
      "application/vnd.jupyter.widget-view+json": {
       "model_id": "d652bb5b78e04646a2be68d0bec1eb88",
       "version_major": 2,
       "version_minor": 0
      },
      "text/plain": [
       "VBox(children=(Output(), RadioButtons(options=(('1', 0), ('4', 1), ('9', 2), ('1000', 3), ('5000', 4), ('10000…"
      ]
     },
     "metadata": {},
     "output_type": "display_data"
    },
    {
     "data": {
      "application/vnd.jupyter.widget-view+json": {
       "model_id": "e930950ecf1b479bb303c235d459f780",
       "version_major": 2,
       "version_minor": 0
      },
      "text/plain": [
       "VBox(children=(Output(), RadioButtons(options=(('1', 0), ('4', 1), ('9', 2), ('1000', 3), ('5000', 4), ('10000…"
      ]
     },
     "metadata": {},
     "output_type": "display_data"
    },
    {
     "name": "stdout",
     "output_type": "stream",
     "text": [
      "\n",
      " The next questions ask you to think about how fast the search space grows as you change the puzzle definition.\n",
      "\n"
     ]
    },
    {
     "data": {
      "application/vnd.jupyter.widget-view+json": {
       "model_id": "aa6c302bd9de42fb8e41bf83e30636b0",
       "version_major": 2,
       "version_minor": 0
      },
      "text/plain": [
       "VBox(children=(Output(), RadioButtons(options=(('1', 0), ('5', 1), ('100', 2), ('500', 3), ('312.5', 4), ('625…"
      ]
     },
     "metadata": {},
     "output_type": "display_data"
    },
    {
     "data": {
      "application/vnd.jupyter.widget-view+json": {
       "model_id": "fa0bd5ea9b024876a71a5eac58b9e043",
       "version_major": 2,
       "version_minor": 0
      },
      "text/plain": [
       "VBox(children=(Output(), RadioButtons(options=(('1000', 0), ('5000', 1), ('10000', 2), ('50000', 3)), value=0)…"
      ]
     },
     "metadata": {},
     "output_type": "display_data"
    },
    {
     "data": {
      "application/vnd.jupyter.widget-view+json": {
       "model_id": "de7a4fdd235042d3bc1ddd78d2dafa5c",
       "version_major": 2,
       "version_minor": 0
      },
      "text/plain": [
       "VBox(children=(Output(), RadioButtons(options=(('1000', 0), ('5000', 1), ('10000', 2), ('80000', 3)), value=0)…"
      ]
     },
     "metadata": {},
     "output_type": "display_data"
    },
    {
     "data": {
      "application/vnd.jupyter.widget-view+json": {
       "model_id": "07bf46d6245e43c5859e0313fd96a09c",
       "version_major": 2,
       "version_minor": 0
      },
      "text/plain": [
       "VBox(children=(Output(), RadioButtons(options=((\"don't know\", 0), ('the number of digits', 1), ('the number of…"
      ]
     },
     "metadata": {},
     "output_type": "display_data"
    }
   ],
   "source": [
    "print('\\nThese first three questions check how your algorithm should run with the settings provided.\\n')\n",
    "display(workbook1_mcq1.Q1)\n",
    "display (workbook1_mcq1.Q2)\n",
    "display(workbook1_mcq1.Q3)\n",
    "\n",
    "print('\\n The next questions ask you to think about how fast the search space grows as you change the puzzle definition.\\n')\n",
    "\n",
    "display (workbook1_mcq1.Q4)\n",
    "display(workbook1_mcq1.Q5)\n",
    "display (workbook1_mcq1.Q6)\n",
    "display (workbook1_mcq1.Q7)"
   ]
  },
  {
   "cell_type": "markdown",
   "metadata": {},
   "source": [
    "### Now you've worked out the answers, save them for the automatic marking system to read\n",
    "For each of the variables in the dictionary below, change the value stored to  the right answer."
   ]
  },
  {
   "cell_type": "code",
   "execution_count": 12,
   "metadata": {},
   "outputs": [],
   "source": [
    "answer_dict = {'Q1': -1,\n",
    "               'Q2': -1,\n",
    "               'Q3': -1,\n",
    "               'Q4': -1,\n",
    "               'Q5': -1,\n",
    "               'Q6': -1,\n",
    "               'Q7': \"don't know\"\n",
    "          }\n",
    "\n"
   ]
  },
  {
   "cell_type": "code",
   "execution_count": 13,
   "metadata": {},
   "outputs": [
    {
     "name": "stdout",
     "output_type": "stream",
     "text": [
      "some of these answers are not correct\n"
     ]
    }
   ],
   "source": [
    "workbook1_mcq1.check_submitted_answers(answer_dict)"
   ]
  },
  {
   "cell_type": "markdown",
   "metadata": {},
   "source": [
    "# Part 3: Introducing the numpy package for storing and manipulating numerical data\n",
    "<img src=\"figs/slicing.png\" style=\"float:right\"/>\n",
    "\n",
    "![slicing examples](\"figs/slicing.png\")\n",
    "\n",
    "## Python arrays and slicing:\n",
    "Python has a **numpy** module with lots of useful code for doing math, and creating and manipulating arrays of data. \n",
    "\n",
    "There are **lots** of books and online resources to help you learn about numpy such as [W3schools](https://www.w3schools.com/python/numpy/default.asp), [geeksforgeeks](https://www.geeksforgeeks.org/python-numpy/) and of course you can ask specific questions if you're stuck with bits of coding on [stackoverflow](https://stackoverflow.com/questions/tagged/python)\n",
    "\n",
    "\n",
    "If we have a 2D numpy array X  we can select just parts of it - i.e. groups of rows, or colums, by \"slicing\".  \n",
    "\n",
    "We specify the range of rows we want, then the range of columns using ```X[startRow: endRow, startCol: endCol]``` \n",
    "- The endRow and endCol are not included in the slice.\n",
    "- If start or end are empty, then the slices goes right from the start or right to the end.\n",
    "- If the start is empty and the end is negative, the slices comes from the end of the row/column.\n",
    "\n",
    "**Example 1:** If we put the letters of my name into a 1-D array  then we can pick out what we want as shown in the cell below. \n",
    "\n",
    "**Example 2:** (also in the cell below) If we have all the tutors names we could pick out just one row,  or the nth letter in all their names. \n",
    "**Example 3:** if (as in the iris data in this tutorial) X has 150 rows and 4 columns then:\n",
    "- ```A = X[ 0 : 50 , :]```.  A is a 2d array containing the first 50 rows, and all 4 columns.\n",
    "- ```B = X[ : , 3:]```.   B is a 1D array with 150 rows and  the columns 3 and onwards (in this case, it is just the last).\n",
    "- ```C = X[ 0: 2, 0:4]``` C is a 2D array with 3 rows and 4 columns."
   ]
  },
  {
   "cell_type": "code",
   "execution_count": null,
   "metadata": {},
   "outputs": [],
   "source": [
    "import numpy as np\n",
    "\n",
    "#Example 1\n",
    "print('Declaring a 1d array')\n",
    "jimsName = np.array ( ['j','i','m',' ','s','m','i','t','h'])\n",
    "print(jimsName)\n",
    "print('extracting a range of values from a 1-D array:')\n",
    "print( jimsName[0:3])\n",
    "\n",
    "# Example 2\n",
    "print('\\n Declaring a  a 2D array:')\n",
    "tutorsNames = np.array([['j','i','m',' ','s','m','i','t','h',' ',' ',' '], \n",
    "                        ['c','h','r','i','s',' ','s','i','m','o','n','s'], \n",
    "                        ['n','a','t','h','a','n',' ','d','u','r','a','n']],dtype=str)\n",
    "print(tutorsNames)\n",
    "\n",
    "print('Extracting the a row from a 2D array - in this cas the second')\n",
    "print(tutorsNames[1, : ])   # every column of the second row\n",
    "\n",
    "print('Extracting a range of columns from every row of a 2D array')\n",
    "print(tutorsNames[ :, 1:5])\n",
    "\n",
    "# This example uses negative index to read from the end of a slice\n",
    "print('extracting a specific block of data from a 2D array')\n",
    "print(tutorsNames[2,-5:])"
   ]
  },
  {
   "cell_type": "code",
   "execution_count": null,
   "metadata": {},
   "outputs": [],
   "source": []
  }
 ],
 "metadata": {
  "kernelspec": {
   "display_name": "py10",
   "language": "python",
   "name": "py10"
  },
  "language_info": {
   "codemirror_mode": {
    "name": "ipython",
    "version": 3
   },
   "file_extension": ".py",
   "mimetype": "text/x-python",
   "name": "python",
   "nbconvert_exporter": "python",
   "pygments_lexer": "ipython3",
   "version": "3.10.6"
  }
 },
 "nbformat": 4,
 "nbformat_minor": 4
}
