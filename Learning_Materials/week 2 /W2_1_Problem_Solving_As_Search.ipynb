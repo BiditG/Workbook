{
 "cells": [
  {
   "cell_type": "markdown",
   "metadata": {
    "slideshow": {
     "slide_type": "slide"
    }
   },
   "source": [
    "# Topic 1: Search Algorithms\n",
    "## Problem Solving as Search\n",
    "## Artificial Intelligence 1, Week 2\n",
    "\n"
   ]
  },
  {
   "cell_type": "markdown",
   "metadata": {
    "slideshow": {
     "slide_type": "slide"
    }
   },
   "source": [
    "## This Week\n",
    "### Lecture:\n",
    "- Recap of input-model-output \n",
    "- Problem solving as search through space of  representations of candidate solutions\n",
    "- The process: constructive  vs perturbative (holistic) approaches \n",
    "- Landscapes, properties of search spaces"
   ]
  },
  {
   "cell_type": "markdown",
   "metadata": {
    "slideshow": {
     "slide_type": "slide"
    }
   },
   "source": [
    "## Learning Outcomes\n",
    "- Recognise and characterise Problem solving as search\n",
    "- Formulate problems via representations of candidate solutions allowing the use of standard algorithms, search on a graph \n",
    "- Able to characterise properties of search algorithms"
   ]
  },
  {
   "cell_type": "markdown",
   "metadata": {
    "slideshow": {
     "slide_type": "slide"
    }
   },
   "source": [
    "# Recap\n",
    "(parts of) computers do things in a sequence\n",
    "\n",
    "<div >\n",
    "<div style=\"float:left; width: 25%;\">\n",
    "    <h3>Input</h3> \n",
    "    <ul>\n",
    "        <li>keyboard</li>\n",
    "        <li> mouse</li>\n",
    "        <li> joystick</li>\n",
    "        <li> camera</li>\n",
    "        <li>microphone</li>\n",
    "        <li><b> another computer or programme</b></li>\n",
    "     </ul>\n",
    "  </div>\n",
    " \n",
    "    \n",
    " <div style = \"float:left;width:5%\">\n",
    " <br><br><br>   <span style='font-size:50px;'>&#8680;</span>\n",
    " </div>\n",
    "    \n",
    "<div  style=\"float:left; width:30%;background:lightblue;color:black\">\n",
    "    <h3>Model</h3>\n",
    "    <p>of a process or part of the world</p>\n",
    "    <ul>\n",
    "        <li>designed by a person</li>\n",
    "        <li> or learned by an algorithm</li>\n",
    "    </ul>\n",
    "</div>\n",
    "\n",
    "<div style = \"float:left;width:5%\">\n",
    " <br><br><br>   <span style='font-size:50px;'>&#8680;</span>\n",
    "</div>\n",
    "\n",
    " <div style=\"float:left; width:25%\">\n",
    "    <h3>Output</h3> \n",
    "    <ul>\n",
    "        <li>screen</li>\n",
    "        <li> motor</li>\n",
    "        <li>loudspeaker</li>\n",
    "        <li><b> another computer or programme</b></li>\n",
    "     </ul>\n",
    "</div>\n",
    "<br style=\"clear:left;\"/>        \n",
    " </div>"
   ]
  },
  {
   "cell_type": "markdown",
   "metadata": {
    "slideshow": {
     "slide_type": "slide"
    }
   },
   "source": [
    "# Recap 2: Different types of question pose different types of problems\n",
    "Problem Solving <==> one of the three parts is missing.\n",
    "\n",
    "Different types of problem are associated with different questions.\n",
    "\n",
    "<div >\n",
    "<div style=\"float:left; width: 30%;\">\n",
    "    <h3>Input</h3> \n",
    "    <ul>\n",
    "        <li>how do I?</li>\n",
    "        <li> what's the best/<br>quickest/...?</li>\n",
    "     </ul>\n",
    "  </div>\n",
    "\n",
    " <div style = \"float:left;width:5%\">\n",
    "<br> <br>.\n",
    " </div>\n",
    "\n",
    "    \n",
    "    \n",
    "<div style=\"float:left; width:30%;background:lightblue;color:black\">\n",
    "    <h3>Model</h3>\n",
    "    <ul>\n",
    "        <li>how does X relate to Y?</li>\n",
    "        <li>how do these symptoms link to diagnosis?</li>\n",
    "    </ul>\n",
    "</div>\n",
    "\n",
    "<div style = \"float:left;width:5%\">\n",
    "<br> <br>.\n",
    " </div>\n",
    "    \n",
    " <div style=\"float:left; width:30%\">\n",
    "  <h3>Output</h3> \n",
    "    <ul>\n",
    "        <li>who/what is this?</li>\n",
    "        <li> what will happen if ...?</li>\n",
    "        <li>what will the ... be tomorrow?</li>\n",
    "     </ul>\n",
    "</div>\n",
    "<br style=\"clear:left;\"/>        \n",
    " </div>"
   ]
  },
  {
   "cell_type": "markdown",
   "metadata": {
    "slideshow": {
     "slide_type": "slide"
    }
   },
   "source": [
    "# Based on what is missing, we define three types of problem\n",
    "\n",
    "<div >\n",
    "<div style=\"float:left; width: 30%;border:2px\">\n",
    "    <h3>Optimisation</h3>\n",
    "    <p><b>Given</b></p>\n",
    "    <ul>\n",
    "        <li>A model of the situation</li>\n",
    "        <li>Some constraints about the output</li>\n",
    "     </ul><br>\n",
    "    <p><b>Find</b> the  inputs that produce the desired output.\n",
    "    <br>Sometimes called <b><i>planning</i></b> when the answer is a sequence of inputs.></p>\n",
    "  </div>\n",
    " \n",
    "<div style = \"float:left;width:5%\">\n",
    "<br> <br>.<br>\n",
    " </div>\n",
    "    \n",
    "<div  style=\"float:left; width:30%;background:lightblue;color:black\">\n",
    "    <h3>Modelling</h3>\n",
    "    <p><b>Given</b>:</p>\n",
    "    <ul>\n",
    "        <li> A set of inputs (examples)</li>\n",
    "        <li> corresponding outputs/labels</li>\n",
    "       </ul>\n",
    "    <p><b>Find</b> the model that:</p>\n",
    "       <ul>\n",
    "        <li>Maps the known inputs onto their outputs</li>\n",
    "           <li> And generalises to new cases</li>\n",
    "       </ul>\n",
    "</div>\n",
    "\n",
    "\n",
    " <div style = \"float:left;width:5%\">\n",
    "<br> <br>.\n",
    " </div>\n",
    "\n",
    "\n",
    " <div style=\"float:left; width:30%\">\n",
    "  <h3>Prediction</h3> \n",
    "     <p><b>Given</b>:</p>\n",
    "    <ul>\n",
    "        <li>a model of the situation / process</li>\n",
    "        <li> some inputs</li>\n",
    "     </ul>\n",
    "     <p><b>Find</b> the correct output (prediction)</p>\n",
    "</div>\n",
    "<br style=\"clear:left;\"/>        \n",
    " </div>\n",
    " \n",
    " ## All of these  are searching through a space of possible solutions for the best one"
   ]
  },
  {
   "cell_type": "markdown",
   "metadata": {
    "slideshow": {
     "slide_type": "slide"
    }
   },
   "source": [
    "## How to Formulate Problems As Search\n",
    "\n",
    "Work out what variables are needed to define any possible solution  \n",
    "   and what values they can take.   \n",
    "   \n",
    "For example,\n",
    " - Sequence of moves/actions: *{left,forward,right,back}* ![maze](figures/maze.png)   \n",
    " - Set of design variables e.g. floating point weights for neural net ![artificial neural network](figures/ANN.png)"
   ]
  },
  {
   "cell_type": "markdown",
   "metadata": {
    "slideshow": {
     "slide_type": "slide"
    }
   },
   "source": [
    "2. Decide if all solutions have the same complexity or not  \n",
    "  or alternatively,  \n",
    "  \n",
    "  How many decisions do you need to make to specify a solution?  \n",
    "  \n",
    " - e.g. planning angry birds shot by shot,  vs multi-shot plan\n",
    "- could be fixed number: combination lock, weights for a given neural network architecture\n",
    "- or not: route, series of nodes in decision tree, ...   "
   ]
  },
  {
   "cell_type": "markdown",
   "metadata": {
    "slideshow": {
     "slide_type": "slide"
    }
   },
   "source": [
    "In code this looks like two classes:\n",
    "\n",
    "A problem (instance) \n",
    "``` \n",
    "class Problem:  \n",
    "        self.value_set\n",
    "        def evaluate(attempt:CandidateSolution)->float|int:\n",
    "            ...\n",
    "           return quality\n",
    "\n",
    "        def meets_constraints(attempt:CandidateSolution)->bool:\n",
    "            ...\n",
    "            return ok\n",
    "```    \n",
    "And then each individual solution is an **instance** of type CandidateSolution   \n",
    "   with a set of specific values for each variable   \n",
    "``` \n",
    "class CandidateSolution:\n",
    "        self.variable_values \n",
    "        self.quality\n",
    "```        "
   ]
  },
  {
   "cell_type": "markdown",
   "metadata": {
    "slideshow": {
     "slide_type": "slide"
    }
   },
   "source": [
    "3. Define operators to move between candidate solutions\n",
    " - Same complexity: change some values  : **Perturbative Search**  \n",
    "   e.g. change perceptron update rule for weights in a Neural Network:  \n",
    "    ∆ω = ε · i · α\n",
    "    change in weight = error X input X learning rate.\n",
    " - Different complexity: add/remove values: **Constructive Search**  \n",
    "   e.g.   \n",
    "   adding rules to a ruleset, splitting a node in a decision tree\n",
    "   ![decision tree](figures/DT_on_iris_petals.png)"
   ]
  },
  {
   "cell_type": "markdown",
   "metadata": {
    "slideshow": {
     "slide_type": "slide"
    }
   },
   "source": [
    "## Quick quiz:\n",
    "\n",
    "- I feel confident that I could code up an algorithm to solve Sudoku [True : False]"
   ]
  },
  {
   "cell_type": "markdown",
   "metadata": {
    "slideshow": {
     "slide_type": "fragment"
    }
   },
   "source": [
    "- I feel it is worthwhile to code up a dedicated algorithm to solve Sudoku[True:False]"
   ]
  },
  {
   "cell_type": "markdown",
   "metadata": {
    "slideshow": {
     "slide_type": "slide"
    }
   },
   "source": [
    "## Big Idea of the day 2: Representation + Move operator = landscape\n",
    "\n",
    "If we know how we are allowed to (or have written code to) change solutions \n",
    "- Then we know how which are ‘neighbours’ at 1 step, 2 steps, … n steps\n",
    "- This defines a neighourhood structure\n",
    "- And turns our ‘bag’ of solutions into a **landscape**.  \n",
    "  with an extra dimension for ‘quality of solution”\n",
    "  \n",
    "Because our brains are conditioned to moving around on the surface of the earth, this is a really useful metaphor\n",
    "- First coined by a biologist, Sewall-Wright, in 1932\n",
    "- Now used intensively in theoretical studies of search\n"
   ]
  },
  {
   "cell_type": "markdown",
   "metadata": {
    "slideshow": {
     "slide_type": "slide"
    }
   },
   "source": [
    "## Adaptive Landscape Metaphor\n",
    "\n",
    "- Take solutions characterised by n variables\n",
    "- Add an extra measure of quality\n",
    "- Embed in a n+1-dimensional space (landscape) \n",
    " - Point on the landscape = potential solution.\n",
    "- Aim of search is to find the highest point,\n",
    "  - or one that is “high enough” .\n",
    "- Can always convert to equivalent minimisation problem \n",
    "  - e.g. \"find the lowest point on an error landscape\" < => \"find the highest point on an accuracy landscape\"\n",
    "- So **search = path through space**\n"
   ]
  },
  {
   "cell_type": "markdown",
   "metadata": {
    "slideshow": {
     "slide_type": "slide"
    }
   },
   "source": [
    "## Example 2-input perceptron learning the AND problem\n",
    "\n",
    "**TO DO simplify descripton,. point forward**\n",
    "** addpicture of perceptron**\n",
    "- So that we can visualise it in 3d we will fix the bias weight  \n",
    "  and plot \n",
    "   - w<sub>1</sub> on the x-axis, \n",
    "   - w<sub>2</sub> on the z-axis, and \n",
    "   - the number of errors on the y-axis of a 3d plot.\n"
   ]
  },
  {
   "cell_type": "code",
   "execution_count": null,
   "metadata": {
    "slideshow": {
     "slide_type": "slide"
    }
   },
   "outputs": [],
   "source": [
    "## demo,   2 input perceptron learning and/or,  fix bias weight a nd outplut w1,w2,num_errorrs at each timestep then show on a 3Dplot\n",
    "from random import random\n",
    "import numpy as np\n",
    "\n",
    "\n",
    "class two_input_perceptron:\n",
    "    def __init__(self, learningRate):\n",
    "        self.weight1 = random()\n",
    "        self.weight2 = random()\n",
    "        self.biasweight = random()\n",
    "        self.bias = 1\n",
    "        self.learningRate = learningRate\n",
    "        print(\n",
    "            \" starting with initial random weights {:.4f}, {:.4f} and {:.4f}\".format(\n",
    "                self.weight1, self.weight2, self.biasweight\n",
    "            )\n",
    "        )\n",
    "\n",
    "    def predict(self, input1, input2) -> int:  # let it take continuous inputs\n",
    "        summedInput = (\n",
    "            input1 * self.weight1 + input2 * self.weight2 + self.bias * self.biasweight\n",
    "        )\n",
    "        if summedInput > 0:\n",
    "            return 1\n",
    "        else:\n",
    "            return 0\n",
    "\n",
    "    def update_weights(self, in1, in2, target):\n",
    "        error = target - self.predict(in1, in2)\n",
    "        if error == 0:\n",
    "            return 0\n",
    "        else:\n",
    "            self.biasweight += error * 1 * self.learningRate  # bias is always +1\n",
    "            if in1 > 0:\n",
    "                self.weight1 += error * in1 * self.learningRate\n",
    "            if in2 > 0:\n",
    "                self.weight2 += error * in2 * self.learningRate\n",
    "            return 1\n",
    "\n",
    "    def fit(self, train_X, train_y, maxEpochs, verbose=True):\n",
    "        for epoch in range(maxEpochs):\n",
    "            errors = 0\n",
    "            for testcase in range(len(train_y)):\n",
    "                errors += self.update_weights(\n",
    "                    train_X[testcase][0], train_X[testcase][1], train_y[testcase]\n",
    "                )\n",
    "            if errors == 0:\n",
    "                break\n",
    "        return errors\n",
    "\n",
    "    def getWeights(self):\n",
    "        return self.biasweight, self.weight1, self.weight2"
   ]
  },
  {
   "cell_type": "code",
   "execution_count": null,
   "metadata": {
    "slideshow": {
     "slide_type": "slide"
    },
    "tags": []
   },
   "outputs": [],
   "source": [
    "%matplotlib inline\n",
    "\n",
    "# set up grid\n",
    "X = np.asarray([0, 0, 0, 1, 1, 0, 1, 1])\n",
    "X = X.reshape(4, 2)\n",
    "y = [0, 0, 0, 1]\n",
    "samplepoints = np.empty((0, 4))\n",
    "\n",
    "# set up figure to display grid\n",
    "# from mpl_toolkits import mplot3d\n",
    "import matplotlib.pyplot as plt\n",
    "\n",
    "fig = plt.figure(figsize=(6, 6))\n",
    "ax = plt.axes(projection=\"3d\")\n",
    "\n",
    "colours = [\"gray\", \"blue\", \"red\", \"green\", \"orange\", \"brown\", \"purple\"]\n",
    "ax.set_xlabel(\"w1\")\n",
    "ax.set_ylabel(\"w2\")\n",
    "ax.set_zlabel(\"errors\")\n",
    "\n",
    "# now plot the learning curves of errors vs weights\n",
    "for run in range(10):\n",
    "    print(\"run {}\".format(run))\n",
    "\n",
    "    # make new perceptron object\n",
    "    myPerceptron = two_input_perceptron(0.01)\n",
    "    for epoch in range(100):\n",
    "        # train for one epoch\n",
    "        errors = myPerceptron.fit(X, y, maxEpochs=1, verbose=False)\n",
    "        _, w1, w2 = myPerceptron.getWeights()\n",
    "\n",
    "        # store weights and errors for these weights\n",
    "        samplepoints = np.vstack((samplepoints, [run, w1, w2, errors]))\n",
    "        if errors == 0:\n",
    "            print(\" finished after {} epochs\".format(epoch))\n",
    "            break\n",
    "\n",
    "    # add run path to plot\n",
    "    data = samplepoints[np.where(samplepoints[:, 0] == run)]\n",
    "    zline = data[:, 3]\n",
    "    xline = data[:, 1]\n",
    "    yline = data[:, 2]\n",
    "    thisColour = colours[run % 7]\n",
    "    ax.plot3D(xline, yline, zline, thisColour, linewidth=2)\n",
    "    plt.tight_layout()"
   ]
  },
  {
   "cell_type": "markdown",
   "metadata": {
    "slideshow": {
     "slide_type": "slide"
    }
   },
   "source": [
    "## Continuous Search Spaces<img src=\"figures/3D-landscape.png\" style=\"float:right\" width=30%>\n",
    "- Variables defining candidate solutions  are “real numbers”  \n",
    "  (floats/doubles)  \n",
    "- Number of solutions only limited by precision of coding\n",
    "- Can often apply mathematical techniques like  \n",
    "  differentiation, linear programming etc,   \n",
    "  as long as:\n",
    "   - the functions are not discontinuous (i.e. no 'cliffs')\n",
    "   - there are not too many optima\n",
    "- Natural sense of “distance” between solutions   \n",
    "  E.g. based on Euclidean distance (straight line)\n",
    "- Allows us to talk about \n",
    "  ///**local** and **global** optima /// genuinly no idea of they would have learnt this, pretty self explanatory but if they havent heared local and global used befor they might not get it "
   ]
  },
  {
   "cell_type": "markdown",
   "metadata": {
    "slideshow": {
     "slide_type": "slide"
    }
   },
   "source": [
    "## Combinatorial Search Spaces\n",
    "- Variables defining candidate solutions are:\n",
    "  - Binary / Boolean, \n",
    "  - Categorical labels (no natural order),\n",
    "  - Ordinal variables (e.g. integers),\n",
    "  - or permutations\n",
    "- **Countable** number of of solutions\n",
    "- Sometimes the problem definition will tell us how they can be connected, other times not.\n",
    "- Needs a different kind of search method, \n",
    "- especially if we want to prove that we have the “best” solution\n"
   ]
  },
  {
   "cell_type": "markdown",
   "metadata": {
    "slideshow": {
     "slide_type": "slide"
    }
   },
   "source": [
    "## Different ways of changing solutions ( move operators) create different  landscapes<img src=\"figures/chess-pieces.png\" style=\"float:right\">\n",
    "\n",
    "For some problems the structure is natural.\n",
    "\n",
    "But sometimes “local”  depends on how we move.\n",
    "\n",
    "E.g. neighbours of King, knight, bishop, rook in chess\n",
    "\n",
    "<img src=\"figures/chess-moves.png\" width = 80%>\n"
   ]
  },
  {
   "cell_type": "markdown",
   "metadata": {
    "slideshow": {
     "slide_type": "slide"
    }
   },
   "source": [
    "## Quiz 2:\n",
    "\n",
    "- A local optimum is better than all its neighbours? [True | False]\n",
    "- The global optimum is the same however you define the landscape [True | False]\n",
    "- A point that is locally optimal for one landscape, will still be if you change the move operator? [True| False]"
   ]
  },
  {
   "cell_type": "markdown",
   "metadata": {
    "slideshow": {
     "slide_type": "slide"
    }
   },
   "source": [
    "## Properties of Search Algorithms\n",
    "\n",
    "Ways of generating solutions would ideally be:\n",
    "- Optimal \n",
    "- Efficient \n",
    "- Complete \n",
    "\n",
    "<div> \n",
    "    <div style= \"float:left\" width=25%><img src=\"figures/complete.png\" width=50%> </div>\n",
    "    <div  style=\"float:left\" width=25%><img src=\"figures/efficient.png\" width=50%></div>\n",
    "    <div style= \"float:left\" width=25%><img src=\"figures/optimal.png\" width=50%></div>\n",
    "</div>\n"
   ]
  },
  {
   "cell_type": "markdown",
   "metadata": {
    "slideshow": {
     "slide_type": "skip"
    }
   },
   "source": [
    "## Quiz: Starting from any given square, can a bishop  do a complete search of a chess board?"
   ]
  },
  {
   "cell_type": "markdown",
   "metadata": {
    "slideshow": {
     "slide_type": "slide"
    }
   },
   "source": [
    "## 3rd big idea of the day: Search using a Generate-test loop\n",
    "\n",
    "A common framework we can use for different problems, and to get different algorithms\n",
    "\n",
    "    1.   Set WorkingMemory = Empty\n",
    "    2.   Initialise (CandidateSolution)\n",
    "    3.   Test ( CandidateSolution)\n",
    "    4.   UpdateWorkingMemory()\n",
    "    5.   While ( goal_not_found AND possibilities_left) DO\n",
    "    6.         CandidateSolution <- Generate ()\n",
    "    7.\t       Test ( CandidateSolution)\n",
    "    8.         UpdateWorkingMemory()\n",
    "    9.   OD\n",
    "    10.  Return (success or failure as appropriate).  \n",
    "\n",
    "Often we divide working memory into open list and closed list\n",
    "\n",
    "Usually generate() will apply a move operator to  something from our working memory.  \n",
    "The Open list holds Candidate solutions we know about but haven’t tested yet.  \n",
    "The Closed list holds Candidate solutions we’ve tested but didn’t meet our goal criteria\n",
    "\n",
    "\n"
   ]
  },
  {
   "cell_type": "markdown",
   "metadata": {
    "slideshow": {
     "slide_type": "skip"
    }
   },
   "source": [
    "## Quiz: ///Exhaustive Search/// is:     not 100% and its pretty self explanatory but i dont think you mentioned this at any point \n",
    "- Complete?\n",
    "- Optimal?\n",
    "- Efficient?\n"
   ]
  },
  {
   "cell_type": "markdown",
   "metadata": {
    "slideshow": {
     "slide_type": "skip"
    }
   },
   "source": [
    "## Quiz: In which if these situations might optimality be less important than efficiency?\n",
    "\n",
    "- Speech recognition software for dictation\n",
    "- Fingerprint recognition in a biometric access system \n",
    "- Neither\n",
    "- Both\n"
   ]
  },
  {
   "cell_type": "markdown",
   "metadata": {
    "slideshow": {
     "slide_type": "slide"
    }
   },
   "source": [
    "## Search summary\n",
    "To solve any problem on a computer we have to define a set of variables relating to the problem\n",
    "- Assigning values to variables <=> **generating** candidate solution\n",
    "\n",
    "- **Testing** a candidate solution <=> decoding set of variables into something relevant to the problem and then try it out\n",
    "\n",
    "- Generation <=> applying move operators to past solutions\n",
    "  - If some variables can be undefined, or added during generation, we have a constructive search\n",
    "  - If we have to specify every value during generation, we have a perturbative search\n",
    "- Move operators define a landscape\n",
    "- Search<=> moving through a landscape to find best point\n",
    " - search algorithms might be one or more of **optimal**, **complete**, and **efficient**\n",
    "\n"
   ]
  }
 ],
 "metadata": {
  "celltoolbar": "Slideshow",
  "kernelspec": {
   "display_name": "aienv",
   "language": "python",
   "name": "aienv"
  },
  "language_info": {
   "codemirror_mode": {
    "name": "ipython",
    "version": 3
   },
   "file_extension": ".py",
   "mimetype": "text/x-python",
   "name": "python",
   "nbconvert_exporter": "python",
   "pygments_lexer": "ipython3",
   "version": "3.11.6"
  }
 },
 "nbformat": 4,
 "nbformat_minor": 4
}
