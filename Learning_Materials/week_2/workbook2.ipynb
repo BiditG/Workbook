{
 "cells": [
  {
   "cell_type": "markdown",
   "metadata": {},
   "source": [
    "# Workbook 2: Depth and Breadth-First Search\n",
    "\n",
    "Overview of activities and objectives of this workbook:\n",
    "\n",
    "1. The first part of this workbook will implement the Depth-first and Breadth-first search algorithms.\n",
    "    - We will test the algorithms on the combination lock problem from last week.\n",
    "    - We provide an implementation of the pseudocode from the lectures.\n",
    "    - This will give you experience **implementing** and **testing** the algorithms within a common code framework that we provide.\n",
    "    - This will also help to build your python skills and confidence with using and adapting other people's code.\n",
    "\n",
    "2. The second part of this workbook give you hands-on experience of **extending**  algorithms to different contexts.\n",
    "    - In this case, adapting depth-first search to try and make it work for the fox-chicken-grain problem."
   ]
  },
  {
   "cell_type": "markdown",
   "metadata": {},
   "source": [
    "# Part 1: Depth and Breadth-First Search"
   ]
  },
  {
   "cell_type": "markdown",
   "metadata": {},
   "source": [
    "### Pseudo-code for generic single member search\n",
    "\n",
    "The variables open_list and closed_list are lists of candidate solutions:\n",
    "- `open_list` is the list of candidate solutions we *have not* checked yet.\n",
    "- `closed_list` is the list of candidate solutions we *have* checked yet.\n",
    "\n",
    "The variables working_candidate and neighbour are candidate solutions:\n",
    "- `working_candidate` is the current candidate solution we are looking at.\n",
    "- `neighbour` is a candidate solution (similar to working candidate) that is created using the 'move operator'.\n",
    "\n",
    "<div style=\"background:#E0FFE0\">\n",
    "<dl style=\"font-size:1em\">\n",
    "    <dt>    <span style=\"color:darkred;font-size:1em\"> <em>INITIALISE</em></span></dt>\n",
    "    <dd>   <b>Set</b> open_list, closed_list &larr; EmptyList </dd>  \n",
    "    <dd>   working_candidate &larr; <b>Initialise</b> (CandidateSolution) </dd> \n",
    "    <dd>   <b>Test</b> ( working_candidate)  &nbsp;&nbsp;&nbsp;&nbsp;&nbsp;&nbsp;<span style=\"color:red\"> <b>Problem</b>-specific code</span></dd>\n",
    "    <dd>   <b>AppendToOpenList</b>(working_candidate)<br>  </dd>\n",
    "</dl>\n",
    "</div>\n",
    "\n",
    "<div style=\"background:#F0FFFF;font-size:1em\">\n",
    "<p style=\"color:darkred;font-size:1em;margin-bottom:0pt\"><em>MAIN LOOP</em></p>\n",
    "<dl style=\"font-size:1em;margin-top:0pt\">\n",
    "    <dt>&nbsp;&nbsp;&nbsp;<b>WHILE</b> IsNotEmpty( open_list) <b>DO</b> </dt>\n",
    "    <dd> working_candidate &larr; <b>SelectAndMoveFromOpenList</b>(algorithm_name)&nbsp;&nbsp;&nbsp;&nbsp;&nbsp;&nbsp;<span style=\"color:red\"> <b>Algorithm</b>-specific code</span></dd>\n",
    "    <dd>  <b>FOR</b> sample in SAMPLE_SIZE <b>DO</b> <br>\n",
    "        <dl style=\"font-size:1em\">\n",
    "            <dt style=\"color:blue;font-style:italic\"> &nbsp;&nbsp;&nbsp;&nbsp;&nbsp;&nbsp;GENERATE </dt>\n",
    "            <dd>  neighbour &larr; <b>ApplyMoveOperator</b> (working_candidate)&nbsp;&nbsp;&nbsp;&nbsp;&nbsp;&nbsp;<span style=\"color:red\"> <b>Representation</b>-specific code</span></dd>\n",
    "            <dt style=\"color:blue;font-style:italic\">&nbsp;&nbsp;&nbsp;&nbsp;&nbsp;&nbsp;TEST</dt>\n",
    "            <dd> status &larr; <b>Test</b> ( neighbour)&nbsp;&nbsp;&nbsp;&nbsp;&nbsp;&nbsp;<span style=\"color:red\"> <b>Problem</b>-specific code</span></dd>\n",
    "            <dt style=\"color:blue;font-style:italic\"> &nbsp;&nbsp;&nbsp;&nbsp;&nbsp;&nbsp;UPDATE WORKING MEMORY</dt> \n",
    "            <dd> <b>IF</b> status IS AtGoal <b>THEN</b><br>\n",
    "                    &nbsp;&nbsp;&nbsp; <b>Return</b>(SUCCESS)</dd>\n",
    "            <dd> <b>ELSE IF</b> status IS BREAKS_CONSTRAINTS <b>THEN</b><br>\n",
    "                &nbsp;&nbsp;&nbsp; <b>AppendToClosedList</b>(neighbour)</dd>\n",
    "            <dd><b>ELSE</b><br>\n",
    "                &nbsp;&nbsp;&nbsp; <b>AppendToOpenList</b>(neighbour)</dd>\n",
    "        </dl>\n",
    "    <dd>          <b>AppendToClosedList</b>(workingCandidate)</dd>\n",
    "</dl>\n",
    "</div>"
   ]
  },
  {
   "cell_type": "markdown",
   "metadata": {},
   "source": [
    "<div class=\"alert alert-block alert-info\" style=\"color:black\"><h2>Activity 1: Implementing depth-first search</h2>\n",
    "    <ol>\n",
    "        <li> Answer the three multiple-choice questions below to check your understanding of the code.</li>\n",
    "        <li> Complete the first code cell below to create a class <code>DepthFirstSearch</code>\n",
    "        <li> Run the second code cell below to test that your code works as expected on different instances of the combination problem. In each case we know how many guesses it <em>should</em> take.\n",
    "            <ul> \n",
    "                <li>The first three come from simple reasoning about the desired behaviour. This is the best form of testing.</li>\n",
    "                <li>The last two are results from my <em>reference implementation</em>. This form of testing is common if we are rewriting code that already exists in another language or framework.</li>\n",
    "            </ul>\n",
    "        </li>\n",
    "    </ol>\n",
    "    <br><b>How to get started:</b>\n",
    "    <ol>\n",
    "        <li>Make sure you understand the design of a generic search method described in the pseudo-code above.</li>\n",
    "        <li>Open the file singlemembersearch.py which contains the code <b>implementation</b>. You don't need to look at all of it - but make sure you understand what method <code>run_search()</code>is doing. Your tutors will walk you through the code if that is helpful</li>\n",
    "    </ol>\n",
    "    Your code should:\n",
    "    <ol>\n",
    "        <li>Complete the function <code>select_and_move_from_openlist()</code>.\n",
    "        <li>Start by copying the pseudo-code into the method as comments.</li>\n",
    "        <li>Then insert one or two lines of code to implement each comment.</li>\n",
    "    </ol>\n",
    "</div>"
   ]
  },
  {
   "cell_type": "markdown",
   "metadata": {},
   "source": [
    "<div class=\"alert alert-block alert-success\" style=\"color:black\"><b>Hints:</b> \n",
    "    <ul>\n",
    "        <li>If you look at the pseudo-code above this function is implementing the <b>SelectAndMoveFromOpenList</b> function. So you <b>don't need to implement any of the other steps</b>.\n",
    "        <li>Remember the only difference between depth-first search and breadth-first search is which candidate solution we take from the open list to test next. For depth-first this is <b>the last candidate solution</b> in the open list.</li>\n",
    "        <li>The open list is accessible from the <code>SingleMemberSearch</code> parent class as <code>self.open_list</code></li>\n",
    "    </ul>\n",
    "</div>"
   ]
  },
  {
   "cell_type": "code",
   "execution_count": null,
   "metadata": {
    "tags": []
   },
   "outputs": [],
   "source": [
    "# run this cell to display the multiple choice questions\n",
    "import workbook2_utils as wb2\n",
    "\n",
    "display(wb2.q0)\n",
    "display(wb2.q1)\n",
    "display(wb2.q2)"
   ]
  },
  {
   "cell_type": "markdown",
   "metadata": {},
   "source": [
    "### Pseudocode for Depth-first search\n",
    "<div style=\"background:#F0FFFF;font-size:1em\">\n",
    "    <dl>\n",
    "        <dt><b>SelectAndMoveFromOpenList()</b></dt>\n",
    "        <dd> my_index &larr; <b>GetLastIndex</b>(open_list)</dd>\n",
    "        <dd> the_candidate &larr; open_list(my_index)</dd>\n",
    "        <dd> <b>RemoveFromOpenList</b>(my_index)</dd>\n",
    "        <dd> <b>Return</b>(the_candidate)</dd>\n",
    "    </dl>\n",
    "    </div> "
   ]
  },
  {
   "cell_type": "code",
   "execution_count": null,
   "metadata": {
    "tags": []
   },
   "outputs": [],
   "source": [
    "# YOU MUST RUN THIS CELL BUT DO NOT EDIT IT OR YOU WILL BREAK THE NOTEBOOK\n",
    "import copy\n",
    "import importlib\n",
    "import sys, os\n",
    "sys.path.append(os.path.join(os.path.dirname(sys.path[0]), 'common'))"
    "from problem import Problem\n",
    "from candidatesolution import CandidateSolution\n",
    "from singlemembersearch import SingleMemberSearch\n",
    "from combinationproblem import CombinationProblem"
   ]
  },
  {
   "cell_type": "code",
   "execution_count": null,
   "metadata": {
    "tags": []
   },
   "outputs": [],
   "source": [
    "class DepthFirstSearch(SingleMemberSearch):\n",
    "    \"\"\"your implementation of depth first search to extend\n",
    "    the superclass SingleMemberSearch search.\n",
    "    Adds  a __str__method\n",
    "    Over-rides the method select_and_move_from_openlist\n",
    "    to implement the algorithm\n",
    "    \"\"\"\n",
    "\n",
    "    def __str__(self):\n",
    "        return \"depth-first\"\n",
    "\n",
    "    def select_and_move_from_openlist(self) -> CandidateSolution:\n",
    "        \"\"\"void in superclass\n",
    "        In sub-classes should implement different algorithms\n",
    "        depending on what item it picks from self.open_list\n",
    "        and what it then does to the open list\n",
    "\n",
    "        Returns\n",
    "        -------\n",
    "        next working candidate (solution) taken from open list\n",
    "        \"\"\"\n",
    "\n",
    "        # create a candidate solution variable to hold the next solution\n",
    "        next_soln = None\n",
    "\n",
    "        # ====> insert your pseudo-code and code below here\n",
    "\n",
    "        # <==== insert your pseudo-code and code above here\n",
    "        return next_soln"
   ]
  },
  {
   "cell_type": "code",
   "execution_count": null,
   "metadata": {
    "tags": []
   },
   "outputs": [],
   "source": [
    "def test_depthfirst_combination():\n",
    "    \"\"\"tests that depth first search works as expected\n",
    "    on a combination lock problem by fixing the puzzle\n",
    "    \"\"\"\n",
    "\n",
    "    # Dictionary of tests. Key = test name, value = tuple[combination, expected_attempts]\n",
    "    deptests = {\n",
    "        \"test1\": [[1, 1, 1, 1], 1],\n",
    "        \"test2\": [[1, 1, 1, 10], 37],\n",
    "        \"test3\": [[2, 1, 1, 10], 38],\n",
    "        \"test4\": [[10, 10, 10, 10], 2052],\n",
    "        \"test5\": [[6, 6, 6, 6], 5988],\n",
    "    }\n",
    "\n",
    "    # loop through each test\n",
    "    for key, val in deptests.items():\n",
    "        \n",
    "        # make a combination lock problem\n",
    "        myproblem = CombinationProblem(tumblers=4, num_options=10)\n",
    "\n",
    "        # change answer to specified combination and set expected attempts\n",
    "        myproblem.set_goal(val[0])\n",
    "        expected = val[1]\n",
    "        print(f\"Testing behaviour for puzzle {myproblem.get_goal()}\")\n",
    "\n",
    "        # make then call search process from your code\n",
    "        mysearch = DepthFirstSearch(myproblem, max_attempts=10000)\n",
    "        found = mysearch.run_search()\n",
    "\n",
    "        # Test results are what they should be\n",
    "        assert found, f\"should be able to solve {val[0]}\"\n",
    "        errorstring = f\"should take {expected} attempts not {mysearch.trials}\"\n",
    "        assert mysearch.trials == expected, errorstring\n",
    "        print(f\"passed {key}\")\n",
    "\n",
    "    print(\"passed all tests\")\n",
    "\n",
    "\n",
    "# Call the test function\n",
    "test_depthfirst_combination()"
   ]
  },
  {
   "cell_type": "markdown",
   "metadata": {},
   "source": [
    "<div class=\"alert alert-block alert-info\" style=\"color:black\"><h2>Activity 2: Implementing breadth-first search</h2>\n",
    "    <ol>\n",
    "        <li> Complete the first code cell below to create a class <code>DepthFirstSearch</code>\n",
    "        <li> Run the second code cell below to test that your code works as expected on different instances of the combination problem. In each case we know how many guesses it <em>should</em> take.</li>\n",
    "        <li> When you code passes all of the tests provided, read the code for the method <code>CombinationLock.evaluate()</code> and then answer the multiple-choice questions below.</li>\n",
    "    </ol>\n",
    "    <br><b>How to get started:</b> You should complete this problem in the same way you did for depth-first search:\n",
    "    <ol>\n",
    "        <li>Complete the function <code>select_and_move_from_openlist()</code>.\n",
    "        <li>Start by copying the pseudo-code into the method as comments.</li>\n",
    "        <li>Then insert one or two lines of code to implement each comment.</li>\n",
    "    </ol>\n",
    "</div>"
   ]
  },
  {
   "cell_type": "markdown",
   "metadata": {},
   "source": [
    "<div class=\"alert alert-block alert-success\" style=\"color:black\"><b>Hints:</b> \n",
    "Remember the only difference between depth-first search and breadth-first search is which candidate solution we take from the open list to test next. For breadth-first this is <b>the first candidate solution</b> in the open list.\n",
    "</div>"
   ]
  },
  {
   "cell_type": "markdown",
   "metadata": {
    "tags": []
   },
   "source": [
    "### Pseudocode for Breadth-first search\n",
    "<div style=\"background:#F0FFFF;font-size:1em\">\n",
    "    <dl>\n",
    "        <dt><b>SelectAndMoveFromOpenList()</b></dt>\n",
    "        <dd> my_index &larr; <b>GetFirstIndex</b>(open_list)</dd>\n",
    "        <dd> the_candidate &larr; open_list(my_index)</dd>\n",
    "        <dd> <b>RemoveFromOpenList</b>(my_index)</dd>\n",
    "        <dd> <b>Return</b>(the_candidate)</dd>\n",
    "    </dl>\n",
    "    </div> "
   ]
  },
  {
   "cell_type": "code",
   "execution_count": null,
   "metadata": {
    "tags": []
   },
   "outputs": [],
   "source": [
    "class BreadthFirstSearch(SingleMemberSearch):\n",
    "    \"\"\"your implementation of depth first search to extend\n",
    "    the superclass SingleMemberSearch search.\n",
    "    Adds  a __str__method\n",
    "    Over-rides the method select_and_move_from_openlist\n",
    "    to implement the algorithm\n",
    "    \"\"\"\n",
    "\n",
    "    def __str__(self):\n",
    "        return \"breadth-first\"\n",
    "\n",
    "    def select_and_move_from_openlist(self) -> CandidateSolution:\n",
    "        \"\"\"Implements the breadth-first search algorithm\n",
    "\n",
    "        Returns\n",
    "        -------\n",
    "        next working candidate (solution) taken from open list\n",
    "        \"\"\"\n",
    "        # create a candidate solution variable to hold the next solution\n",
    "        next_soln = None\n",
    "\n",
    "        # ====> insert your pseudo-code and code below here\n",
    "\n",
    "        # <==== insert your pseudo-code and code above here\n",
    "        return next_soln"
   ]
  },
  {
   "cell_type": "code",
   "execution_count": null,
   "metadata": {
    "tags": []
   },
   "outputs": [],
   "source": [
    "def test_breadthfirst_combination():\n",
    "    \"\"\"tests that depth first search works as expected\n",
    "    on a combination lock problem by fixing the puzzle\n",
    "    \"\"\"\n",
    "    print_runlog = False  # you might want to turn this on for debugging\n",
    "\n",
    "    bretests = {\n",
    "        \"test1\": [[1, 1, 1, 1], 1],\n",
    "        \"test2\": [[1, 1, 1, 10], 37],\n",
    "        \"test3\": [[2, 1, 1, 10], 64],\n",
    "        \"test4\": [[10, 10, 10, 10], 10000],\n",
    "        \"test5\": [[6, 6, 6, 6], 6720],\n",
    "    }\n",
    "\n",
    "    # loop through each test\n",
    "    for key, val in bretests.items():\n",
    "\n",
    "        # make a combination lock problem\n",
    "        myproblem = CombinationProblem(tumblers=4, num_options=10)\n",
    "\n",
    "        # change answer to specified combination and set expected attempts\n",
    "        myproblem.set_goal(val[0])\n",
    "        expected = val[1]\n",
    "        print(f\"Testing behaviour for puzzle {myproblem.get_goal()}\")\n",
    "\n",
    "        # make then call search process from your code\n",
    "        mysearch = BreadthFirstSearch(myproblem, max_attempts=10000)\n",
    "        found = mysearch.run_search()\n",
    "\n",
    "        if print_runlog:  # in case you need to debug your code\n",
    "            print(mysearch.runlog)\n",
    "        assert found, f\"should be able to solve {val[0]}\"\n",
    "        errorstring = f\"should take {expected} attempts not {mysearch.trials}\"\n",
    "        assert mysearch.trials == expected, errorstring\n",
    "        print(f\"passed {key}\")\n",
    "        \n",
    "    print(\"passed all tests\")\n",
    "\n",
    "\n",
    "# Call the test function\n",
    "test_breadthfirst_combination()"
   ]
  },
  {
   "cell_type": "code",
   "execution_count": null,
   "metadata": {
    "tags": []
   },
   "outputs": [],
   "source": [
    "# Run this cell to display some questions about the testing process\n",
    "display(wb2.q3)\n",
    "display(wb2.q4)"
   ]
  },
  {
   "cell_type": "markdown",
   "metadata": {},
   "source": [
    "<div style=\"background-color:black;width:100%;\"></div>"
   ]
  },
  {
   "cell_type": "markdown",
   "metadata": {},
   "source": [
    "# Part 2: Extending Breadth-first and Depth-first to different contexts"
   ]
  },
  {
   "cell_type": "markdown",
   "metadata": {},
   "source": [
    "## The fox-chicken-grain problem\n",
    "- You have a fox, a chicken and a sack of grain.  \n",
    "- You must cross a river with only one of them at a time.\n",
    "- If you leave the fox with the chicken he will eat it.\n",
    "- If you leave the chicken with the grain she will eat it.\n",
    "\n",
    "Can you get all three across safely in less than ten moves?\n",
    "\n",
    "### Design Statement for fox-chicken-grain problem<img src = \"figures/fox-chicken-grain-partial-graph.png\" style = \"float:right\" width=25%>\n",
    "\n",
    "There are 8 moves in total {nothing, fox, chicken, grain} X {bank1to2, bank2to1}, for example, moving nothing from bank 1 to 2 might be `0` and moving the fox from bank 1 to 2 might be `1`, and so on.\n",
    "- so ```FoxChickenGrain.value_set``` = [0,1,2,3,4,5,6,7]\n",
    "- a candidate solution may have one or more moves, not a fixed number so we encode ```FoxChickenGrain.numdecisions= -1``` \n",
    "\n",
    "Therefore, ```CandidateSolution.variableValues``` is a list of values in the range [0,...7] which **encodes** a sequence of moves.\n",
    "\n",
    "```FoxChickenGrain.evaluate(attempt)``` decodes the sequence of moves. Starting from state(0,0,0,0), where everything is safely on the first bank, applies the next move stored in variableValues[0] to get the next state:\n",
    "  - if move can't be applied do nothing and leave state unchanged\n",
    "  - else if next state in forbidden list return INFEASIBLE (-1) (Something gets eaten!)\n",
    "  - else if next state = (1,1,1,1) return SUCCESS (1)\n",
    "  - else get and apply next move\n",
    "  \n",
    "The method returns:\n",
    "  - -1 (infeasible),\n",
    "  - 0 (ok but doesn't reach goal) or \n",
    "  - 1 (reaches goal)\n",
    "\n",
    "### Design Choices for generating each 1-step neighbour (`ApplyMoveOperator()`)\n",
    "\n",
    "**Perturbative:** uses a *fixed* number of moves, like we did with the combination lock.\n",
    "Could use a nested loop through each position (1...n) and value (0...7) changing a specific move to the new value i.e. each solution has *d* moves and 7d neighbours (7 different values in d different position).\n",
    "\n",
    "The problem is:\n",
    "1. ```FoxChickenGrain.evaluate(attempt)``` would need to stop as soon as it gets to the goal (and ignore the rest of the moves)\n",
    "2. We would need to set a value for *d* which is not:\n",
    "    - too low to find a solution. \n",
    "    - too high, so we waste time changing the end of long sequences that are never reached\n",
    "3. We would need to specify a valid starting point which has a sequence of valid neighbours\n",
    "\n",
    "This is getting really far from the idea of reusable code that we can apply quickly to solve any problem. So *this is not* a good design choice if we want to get something implemented quickly!\n",
    "  \n",
    "**Constructive:** uses an *unspecified* number of moves. Each time we create 1-step neighbours which **add** moves to the existing solution i.e. each solution with *d* moves has 8 neighbours, all with *d+1* moves.\n",
    "  - Avoids most of the problems with perturbative in this case\n",
    "  - But what about potential loops?"
   ]
  },
  {
   "cell_type": "markdown",
   "metadata": {},
   "source": [
    "<div class=\"alert alert-block alert-info\" style=\"color:black\"><h2>Activity 3: Comparing  search algorithms for the fox-chicken-grain problem</h2>\n",
    "    <ol>\n",
    "        <li>You are provided with a python class <code>FoxChickenGrain</code>. Without reading the source code file, run the first code cell below.\n",
    "            <ul>\n",
    "                <li> This demonstrates how python's <code>help()</code> system picks up docstrings</li>\n",
    "                <li> Then open the file <code>foxchickengrain.py</code> to see where the help messages are coming from</li>\n",
    "                <li> I've used numpy style docstrings but there are a few alternatives</li>\n",
    "                <li> The point is to realise that well written code should be self-documenting to help other people use it.</li>\n",
    "            </ul></li>\n",
    "        <li> Predict whether you think depth-first and breadth-first search will find a solution or not. Be honest and write this down (with a reason) <b>before</b> you run the algorithm</li>\n",
    "        <li> Then run the code cell and see if your predictions were correct</li>  \n",
    "        <li> Finally answer the four multiple choice questions in the following cell.</li>\n",
    "    </ol>\n",
    "    <br><b>How to get started:</b>\n",
    "    <ol>\n",
    "        <li>500 attempts *should* be enough to test whether your algorithms behave as you expected but you can change it if you like. But you may need to alter the value of the variable <code>max_attempts</code> to satisfy yourself about the answers to the MCQ's.\n",
    "        <li>I've provided the option to print the runlog from the search process. This can be instructive, but gets quite long.</li>\n",
    "    </ol>\n",
    "</div>"
   ]
  },
  {
   "cell_type": "markdown",
   "metadata": {},
   "source": [
    "<div class=\"alert alert-block alert-success\" style=\"color:black\"><b>Note:</b><br>\n",
    "    <ul>\n",
    "        <li>We are using this search algorithm in <code>constructive</code> mode, as explained above.</li>\n",
    "        <li>Notice how we are re-purposing the classes you created for another problem without any extra work!</li>\n",
    "    </ul>\n",
    "</div>"
   ]
  },
  {
   "cell_type": "code",
   "execution_count": null,
   "metadata": {
    "tags": []
   },
   "outputs": [],
   "source": [
    "# run this cell to import libraries and utilities\n",
    "from foxchickengrain import FoxChickenGrain\n",
    "help(FoxChickenGrain)"
   ]
  },
  {
   "cell_type": "code",
   "execution_count": null,
   "metadata": {
    "tags": []
   },
   "outputs": [],
   "source": [
    "from foxchickengrain import FoxChickenGrain\n",
    "\n",
    "# Create a FoxChickenGrain problem\n",
    "myproblem = FoxChickenGrain()\n",
    "\n",
    "# Create a depth-first and breadth-first search algorithm\n",
    "my_depth_search = DepthFirstSearch(myproblem, constructive=True, max_attempts=500)\n",
    "my_breadth_search = BreadthFirstSearch(myproblem, constructive=True, max_attempts=500)\n",
    "\n",
    "print_runlog = False  # you might want to turn this on for debugging\n",
    "\n",
    "for algorithm in (my_depth_search, my_breadth_search):\n",
    "    print(f\"\\nUsing the algorithm {algorithm.__str__()}\")\n",
    "    found = algorithm.run_search()\n",
    "    if found:\n",
    "        print(\n",
    "            f\"\\tsolved after {algorithm.trials} attempts:\\n\"\n",
    "            f\"\\tsolution is{myproblem.display(algorithm.result)}\"\n",
    "        )\n",
    "    else:\n",
    "        print(\"\\tproblem not solved in time allowed\")\n",
    "        if print_runlog:\n",
    "            print(algorithm.runlog)"
   ]
  },
  {
   "cell_type": "code",
   "execution_count": null,
   "metadata": {
    "tags": []
   },
   "outputs": [],
   "source": [
    "# Run this cell to display some questions about how you think different algorithms will behave on this problem\n",
    "display(wb2.q5)\n",
    "display(wb2.q6)\n",
    "display(wb2.q7)\n",
    "display(wb2.q8)\n",
    "display(wb2.q9)"
   ]
  },
  {
   "cell_type": "markdown",
   "metadata": {},
   "source": [
    "<div class=\"alert alert-block alert-info\" style=\"color:black\"><h2>Activity 4: Restricting depth-first search to solve fox-chicken-grain.</h2>\n",
    "    The idea of this activity is to produce a version of depth-first search which stops looking beyond a certain depth. We want the maximum depth allowed to be a parameter we can change to find the minimum value. We will do this by using inheritance and over-riding the method <code>update_working_memory()</code>.\n",
    "    <br><br><b>How to get started:</b>\n",
    "    <ol>\n",
    "        <li>In the cell below copy-paste your code for the class <code>DepthFirstSearch</code>, that you wrote and tested in Activity 1, into <code>RestrictedDepthFirstSearch</code></li>\n",
    "        <li> Add a new parameter <code>self.max_depth</code> with a default value 10 by over-riding the <code>__init__()</code> method of the super class.</li>\n",
    "        <li>Now copy-paste the method <code>update_working_memory()</code> from the super-class in singlemembersearch.py</li>\n",
    "        <li>Then edit the code which decides whether to put a neighbour on the open_list. <em>Edit</em> the condition so it only adds neighbours below your chosen size, i.e. the <em>length</em> of the list <code>variable_values</code> is less than <code>self.max_depth</code>.</li>\n",
    "        <li>When you have edited your code, run the second code cell to test it out.</li>\n",
    "        <li>Finally experiment with different settings of <i>max_depth</i> to answer the multiple choice questions.</li>\n",
    "    </ol>\n",
    "</div>"
   ]
  },
  {
   "cell_type": "markdown",
   "metadata": {},
   "source": [
    "<div class=\"alert alert-block alert-success\" style=\"color:black\"><b>Hints:</b><br>\n",
    "    <ul>\n",
    "        <li>You will need to call the superclass init function <code>super().__init__()</code> in your new class by passing it all of the other parameters. This way means that you can change the <code>max_depth</code> at run time without having to change your class definition</li>\n",
    "        <li>When copy-pasting remember to get the indentation right so it is a method of your new class!</li>\n",
    "        <li>You only need to change <b>one line</b> in <code>update_working_memory()</code>\n",
    "    </ul>\n",
    "</div>"
   ]
  },
  {
   "cell_type": "code",
   "execution_count": null,
   "metadata": {},
   "outputs": [],
   "source": [
    "class RestrictedDepthFirstSearch(SingleMemberSearch):\n",
    "    # ====> insert your code below here\n",
    "\n",
    "    # copy your depth-first search class code in here\n",
    "    # then over-ride the method ```__init__()``` with the new parameter max_depth\n",
    "    # then the method ```update_working_memory()```\n",
    "    # then edit that method to produce your new class\n",
    "\n",
    "    raise NotImplementedError(\"You need to implement this class\")"
   ]
  },
  {
   "cell_type": "code",
   "execution_count": null,
   "metadata": {
    "tags": []
   },
   "outputs": [],
   "source": [
    "# Create a FoxChickenGrain problem\n",
    "myproblem = FoxChickenGrain()\n",
    "\n",
    "# Create a restricted depth-first search algorithm\n",
    "mysearch = RestrictedDepthFirstSearch(myproblem,\n",
    "                                     constructive=True,\n",
    "                                     max_attempts=1000,\n",
    "                                     max_depth=10\n",
    "                                   )\n",
    "\n",
    "# Run the search\n",
    "found = mysearch.run_search()\n",
    "if found:\n",
    "    print(\n",
    "        f\"Search to a maximum depth of {mysearch.max_depth} moves,\\n\"\n",
    "        f\"solved after {mysearch.trials} attempts:\\n\"\n",
    "        f\"solution is{myproblem.display(mysearch.result)}\"\n",
    "    )"
   ]
  },
  {
   "cell_type": "code",
   "execution_count": null,
   "metadata": {},
   "outputs": [],
   "source": [
    "display(wb2.q10)\n",
    "display(wb2.q11)"
   ]
  },
  {
   "cell_type": "markdown",
   "metadata": {},
   "source": [
    "<div class=\"alert alert-block alert-info\" style=\"color:black\"> <h2>Activity 5: Investigate the time and space (memory) requirements of your two methods</h2>\n",
    "    You should now have working versions of both breadth-first and (restricted) depth-first search. They already store the number of attempts tested (a measure of runtime), and the code cells that run them print that value out.<br>\n",
    "    The next step is to compare memory - which is proportional to the maximum size of the open list. \n",
    "    <br><br><b>How to get started:</b> Edit your code for both classes:\n",
    "    <ol>\n",
    "    <li> Copy-paste <code>update_working_memory()</code> into your <code>BreadthFirstSearch</code> class</li>\n",
    "    <li> In both your classes add a new parameter <code>self.max_memory</code> with a default value 0 by over-riding the <code>__init__()</code> method of the super class.</ul>\n",
    "    <li> Override <code>update_working_memory()</code> in both your classes, adding code to:\n",
    "        <ul>\n",
    "            <li>check the length of the open_list against <code>self.max_memory</code></li>\n",
    "            <li> update the value of <code>self.max_memory</code> if the open list has increased in size.</li>\n",
    "        </ul>\n",
    "    <li> Copy-paste the testing code from the cells above, then adapt it to test the time and memory needs of your algorithms.</li> \n",
    "    </ol>\n",
    "    <b>Note:</b> this is a <em>Stretch</em> activity so don't worry if you can't complete it easily.\n",
    "</div>"
   ]
  },
  {
   "cell_type": "code",
   "execution_count": null,
   "metadata": {},
   "outputs": [],
   "source": [
    "# ====> insert your code here"
   ]
  },
  {
   "cell_type": "code",
   "execution_count": null,
   "metadata": {},
   "outputs": [],
   "source": [
    "display(wb2.q12)\n",
    "display(wb2.q13)"
   ]
  },
  {
   "cell_type": "markdown",
   "metadata": {},
   "source": [
    "<div class=\"alert alert-block alert-success\" style=\"color:black\"><b>Save and close Jupyter:</b>\n",
    "    <ol>\n",
    "        <li>Use the jupyterlab functions to download your work (ask your tutor if you need help with this) and save it somewhere sensible so you can find it easily.</li>\n",
    "        <li>Shutdown the notebook when you have finished with this tutorial (menu->file->close and shutdown notebook)</li>\n",
    "    </ol>\n",
    "</div>"
   ]
  }
 ],
 "metadata": {
  "kernelspec": {
   "display_name": "Python 3",
   "language": "python",
   "name": "python3"
  },
  "language_info": {
   "codemirror_mode": {
    "name": "ipython",
    "version": 3
   },
   "file_extension": ".py",
   "mimetype": "text/x-python",
   "name": "python",
   "nbconvert_exporter": "python",
   "pygments_lexer": "ipython3",
   "version": "3.11.0"
  }
 },
 "nbformat": 4,
 "nbformat_minor": 4
}
