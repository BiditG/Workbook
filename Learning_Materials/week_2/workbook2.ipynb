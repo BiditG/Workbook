{
 "cells": [
  {
   "cell_type": "markdown",
   "metadata": {},
   "source": [
    "# Workbook 2: Depth and Breadth-First Search\n",
    "## Aims of this practical workbook\n",
    "1. To give you hands-on experience of configuring depth-first search to try and make it work for the fox-chicken-grain problem\n",
    "2. To give you hands-on experience of taking code that implements one search method (depth-first) and adapting it to use another (breadth-first)"
   ]
  },
  {
   "cell_type": "markdown",
   "metadata": {},
   "source": [
    "## Recap\n",
    "### Pseudo-code for generic single member search\n",
    "<div style=\"font-size:1em\"> \n",
    "    <p style=\"font-size:1em\"> \n",
    "    <b>Variables</b> open_list, closed_list: lists of candidate solutions <br>\n",
    "    <b>Variables</b> working_candidate,neighbour: candidate solutions <br>\n",
    "    </p>\n",
    "<div style=\"background:#E0FFE0\">\n",
    "<dl style=\"font-size:1em\">\n",
    "    <dt>    <span style=\"color:darkred;font-size:1em\"> <em>INITIALISE</em></span></dt>\n",
    "    <dd>   <b>Set</b> open_list, closed_list &larr; EmptyList </dd>  \n",
    "    <dd>   working_candidate &larr; <b>Initialise</b> (CandidateSolution) </dd> \n",
    "    <dd>   <b>Test</b> ( working_candidate)  &nbsp;&nbsp;&nbsp;&nbsp;&nbsp;&nbsp;<span style=\"color:red\"> <b>Problem</b>-specific code</span></dd>\n",
    "    <dd>   <b>AppendToOpenList</b>(working_candidate)<br>  </dd>\n",
    "</dl>\n",
    "    </div>\n",
    "</div>\n",
    "<div style=\"background:#F0FFFF;font-size:1em\">\n",
    "<p style=\"color:darkred;font-size:1em;margin-bottom:0pt\"><em>MAIN LOOP</em></p>\n",
    "<dl style=\"font-size:1em;margin-top:0pt\">\n",
    "    <dt>&nbsp;&nbsp;&nbsp;<b>WHILE</b> IsNotEmpty( open_list) <b>DO</b> </dt>\n",
    "    <dd> working_candidate &larr; <b>SelectAndMoveFromOpenList</b>(algorithm_name)&nbsp;&nbsp;&nbsp;&nbsp;&nbsp;&nbsp;<span style=\"color:red\"> <b>Algorithm</b>-specific code</span></dd>\n",
    "    <dd>  <b>FOR</b> sample in SAMPLE_SIZE <b>DO</b> <br>\n",
    "        <dl style=\"font-size:1em\">\n",
    "            <dt style=\"color:blue;font-style:italic\"> &nbsp;&nbsp;&nbsp;&nbsp;&nbsp;&nbsp;GENERATE </dt>\n",
    "            <dd>  neighbour &larr; <b>ApplyMoveOperator</b> (working_candidate)&nbsp;&nbsp;&nbsp;&nbsp;&nbsp;&nbsp;<span style=\"color:red\"> <b>Representation</b>-specific code</span></dd>\n",
    "            <dt style=\"color:blue;font-style:italic\">&nbsp;&nbsp;&nbsp;&nbsp;&nbsp;&nbsp;TEST</dt>\n",
    "            <dd> status &larr; <b>Test</b> ( neighbour)&nbsp;&nbsp;&nbsp;&nbsp;&nbsp;&nbsp;<span style=\"color:red\"> <b>Problem</b>-specific code</span></dd>\n",
    "            <dt style=\"color:blue;font-style:italic\"> &nbsp;&nbsp;&nbsp;&nbsp;&nbsp;&nbsp;UPDATE WORKING MEMORY</dt> \n",
    "            <dd> <b>IF</b> status IS AtGoal <b>THEN</b><br>\n",
    "                    &nbsp;&nbsp;&nbsp; <b>Return</b>(SUCCESS)</dd>\n",
    "            <dd> <b>ELSE IF</b> status IS BREAKS_CONSTRAINTS <b>THEN</b><br>\n",
    "                &nbsp;&nbsp;&nbsp; <b>AppendToClosedList</b>(neighbour)</dd>\n",
    "            <dd><b>ELSE</b><br>\n",
    "                &nbsp;&nbsp;&nbsp; <b>AppendToOpenList</b>(neighbour)</dd>\n",
    "        </dl>\n",
    "    <dd>          <b>AppendToClosedList</b>(workingCandidate)</dd>\n",
    "</dl>\n",
    "</div>    \n",
    "    \n",
    "### To implement Depth-first-search\n",
    "<div style=\"background:#F0FFFF;font-size:1em\">\n",
    "    <dl>\n",
    "        <dt><b>SelectAndMoveFromOpenList()</b></dt>\n",
    "        <dd> my_index &larr; <b>GetLastIndex</b>(open_list)</dd>\n",
    "        <dd> the_candidate &larr; open_list(my_index)</dd>\n",
    "        <dd> <b>RemoveFromOpenList</b>(my_index)</dd>\n",
    "        <dd> <b>Return</b>(the_candidate)</dd>\n",
    "    </dl>\n",
    "    </div> "
   ]
  },
  {
   "cell_type": "markdown",
   "metadata": {
    "tags": []
   },
   "source": [
    "<div class = \"alert alert-warning\" style=\"color:black\">\n",
    "    <h2> Activity 1: Implementing depth-first search.</h2>\n",
    "    <ol>\n",
    "        <li>Read the generic code implementation in the file constructivesearch.py, then run the two cells below this and  answer the question about what type of search the method is doing</li>\n",
    "        <li>Make a prediction about whether the code will complete (finish) or not. Be honest and write this down (with a reason) <b>before</b> you run the algorithm</li>\n",
    "        <li> Then run the code and see if your prediction was correct</li>  \n",
    "        <li> Then answer the two multiple choice questions after the depth-first code cell. <br>\n",
    "            You may need to alter the value of the variable maxIterations to satisfy yourself about the answers.</li>\n",
    "    </ol>\n",
    "</div>"
   ]
  },
  {
   "cell_type": "code",
   "execution_count": null,
   "metadata": {
    "tags": []
   },
   "outputs": [],
   "source": [
    "import copy\n",
    "import importlib\n",
    "\n",
    "from problem import Problem\n",
    "from candidatesolution import CandidateSolution\n",
    "from singlemembersearch import SingleMemberSearch\n",
    "\n",
    "\n",
    "class DepthFirstSearch(SingleMemberSearch):\n",
    "    \"\"\"your implementation of depth first search to extend\n",
    "    the superclass Constructive search\n",
    "    only need to extend two methods\n",
    "    \"\"\"\n",
    "\n",
    "    def __init__(\n",
    "        self,\n",
    "        problem: Problem,\n",
    "        verbose: bool = False,\n",
    "        constructive: bool = False,\n",
    "        max_attempts: int = 50,\n",
    "    ):\n",
    "        super().__init__(\n",
    "            verbose=verbose,\n",
    "            problem=problem,\n",
    "            constructive=constructive,\n",
    "            max_attempts=max_attempts,\n",
    "        )\n",
    "        self.algorithm = \"depth-first\"\n",
    "\n",
    "    def select_and_move_from_openlist(self, algorithm: str) -> CandidateSolution:\n",
    "        \"\"\"void in superclass\n",
    "        In sub-classes should implement different algorithms\n",
    "        depending on what item it picks from open_list\n",
    "        and what it then does to the open list\n",
    "        Parameters\n",
    "        ---------\n",
    "        algorithm:str\n",
    "          the name of the algorithm being applied\n",
    "        Returns\n",
    "        -------\n",
    "        next working candidate (solution) taken from open list\n",
    "        \"\"\"\n",
    "\n",
    "        ## your code here to implementthe pseudocode copied in from the slides\n",
    "        # PS  my_index ← GetLastIndex(open_list)\n",
    "        # PS  the_candidate ← open_list(my_index)\n",
    "        # PS  RemoveFromOpenList(my_index)\n",
    "        # |PS Return(the_candidate)\n",
    "        next = self.open_list.pop(-1)\n",
    "        return next"
   ]
  },
  {
   "cell_type": "code",
   "execution_count": null,
   "metadata": {
    "tags": []
   },
   "outputs": [],
   "source": [
    "import copy\n",
    "import importlib\n",
    "\n",
    "from problem import Problem\n",
    "from candidatesolution import CandidateSolution\n",
    "from singlemembersearch import SingleMemberSearch\n",
    "\n",
    "\n",
    "class BreadthFirstSearch(SingleMemberSearch):\n",
    "    \"\"\"your implementation of depth first search to extend\n",
    "    the superclass Constructive search\n",
    "    only need to extend two methods\n",
    "    \"\"\"\n",
    "\n",
    "    def __init__(\n",
    "        self,\n",
    "        problem: Problem,\n",
    "        verbose: bool = False,\n",
    "        constructive: bool = False,\n",
    "        max_attempts: int = 50,\n",
    "    ):\n",
    "        super().__init__(\n",
    "            verbose=verbose,\n",
    "            problem=problem,\n",
    "            constructive=constructive,\n",
    "            max_attempts=max_attempts,\n",
    "        )\n",
    "        self.algorithm = \"depth-first\"\n",
    "\n",
    "    def select_and_move_from_openlist(self, algorithm: str) -> CandidateSolution:\n",
    "        \"\"\"void in superclass\n",
    "        In sub-classes should implement different algorithms\n",
    "        depending on what item it picks from open_list\n",
    "        and what it then does to the open list\n",
    "        Parameters\n",
    "        ---------\n",
    "        algorithm:str\n",
    "          the name of the algorithm being applied\n",
    "        Returns\n",
    "        -------\n",
    "        next working candidate (solution) taken from open list\n",
    "        \"\"\"\n",
    "\n",
    "        ## your code here to implementthe pseudocode copied in from the slides\n",
    "        # PS  my_index ← GetLastIndex(open_list)\n",
    "        # PS  the_candidate ← open_list(my_index)\n",
    "        # PS  RemoveFromOpenList(my_index)\n",
    "        # |PS Return(the_candidate)\n",
    "        next = self.open_list.pop(0)\n",
    "        return next"
   ]
  },
  {
   "cell_type": "code",
   "execution_count": null,
   "metadata": {
    "tags": []
   },
   "outputs": [],
   "source": [
    "from combinationproblem import CombinationProblem\n",
    "\n",
    "myproblem = CombinationProblem(tumblers=4, num_options=10)\n",
    "myproblem.answer = [1, 0, 0, 9]\n",
    "\n",
    "mysearch = DepthFirstSearch(myproblem, max_attempts=100000)\n",
    "\n",
    "found = mysearch.run_search()\n",
    "if found:\n",
    "    print(f\"success after {mysearch.trials} trials\")\n",
    "    myproblem.display(mysearch.result)\n",
    "    for guess in mysearch.open_list:\n",
    "        print(guess.variable_values)\n",
    "else:\n",
    "    print(len(mysearch.open_list))"
   ]
  },
  {
   "cell_type": "code",
   "execution_count": null,
   "metadata": {
    "tags": []
   },
   "outputs": [],
   "source": [
    "def test_depthfirst_combination():\n",
    "    \"\"\"tests that depth first search works as expected\n",
    "    on a combination lock problem by fixing the puzzle\n",
    "    \"\"\"\n",
    "\n",
    "    deptests = {\n",
    "        \"test1\": [[0, 0, 0, 0], 1],\n",
    "        \"test2\": [[0, 0, 0, 9], 37],\n",
    "        \"test3\": [[1, 0, 0, 9], 38],\n",
    "        \"test4\": [[9, 9, 9, 9], 2052],\n",
    "        \"test5\": [[5, 5, 5, 5], 5988],\n",
    "    }\n",
    "\n",
    "    for key, val in deptests.items():\n",
    "        myproblem = CombinationProblem(tumblers=4, num_options=10)\n",
    "        myproblem.answer = val[0]\n",
    "        expected = val[1]\n",
    "        print(f\"testing behaviour for puzzle {myproblem.answer}\")\n",
    "        mysearch = DepthFirstSearch(myproblem, max_attempts=10000)\n",
    "        found = mysearch.run_search()\n",
    "        assert found, f\"should be able to solve {val[0]}\"\n",
    "        assert (\n",
    "            mysearch.trials == expected\n",
    "        ), f\"should take {expected} attempts not {mysearch.trials}\"\n",
    "        print(f\"passed {key}\")\n",
    "    print(\"passed all tests\")\n",
    "\n",
    "\n",
    "test_depthfirst_combination()"
   ]
  },
  {
   "cell_type": "code",
   "execution_count": null,
   "metadata": {
    "tags": []
   },
   "outputs": [],
   "source": [
    "def test_breadthfirst_combination():\n",
    "    \"\"\"tests that depth first search works as expected\n",
    "    on a combination lock problem by fixing the puzzle\n",
    "    \"\"\"\n",
    "\n",
    "    bretests = {\n",
    "        \"test1\": [[0, 0, 0, 0], 1],\n",
    "        \"test2\": [[0, 0, 0, 9], 37],\n",
    "        \"test3\": [[1, 0, 0, 9], 64],\n",
    "        \"test4\": [[9, 9, 9, 9], 10000],\n",
    "        \"test5\": [[5, 5, 5, 5], 6720],\n",
    "    }\n",
    "\n",
    "    for key, val in bretests.items():\n",
    "        myproblem = CombinationProblem(tumblers=4, num_options=10)\n",
    "        myproblem.answer = val[0]\n",
    "        expected = val[1]\n",
    "        print(f\"testing behaviour for puzzle {myproblem.answer}\")\n",
    "        mysearch = BreadthFirstSearch(myproblem, max_attempts=10000)\n",
    "        found = mysearch.run_search()\n",
    "        assert found, f\"should be able to solve {val[0]}\"\n",
    "        assert (\n",
    "            mysearch.trials == expected\n",
    "        ), f\"should take {expected} attempts not {mysearch.trials}\"\n",
    "        print(f\"passed {key}\")\n",
    "    print(\"passed all tests\")\n",
    "\n",
    "\n",
    "test_breadthfirst_combination()"
   ]
  },
  {
   "cell_type": "markdown",
   "metadata": {
    "tags": []
   },
   "source": [
    "<div class = \"alert alert-warning\" style=\"color:black\">\n",
    "    <h2> Activity 2: Adapting constructive  depth-first search for the fox-grain-chicken problem.</h2>\n",
    "    <ol>\n",
    "        <li>Read the generic code implementation in the file constructivesearch.py, then run the two cells below this and  answer the question about what type of search the method is doing</li>\n",
    "        <li>Make a prediction about whether the code will complete (finish) or not. Be honest and write this down (with a reason) <b>before</b> you run the algorithm</li>\n",
    "        <li> Then run the code and see if your prediction was correct</li>  \n",
    "        <li> Then answer the two multiple choice questions after the depth-first code cell. <br>\n",
    "            You may need to alter the value of the variable maxIterations to satisfy yourself about the answers.</li>\n",
    "    </ol>\n",
    "</div>"
   ]
  },
  {
   "cell_type": "markdown",
   "metadata": {
    "tags": []
   },
   "source": [
    "### Example: The fox-chicken-grain problem \n",
    "- You have a fox, a chicken and a sack of grain.  \n",
    "- You must cross a river with only one of them at a time.\n",
    "- If you leave the fox with the chicken he will eat it;\n",
    "- If you leave the chicken with the grain he will eat it.\n",
    "\n",
    "Can you get all three across safely in less than ten moves?\n",
    "\n"
   ]
  },
  {
   "cell_type": "markdown",
   "metadata": {
    "tags": []
   },
   "source": [
    "## What does generate-and-test look like for fox-chicken-grain problem?<img src = \"figures/fox-chicken-grain-partial-graph.png\" style = \"float:right\" width=25%>\n",
    "\n",
    "A solution is a sequence of moves of boat with different passengers\n",
    "```\n",
    "class candidateSolution:\n",
    "    def __init__(self):\n",
    "        self.variableValues = []\n",
    "        self.quality = 0\n",
    "        self.depth=0\n",
    "```\n",
    "\n",
    "There are 8 moves in total {nothing,fox,chicken,grain} X {bank1to2, bank2to1}\n",
    "- number these from 0 to 7\n",
    "- candidateSolution.variableValues is a list of moves\n",
    "\n",
    "**Evaluate()**: \n",
    "score is -1 (infeasible), 0 (ok but doesn't reach goal) or 1 (reaches goal)\n",
    "- starts from state(0,0,0,0)\n",
    "- apply move referenced in variableValues[0] to get next state\n",
    "  - if move can't be applied do nothing and leave state unchanged\n",
    "  - else if next state in forbidden list return INFEASIBLE (-1)\n",
    "  - else if next state = (1,1,1,1) return SUCCESS (1)\n",
    "  - else get and apply next move\n",
    "\n",
    "Choices for ApplyMoveOperator() on Foreach(1-step neighbour) loop;\n",
    "- perturbative (use *fixed number of d* moves):  \n",
    "  nested loop through each position (1...n) and value (0...7) changing  a specific move to the new value\n",
    "  - i.e. each solution has *d* moves and 7d neighbours (7 different values in d different position)  \n",
    "  \n",
    "- constructive:  loop through each possible extra move adding that to the *d* existing ones at depth *d*  \n",
    "  - i.e.  each solution with *d* moves has  8 neighbours, all with *d+1* moves"
   ]
  },
  {
   "cell_type": "markdown",
   "metadata": {},
   "source": [
    "<h2> ive written a new multiple choice question you might want to check but again just use the multiple choice answers </h2>"
   ]
  },
  {
   "cell_type": "code",
   "execution_count": null,
   "metadata": {},
   "outputs": [],
   "source": [
    "# run this cell to import libraries and utilities\n",
    "import workbook2_utils as wb2\n",
    "import copy"
   ]
  },
  {
   "cell_type": "code",
   "execution_count": null,
   "metadata": {},
   "outputs": [],
   "source": [
    "# run this cell to display the first question\n",
    "display(wb2.Q0)"
   ]
  },
  {
   "cell_type": "code",
   "execution_count": null,
   "metadata": {},
   "outputs": [],
   "source": [
    "# run this cell to display the second question\n",
    "display(wb2.Q6)"
   ]
  },
  {
   "cell_type": "markdown",
   "metadata": {},
   "source": [
    "\n",
    "\n",
    "  \n",
    "3. add a function meets_constraints(attempt:CandidateSolution)\n",
    "  - for fox-grain-chicken (and most others) this just checks the value of breaks_constraints \n",
    "  - but for the restricted search we should change the activity to saying: \n",
    "  \" Create a new sub-class of SingleMemberSearch where you \n",
    "    add an attribute MAX_DEPTH   \n",
    "    and then edit meets_constraints() to check the len of attempt.variable_values\"\n",
    "\n",
    "\n",
    "# LUCA 5: create a new file N_Queens.py with functions evaluate(), is_at_goal, to_display()\n",
    "- then create a new activity where students take the search algorothm and apply it to new problem"
   ]
  },
  {
   "cell_type": "code",
   "execution_count": null,
   "metadata": {},
   "outputs": [],
   "source": [
    "from foxchickengrain import FoxChickenGrain\n",
    "\n",
    "myproblem = FoxChickenGrain()\n",
    "\n",
    "mysearch = BreadthFirstSearch(myproblem, constructive=True, max_attempts=200000)\n",
    "\n",
    "found = mysearch.run_search()\n",
    "if found:\n",
    "    print(\n",
    "        f\"solved after {mysearch.trials} attempts:\\n\"\n",
    "        f\"solution is{myproblem.display(mysearch.result)}\"\n",
    "    )\n",
    "else:\n",
    "    print(len(mysearch.open_list))"
   ]
  },
  {
   "cell_type": "code",
   "execution_count": null,
   "metadata": {},
   "outputs": [],
   "source": [
    "# run this cell to dispaly the next two questions\n",
    "display(wb2.Q1)\n",
    "display(wb2.Q2)"
   ]
  },
  {
   "cell_type": "markdown",
   "metadata": {},
   "source": [
    "<div class = \"alert alert-warning\" style=\"color:black\">\n",
    "    <h2>Activity 2: Restricting the Maximum Depth Search to try and make the algorithm work.</h2>\n",
    "    The code cell below reproduces the depth-first solution.<br>\n",
    "    Edit this code so that the maximum depth of the tree search is restricted to some value you can easily change.<br>\n",
    "    <ol>\n",
    "        <li> This function takes an unused parameter MAXLEN, <b>initially<b> enter a value of 4 (you can do this by setting the variable n = 4)</li>\n",
    "        <li> Edit line 49-50, inserting some indented  code (if...else) that changes behaviour depending on the length of the list in the candidateSolution that holds the variable Values ( i.e. on len(neighbour.variableValues) ) <br>\n",
    "            Make it so that lines which  print the \"adding partial solution\" message and append the nighbour to the openlist) only happen if that length is less than MAXLEN. <br>\n",
    "            Otherwise your code should print a message \"not adding a neighbour because max depth reached\" </li>\n",
    "    </ol>\n",
    "            Finally experiment to see what depth (<b>value for MAXLEN</b>)is needed - in other words, how long the sequence of moves has to be.<br>\n",
    "    Then answer the two multiple choice questions below.\n",
    "            <h1>TODO change line numbers</h1>\n",
    "</div>"
   ]
  },
  {
   "cell_type": "markdown",
   "metadata": {
    "tags": []
   },
   "source": [
    "<h2> you should be able to call function with high correct and low MAXLEN's to check it  </h2>"
   ]
  },
  {
   "cell_type": "code",
   "execution_count": null,
   "metadata": {},
   "outputs": [],
   "source": [
    "display(wb11.Q3)\n",
    "display(wb11.Q4)"
   ]
  },
  {
   "cell_type": "markdown",
   "metadata": {},
   "source": [
    "<div class=\"alert alert-warning\" style=\"color:black\">\n",
    "    <h2>Activity 3 Convert the depth-first search to breadth-first</h2>\n",
    "    The code cell below has a copy of the original depth-first search code.<br>\n",
    "    <ul>\n",
    "        <li>Edit this to make it implement Breadth-First search.</li>\n",
    "        <li><b> This should involve changing only one line of code</b></li>\n",
    "        <li> Then run your code and answer the question below</li>\n",
    "        </ol>\n",
    "    </div>\n",
    "# This description will need changing\n",
    "- to tell them to  exgtend ```get_next_item_for_algorithm```\n",
    "- and to change the call to search() if we make that a class \n",
    "\n",
    "# then the codde celsl below will need changing\n",
    "    "
   ]
  },
  {
   "cell_type": "code",
   "execution_count": null,
   "metadata": {},
   "outputs": [],
   "source": [
    "# run this cell to display a question\n",
    "display(wb11.Q5)"
   ]
  },
  {
   "cell_type": "markdown",
   "metadata": {},
   "source": [
    "<div class=\"alert alert-warning\" style=\"color:black\">\n",
    "<h2>Activity 5 (stretch): Investigate the time and space (memory) requirements of your two methods</h2>\n",
    "    You should now have working versions of both breadth-first and (restricted) depth-first search. \n",
    "    <ol>\n",
    "        <li> Edit your code to report the total number of solutions examined. <br>\n",
    "            You could just add a counter that you increment after every time you call the evaluate function <br>\n",
    "        and then print out the value of the counter at the end.</li>\n",
    "        <li> Edit your code to create a variable called maxOpenListSize, then  check the length of the openlist at every iteration, and report its maximum size.  </li>\n",
    "    </ol>\n",
    "    How do the number of solutions examined and the maximum size of the openlist compare between depth-first and breadth-first search?\n",
    "    </div>\n",
    "    \n",
    "# add cell where they assign values ot oint varaibles for the values of time and memory fore differnt search methods"
   ]
  },
  {
   "cell_type": "code",
   "execution_count": null,
   "metadata": {},
   "outputs": [],
   "source": [
    "display(wb11.Q7)\n",
    "display(wb11.Q8)\n",
    "# run this when you've got the answer"
   ]
  },
  {
   "cell_type": "markdown",
   "metadata": {},
   "source": [
    "<div class=\"alert alert-warning\" style=\"color:black\">\n",
    "<h2>Activity 6 (stretch): change the algorithms above to work in a perturbative fashion with a fixed length of 7 moves</h2>\n",
    "    This should just involve:\n",
    "    <ol>\n",
    "        <li> Changing the initialidation code to some sequence of seven moves. <br>\n",
    "            e.g. add the line workingCandidate.variableValues = [0,0,0,0,0,0,0] </li>\n",
    "        <li> instead of one loop that appending 8 moves in turn  to neighbour.variableValues, you will need two loops: one through all the 7 positinos, another through all 8 changes for that position.   </li>\n",
    "    </ol>\n",
    "    How do the number of solutions examined and the maximum size of the openlist change?\n",
    "    </div>\n",
    "    \n",
    "# make it clear this is for extra marks. \n",
    "## experiment with:\n",
    "= check that move 0 does nothing! \n",
    "- check whether it works if you just generate random neighbours"
   ]
  },
  {
   "cell_type": "markdown",
   "metadata": {},
   "source": [
    "<h2> ^ for the two above ive added some multiple choice questions but the only proper way to mark would be to evaluate the code which i dont know if i could doi and deinetly couldnt think of all the needed contigencies e.g. did they reove spaces or change variable names or something"
   ]
  },
  {
   "cell_type": "markdown",
   "metadata": {},
   "source": [
    "<div class=\"alert alert-block alert-danger\"> Please save your work (click the save icon) then shutdown the notebook when you have finished with this tutorial (menu->file->close and shutdown notebook</div>\n",
    "\n",
    "<div class=\"alert alert-block alert-danger\"> Remember to download and save your work if you are not running this notebook locally.</div>"
   ]
  },
  {
   "cell_type": "code",
   "execution_count": null,
   "metadata": {},
   "outputs": [],
   "source": [
    "import numpy as np\n",
    "import matplotlib.pyplot as plt\n",
    "from matplotlib.colors import LogNorm\n",
    "\n",
    "attempt = [0, 1, 2, 3, 4, 5]\n",
    "\n",
    "dx, dy = 0.016, 0.06\n",
    "P = np.arange(-5.0, 5.0, dx)\n",
    "# print(P, \"\\n\"*3)\n",
    "Q = np.arange(-5.0, 5.0, dy)\n",
    "# print(Q, \"\\n\"*3)\n",
    "P, Q = np.meshgrid(P, Q)\n",
    "# print(P, \"\\n\"*3, Q)\n",
    "\n",
    "min_max = np.min(P), np.max(P), np.min(Q), np.max(Q)\n",
    "res = np.add.outer(range(8), range(8)) % 2\n",
    "_ = plt.imshow(res, cmap=\"binary_r\")\n",
    "plt.xticks([])\n",
    "plt.yticks([])\n",
    "plt.title(\"N-Queens Attempt\")\n",
    "\n",
    "kwargs = {\"color\": \"red\", \"fontsize\": 16}\n",
    "for row in range(len(attempt)):\n",
    "    plt.text(row - 0.125, attempt[row] + 0.125, s=\"Q\", **kwargs)\n",
    "_ = plt.show()"
   ]
  },
  {
   "cell_type": "code",
   "execution_count": null,
   "metadata": {},
   "outputs": [],
   "source": [
    "## Common Initialisation\n",
    "import copy, random\n",
    "\n",
    "workingCandidate = CandidateSolution()\n",
    "openList = []\n",
    "closedList = []\n",
    "atGoal = False\n",
    "board = [\n",
    "    [\n",
    "        \"\",\n",
    "        \"\",\n",
    "        \"\",\n",
    "        \"\",\n",
    "        \"\",\n",
    "        \"\",\n",
    "        \"\",\n",
    "        \"\",\n",
    "    ],\n",
    "    [\n",
    "        \"\",\n",
    "        \"\",\n",
    "        \"\",\n",
    "        \"\",\n",
    "        \"\",\n",
    "        \"\",\n",
    "        \"\",\n",
    "        \"\",\n",
    "    ],\n",
    "    [\n",
    "        \"\",\n",
    "        \"\",\n",
    "        \"\",\n",
    "        \"\",\n",
    "        \"\",\n",
    "        \"\",\n",
    "        \"\",\n",
    "        \"\",\n",
    "    ],\n",
    "    [\n",
    "        \"\",\n",
    "        \"\",\n",
    "        \"\",\n",
    "        \"\",\n",
    "        \"\",\n",
    "        \"\",\n",
    "        \"\",\n",
    "        \"\",\n",
    "    ],\n",
    "    [\n",
    "        \"\",\n",
    "        \"\",\n",
    "        \"\",\n",
    "        \"\",\n",
    "        \"\",\n",
    "        \"\",\n",
    "        \"\",\n",
    "        \"\",\n",
    "    ],\n",
    "    [\n",
    "        \"\",\n",
    "        \"\",\n",
    "        \"\",\n",
    "        \"\",\n",
    "        \"\",\n",
    "        \"\",\n",
    "        \"\",\n",
    "        \"\",\n",
    "    ],\n",
    "    [\n",
    "        \"\",\n",
    "        \"\",\n",
    "        \"\",\n",
    "        \"\",\n",
    "        \"\",\n",
    "        \"\",\n",
    "        \"\",\n",
    "        \"\",\n",
    "    ],\n",
    "    [\n",
    "        \"\",\n",
    "        \"\",\n",
    "        \"\",\n",
    "        \"\",\n",
    "        \"\",\n",
    "        \"\",\n",
    "        \"\",\n",
    "        \"\",\n",
    "    ],\n",
    "]\n",
    "while atGoal == False:\n",
    "    x = random.randint(0, 7)\n",
    "    y = random.randint(0, 7)\n",
    "    board[x][y] = \"Q\"\n",
    "    openList = []"
   ]
  },
  {
   "cell_type": "code",
   "execution_count": null,
   "metadata": {
    "tags": []
   },
   "outputs": [],
   "source": [
    "locations: dict = {\"fox\": 0, \"chicken\": 0, \"grain\": 0, \"boat\": 0}\n",
    "res = locations.values()\n",
    "if list(res) == [1, 1, 1, 1]:\n",
    "    print(\"yep\")\n",
    "else:\n",
    "    print(f\"nope, {list(res)}\")"
   ]
  },
  {
   "cell_type": "code",
   "execution_count": null,
   "metadata": {},
   "outputs": [],
   "source": []
  }
 ],
 "metadata": {
  "kernelspec": {
   "display_name": "Python 3 (ipykernel)",
   "language": "python",
   "name": "python3"
  },
  "language_info": {
   "codemirror_mode": {
    "name": "ipython",
    "version": 3
   },
   "file_extension": ".py",
   "mimetype": "text/x-python",
   "name": "python",
   "nbconvert_exporter": "python",
   "pygments_lexer": "ipython3",
   "version": "3.11.6"
  }
 },
 "nbformat": 4,
 "nbformat_minor": 4
}
