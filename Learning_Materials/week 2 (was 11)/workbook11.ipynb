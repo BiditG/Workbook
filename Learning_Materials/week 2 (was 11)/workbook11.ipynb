{
 "cells": [
  {
   "cell_type": "markdown",
   "metadata": {},
   "source": [
    "# Workbook 11: Depth and Breadth-First Search\n",
    "## Aims of this practical workbook\n",
    "1. To give you hands-on experience of configuring depth-first search to try and make it work for the fox-chicken-grain problem\n",
    "2. To give you hands-on experience of taking code that implements one search method (depth-first) and adapting it to use another (breadth-first)"
   ]
  },
  {
   "cell_type": "markdown",
   "metadata": {},
   "source": [
    "## Reminder of PseudoCode for Depth-First Search\n",
    "\n",
    "\n",
    "Variables workingCandidate, openList, closedList\n",
    "\n",
    "Initialisation: Make initial guess,  test it, then start the openList*    \n",
    "```\n",
    "SET workingCandidate = StartSolution\n",
    "Evaluate (workingCandidate)\n",
    "IF( IsAtGoal(workingCandidate)) ##lucky guess!\n",
    "    OUTPUT (SUCCESS, workingCandidate)\n",
    "APPEND workingCandidate to openList\n",
    "````\n",
    "\n",
    "Main loop\n",
    "\n",
    "    WHILE ( Openlist not empty) DO       ##main search loop ##\n",
    "        MOVE (last item from openList into working candidate)\n",
    "        FOREACH (1-step neighbour)\n",
    "            neighbour = ApplyMoveOperator(workingCandidate) ## Generate\n",
    "            Evaluate(neighbor)                              ## Test\n",
    "\t        IF(IsAtGoal(neighbour))\n",
    "                OUTPUT (SUCCESS, neighbour)\n",
    "            ELSE IF (neighbor is feasible)                  ## Update Memory\n",
    "                APPEND( neighbor to end of openList)\n",
    "            ELSE\n",
    "                APPEND( neighbor to end of closedList) \n",
    "        COPY (working candidate to closedList)\n",
    " \n",
    "    OUTPUT (FAILURE, workingCandidate)     ## if no more solutions to test\n",
    " "
   ]
  },
  {
   "cell_type": "markdown",
   "metadata": {},
   "source": [
    "### Example: The fox-chicken-grain problem\n",
    "- You have a fox, a chicken and a sack of grain.  \n",
    "- You must cross a river with only one of them at a time.\n",
    "- If you leave the fox with the chicken he will eat it;\n",
    "- If you leave the chicken with the grain he will eat it.\n",
    "\n",
    "Can you get all three across safely in less than ten moves?"
   ]
  },
  {
   "cell_type": "markdown",
   "metadata": {},
   "source": [
    "## What does generate-and-test look like for fox-chicken-grain problem?\n",
    "\n",
    "A solution is a sequence of moves of boat with different passengers\n",
    "```\n",
    "class candidateSolution:\n",
    "    def __init__(self):\n",
    "        self.variableValues = []\n",
    "        self.quality = 0\n",
    "        self.depth=0\n",
    "```\n",
    "\n",
    "There are 8 moves in total {nothing,fox,chicken,grain} X {bank1to2, bank2to1}\n",
    "- number these from 0 to 7\n",
    "- candidateSolution.variableValues is a list of moves\n",
    "\n",
    "**Evaluate()**: \n",
    "score is -1 (infeasible), 0 (ok but doesn't reach goal) or 1 (reaches goal)\n",
    "- starts from state(0,0,0,0)\n",
    "- apply move referenced in variableValues[0] to get next state\n",
    "  - if move can't be applied do nothing and leave state unchanged\n",
    "  - else if next state in forbidden list return INFEASIBLE (-1)\n",
    "  - else if next state = (1,1,1,1) return SUCCESS (1)\n",
    "  - else get and apply next move\n",
    "\n",
    "Choices for ApplyMoveOperator() on Foreach(1-step neighbour) loop;\n",
    "- perturbative (use *fixed number of d* moves):  \n",
    "  nested loop through each position (1...n) and value (0...7) changing  a specific move to the new value\n",
    "  - i.e. each solution has *d* moves and 7d neighbours (7 different values in d different position)  \n",
    "  \n",
    "- constructive:  loop through each possible extra move adding that to the *d* existing ones at depth *d*  \n",
    "  - i.e.  each solution with *d* moves has  8 neighbours, all with *d+1* moves"
   ]
  },
  {
   "cell_type": "markdown",
   "metadata": {},
   "source": [
    "<div class = \"alert alert-warning\" style=\"color:black\">\n",
    "    <h2> Activity 1: Testing an implementation of depth-first search.</h2>\n",
    "    <ol>\n",
    "        <li>Read the code implementation below, then run the two cells below this and  answer the question about what type of search the method is doing</li>\n",
    "        <li>Make a prediction about whether the code will complete or not. Be honest and write this down (with a reason) <b>before</b> you run the algorithm</li>\n",
    "        <li> Then run the code and see if your prediction was correct</li>  \n",
    "        <li> Then answer the two multiple choice questions after the depth-first code cell. <br>\n",
    "            You may need to alter the value of the variable maxIterations to satisfy yourself about the answers.</li>\n",
    "    </ol>\n",
    "</div>"
   ]
  },
  {
   "cell_type": "markdown",
   "metadata": {},
   "source": [
    "<h2> ive written a new multiple choice question you might want to check but again ust use the multiple choice nanswers </h2>"
   ]
  },
  {
   "cell_type": "code",
   "execution_count": null,
   "metadata": {},
   "outputs": [],
   "source": [
    "#run this cell to import libraries and utilities\n",
    "import workbook11_utils as wb11\n",
    "\n",
    "from workbook11_utils import candidateSolution, TranslateSolutionAsString, Evaluate, IsAtGoal\n",
    "import copy\n",
    "\n"
   ]
  },
  {
   "cell_type": "code",
   "execution_count": null,
   "metadata": {},
   "outputs": [],
   "source": [
    "#run this cell to display the first question\n",
    "display(wb11.Q0)"
   ]
  },
  {
   "cell_type": "code",
   "execution_count": null,
   "metadata": {},
   "outputs": [],
   "source": [
    "#run this cell to display the second question\n",
    "display(wb11.Q6)"
   ]
  },
  {
   "cell_type": "code",
   "execution_count": null,
   "metadata": {},
   "outputs": [],
   "source": [
    "## Common Initialisation\n",
    "\n",
    "from workbook11_utils import candidateSolution\n",
    "#Variables workingCandidate, openList, closedList \n",
    "workingCandidate = wb11.candidateSolution()\n",
    "openList = []\n",
    "closedList = []\n",
    "reason = \"\"\n",
    "## make initial guess,  test it, then start the openList ##\n",
    "## in this case we start with no moves, depth 0, \n",
    "## this does nothing so is not at goal but is feasible\n",
    "workingCandidate.quality=0\n",
    "atGoal = False\n",
    "openList.append(workingCandidate)\n",
    "\n",
    "\n",
    "##problem specific parts here###\n",
    "# there are 8 possible next moves: fox/chicken/grain/nothing in boat X  2 directionss\n",
    "possibleMoves = (0,1,2,3,4,5,6,7)\n",
    "#Evaluate method was imported above\n",
    "#IsatGoal was imported above\n",
    "\n",
    "##search parameters\n",
    "iteration=1\n",
    "maxIterations = 50\n",
    "\n",
    "\n",
    "\n",
    "while( atGoal==False and  len(openList)>0 and iteration<maxIterations): #WHILE ( Openlist not empty) DO\n",
    "    print(f\"Iteration {iteration} there are {len(openList)} candidates on the openList\")\n",
    "    iteration = iteration + 1\n",
    "    nextItem = len(openList) -1 #MOVE (last item from openList into working candidate)\n",
    "    workingCandidate = openList.pop(nextItem)\n",
    "    \n",
    "    for nextMove in possibleMoves:  #FOREACH (1-step neighbour)       \n",
    "        ## Generate ##\n",
    "        neighbour = copy.deepcopy(workingCandidate)     # need to make a deep copy so we can change it \n",
    "        neighbour.variableValues.append(nextMove)       #move operator extends current solution\n",
    "        \n",
    "        ## Test ## \n",
    "        reason = Evaluate(neighbour)\n",
    "        moveList =TranslateSolutionAsString(neighbour)\n",
    "        if(IsAtGoal(neighbour)):             #IF AT GOAL OUTPUT (SUCCESS, neighbour)\n",
    "            print(f'goal found with moves {moveList}')\n",
    "            atGoal=True\n",
    "            break ##takes us out of for loop\n",
    "            \n",
    "         ## update Working Memory ##\n",
    "        elif neighbour.quality==0: #ELSE IF (neighbor is feasible)\n",
    "            print(f'  **adding partial solution: {moveList}')\n",
    "            openList.append(neighbour) \n",
    "        else:\n",
    "            print(f'    discarding invalid solution: because {reason}')\n",
    "            closedList.append(neighbour)\n",
    " \n",
    "    ##COPY (working candidate to closedList)\n",
    "    closedList.append(workingCandidate)\n",
    "\n",
    "if(atGoal==False):##OUTPUT (FAILURE, workingCandidate)\n",
    "    print('failed to find solution to the problem in the time allowed!')"
   ]
  },
  {
   "cell_type": "code",
   "execution_count": null,
   "metadata": {},
   "outputs": [],
   "source": [
    "#run this cell to dispaly the next two questions\n",
    "display(wb11.Q1)\n",
    "display(wb11.Q2)"
   ]
  },
  {
   "cell_type": "markdown",
   "metadata": {},
   "source": [
    "<div class = \"alert alert-warning\" style=\"color:black\">\n",
    "    <h2>Activity 2: Restricting the Maximum Depth Search to try and make the algorithm work.</h2>\n",
    "    The code cell below reproduces the depth-first solution.<br>\n",
    "    Edit this code so that the maximum depth of the tree search is restricted to some value you can easily change.<br>\n",
    "    <ol>\n",
    "        <li> This function takes an unused parameter MAXLEN, <b>initially<b> enter a value of 4 (you can do this by setting the variable n = 4)</li>\n",
    "        <li> Edit line 49-50, inserting some indented  code (if...else) that changes behaviour depending on the length of the list in the candidateSolution that holds the variable Values ( i.e. on len(neighbour.variableValues) ) <br>\n",
    "            Make it so that lines which  print the \"adding partial solution\" message and append the nighbour to the openlist) only happen if that length is less than MAXLEN. <br>\n",
    "            Otherwise your code should print a message \"not adding a neighbour because max depth reached\" </li>\n",
    "    </ol>\n",
    "            Finally experiment to see what depth (<b>value for MAXLEN</b>)is needed - in other words, how long the sequence of moves has to be.<br>\n",
    "    Then answer the two multiple choice questions below.\n",
    "    \n",
    "</div>"
   ]
  },
  {
   "cell_type": "markdown",
   "metadata": {},
   "source": [
    "<h2> you should be able to call function with high correct and low MAXLEN's to check it  </h2>"
   ]
  },
  {
   "cell_type": "code",
   "execution_count": 11,
   "metadata": {},
   "outputs": [
    {
     "name": "stdout",
     "output_type": "stream",
     "text": [
      "Iteration 1 there are 1 candidates on the openList\n",
      "    discarding invalid solution: ->empty_0to1  because fox eats chicken\n",
      "    discarding invalid solution: ->Grain_0to1  because fox eats chicken\n",
      "  **adding partial solution: ->Chicken_0to1\n",
      "    discarding invalid solution: ->Fox_0to1  because chicken eats grain\n",
      "    discarding invalid solution: ->empty_1to0  because boat is in wrong place\n",
      "    discarding invalid solution: ->Grain_1to0  because boat and/or grain is in wrong place\n",
      "    discarding invalid solution: ->Chicken_1to0  because  boat and/or chicken is in wrong place\n",
      "    discarding invalid solution: ->Fox_1to0  because  boat and/or fox is in wrong place\n"
     ]
    },
    {
     "data": {
      "text/plain": [
       "'failed to find solution to the problem in the time allowed!'"
      ]
     },
     "execution_count": 11,
     "metadata": {},
     "output_type": "execute_result"
    }
   ],
   "source": [
    "## Common Initialisation\n",
    "\n",
    "#Variables workingCandidate, openList, closedList \n",
    "workingCandidate = wb11.candidateSolution()\n",
    "openList = []\n",
    "closedList = []\n",
    "reason = \"\"\n",
    "## make initial guess,  test it, then start the openList ##\n",
    "## in this case we start with no moves, depth 0, \n",
    "## this does nothing so is not at goal but is feasible\n",
    "workingCandidate.quality=0\n",
    "atGoal = False\n",
    "openList.append(workingCandidate)\n",
    "\n",
    "iteration=1\n",
    "maxIterations=100\n",
    "\n",
    "\n",
    "\n",
    "##problem specific parts here###\n",
    "# there are 8 possible next moves: fox/chicken/grain/nothing in boat X  2 directionss\n",
    "possibleMoves = (0,1,2,3,4,5,6,7)\n",
    "#Evaluate method was imported above\n",
    "#IsatGoal was imported above\n",
    "\n",
    "def mainloop(MAXLEN:int)->str:\n",
    "    workingCandidate = wb11.candidateSolution()\n",
    "    openList = []\n",
    "    closedList = []\n",
    "    reason = \"\"\n",
    "    ## make initial guess,  test it, then start the openList ##\n",
    "    ## in this case we start with no moves, depth 0, \n",
    "    ## this does nothing so is not at goal but is feasible\n",
    "    workingCandidate.quality=0\n",
    "    atGoal = False\n",
    "    openList.append(workingCandidate)\n",
    "\n",
    "    iteration=1\n",
    "    maxIterations=100\n",
    "    while( atGoal==False and  len(openList)>0 and iteration<maxIterations): #WHILE ( Openlist not empty) DO\n",
    "        print(f\"Iteration {iteration} there are {len(openList)} candidates on the openList\")\n",
    "        iteration = iteration + 1\n",
    "        nextItem = len(openList) -1 #MOVE (last item from openList into working candidate)\n",
    "        workingCandidate = openList.pop(nextItem)\n",
    "\n",
    "        for nextMove in possibleMoves:  #FOREACH (1-step neighbour)-constructive        \n",
    "            ## Generate ##\n",
    "            neighbour = copy.deepcopy(workingCandidate)         ## need to make a deep copy so we can change it \n",
    "            neighbour.variableValues.append(nextMove)       #neighbour = ApplyMoveOperator(workingCandidate)\n",
    "            \n",
    "            ## Test ## \n",
    "            reason = Evaluate(neighbour)\n",
    "            moveList =TranslateSolutionAsString(neighbour)\n",
    "            if(IsAtGoal(neighbour)):             #IF AT GOAL OUTPUT (SUCCESS, neighbour)\n",
    "                return(f'goal found with moves {moveList}')\n",
    "                atGoal=True\n",
    "                break ##takes us out of for loop\n",
    "                \n",
    "                ## update Working Memory ##\n",
    "            elif neighbour.quality==0: #ELSE IF (neighbor is feasible)\n",
    "                print(f'  **adding partial solution: {moveList}')\n",
    "                openList.append(neighbour)\n",
    "            else:\n",
    "                print(f'    discarding invalid solution: {moveList}  because {reason}')\n",
    "                closedList.append(neighbour)\n",
    "\n",
    "        ##COPY (working candidate to closedList)\n",
    "        closedList.append(workingCandidate)\n",
    "\n",
    "        if(atGoal==False):##OUTPUT (FAILURE, workingCandidate)\n",
    "            return ('failed to find solution to the problem in the time allowed!')\n",
    "n =7\n",
    "mainloop(n)"
   ]
  },
  {
   "cell_type": "code",
   "execution_count": 8,
   "metadata": {},
   "outputs": [
    {
     "data": {
      "application/vnd.jupyter.widget-view+json": {
       "model_id": "34eacf07165c413db81504c5c97a0013",
       "version_major": 2,
       "version_minor": 0
      },
      "text/plain": [
       "VBox(children=(Output(outputs=({'name': 'stdout', 'text': 'What is the minimum depth needed to solve the fox-c…"
      ]
     },
     "metadata": {},
     "output_type": "display_data"
    },
    {
     "data": {
      "application/vnd.jupyter.widget-view+json": {
       "model_id": "0307dba2309343779a2cb8677fefd4db",
       "version_major": 2,
       "version_minor": 0
      },
      "text/plain": [
       "VBox(children=(Output(outputs=({'name': 'stdout', 'text': 'Will imposing a maximum depth on the solution  make…"
      ]
     },
     "metadata": {},
     "output_type": "display_data"
    }
   ],
   "source": [
    "display(wb11.Q3)\n",
    "display(wb11.Q4)"
   ]
  },
  {
   "cell_type": "markdown",
   "metadata": {},
   "source": [
    "<div class=\"alert alert-warning\" style=\"color:black\">\n",
    "    <h2>Activity 3 Convert the depth-first search to breadth-first</h2>\n",
    "    The code cell below has a copy of the original depth-first search code.<br>\n",
    "    <ul>\n",
    "        <li>Edit this to make it implement Breadth-First search.</li>\n",
    "        <li><b> This should involve changing only one line of code</b></li>\n",
    "        <li> Then run your code and answer the question below</li>\n",
    "        </ol>\n",
    "    </div>\n",
    "    \n",
    "    "
   ]
  },
  {
   "cell_type": "code",
   "execution_count": null,
   "metadata": {},
   "outputs": [],
   "source": [
    "## Common Initialisation\n",
    "\n",
    "#Variables workingCandidate, openList, closedList \n",
    "workingCandidate = wb11.candidateSolution()\n",
    "openList = []\n",
    "closedList = []\n",
    "reason = \"\"\n",
    "## make initial guess,  test it, then start the openList ##\n",
    "## in this case we start with no moves, depth 0, \n",
    "## this does nothing so is not at goal but is feasible\n",
    "workingCandidate.quality=0\n",
    "atGoal = False\n",
    "openList.append(workingCandidate)\n",
    "\n",
    "iteration=1\n",
    "maxIterations = 100\n",
    "\n",
    "\n",
    "##problem specific parts here###\n",
    "# there are 8 possible next moves: fox/chicken/grain/nothing in boat X  2 directionss\n",
    "possibleMoves = (0,1,2,3,4,5,6,7)\n",
    "#Evaluate method was imported above\n",
    "#IsatGoal was imported above\n",
    "\n",
    "while( atGoal==False and  len(openList)>0 and iteration<maxIterations): #WHILE ( Openlist not empty) DO\n",
    "    print(f\"Iteration {iteration} there are {len(openList)} candidates on the openList\")\n",
    "    iteration = iteration + 1\n",
    "    nextItem = len(openList) -1 #MOVE (last item from openList into working candidate)\n",
    "    workingCandidate = openList.pop(nextItem)\n",
    "    \n",
    "    for nextMove in possibleMoves:  #FOREACH (1-step neighbour)       \n",
    "        ## Generate ##\n",
    "        neighbour = copy.deepcopy(workingCandidate)         ## need to make a deep copy so we can change it \n",
    "        neighbour.variableValues.append(nextMove)       #neighbour = ApplyMoveOperator(workingCandidate)\n",
    "        \n",
    "        ## Test ## \n",
    "        reason = Evaluate(neighbour)\n",
    "        moveList =TranslateSolutionAsString(neighbour)\n",
    "        if(IsAtGoal(neighbour)):             #IF AT GOAL OUTPUT (SUCCESS, neighbour)\n",
    "            print(f'goal found with moves {moveList}')\n",
    "            atGoal=True\n",
    "            break ##takes us out of for loop\n",
    "            \n",
    "         ## update Working Memory ##\n",
    "        elif neighbour.quality==0: #ELSE IF (neighbor is feasible)\n",
    "            print(f'  **adding partial solution: {moveList}')\n",
    "            openList.append(neighbour) \n",
    "        else:\n",
    "            print(f'    discarding invalid solution: {moveList} because {reason}')\n",
    "            closedList.append(neighbour)\n",
    " \n",
    "    ##COPY (working candidate to closedList)\n",
    "    closedList.append(workingCandidate)\n",
    "\n",
    "if(atGoal==False):##OUTPUT (FAILURE, workingCandidate)\n",
    "    print('failed to find solution to the problem in the time allowed!')"
   ]
  },
  {
   "cell_type": "code",
   "execution_count": 9,
   "metadata": {},
   "outputs": [
    {
     "data": {
      "application/vnd.jupyter.widget-view+json": {
       "model_id": "1e1619f7e6134dafa94b8bfffb360697",
       "version_major": 2,
       "version_minor": 0
      },
      "text/plain": [
       "VBox(children=(Output(outputs=({'name': 'stdout', 'text': 'Does the depth of the solution found by breadth-fir…"
      ]
     },
     "metadata": {},
     "output_type": "display_data"
    }
   ],
   "source": [
    "#run this cell to display a question\n",
    "display(wb11.Q5)"
   ]
  },
  {
   "cell_type": "markdown",
   "metadata": {},
   "source": [
    "<div class=\"alert alert-warning\" style=\"color:black\">\n",
    "<h2>Activity 4: IN CLASS TEST</h2>\n",
    "    \n",
    "</div>"
   ]
  },
  {
   "cell_type": "markdown",
   "metadata": {},
   "source": [
    "<div class=\"alert alert-warning\" style=\"color:black\">\n",
    "<h2>Activity 5 (stretch): Investigate the time and space (memory) requirements of your two methods</h2>\n",
    "    You should now have working versions of both breadth-first and (restricted) depth-first search. \n",
    "    <ol>\n",
    "        <li> Edit your code to report the total number of solutions examined. <br>\n",
    "            You could just add a counter that you increment after every time you call the evaluate function <br>\n",
    "        and then print out the value of the counter at the end.</li>\n",
    "        <li> Edit your code to create a variable called maxOpenListSize, then  check the length of the openlist at every iteration, and report its maximum size.  </li>\n",
    "    </ol>\n",
    "    How do the number of solutions examined and the maximum size of the openlist compare between depth-first and breadth-first search?\n",
    "    </div>"
   ]
  },
  {
   "cell_type": "code",
   "execution_count": 14,
   "metadata": {},
   "outputs": [
    {
     "data": {
      "application/vnd.jupyter.widget-view+json": {
       "model_id": "9dac3d5a4b2948b9bd3aa4545ad4fa16",
       "version_major": 2,
       "version_minor": 0
      },
      "text/plain": [
       "VBox(children=(Output(outputs=({'name': 'stdout', 'text': 'Are thwre more examined solutions for breadth or de…"
      ]
     },
     "metadata": {},
     "output_type": "display_data"
    },
    {
     "data": {
      "application/vnd.jupyter.widget-view+json": {
       "model_id": "7f7af4cde6454cd1a8fcabeb418eaca7",
       "version_major": 2,
       "version_minor": 0
      },
      "text/plain": [
       "VBox(children=(Output(outputs=({'name': 'stdout', 'text': 'At any point does breadth or depth have a bigger op…"
      ]
     },
     "metadata": {},
     "output_type": "display_data"
    }
   ],
   "source": [
    "display(wb11.Q7)\n",
    "display(wb11.Q8)\n",
    "# run this when you've got the answer"
   ]
  },
  {
   "cell_type": "markdown",
   "metadata": {},
   "source": [
    "<div class=\"alert alert-warning\" style=\"color:black\">\n",
    "<h2>Activity 6 (stretch): change the algorithms above to work in a perturbative fashion with a fixed length of 7 moves</h2>\n",
    "    This should just involve:\n",
    "    <ol>\n",
    "        <li> Changing the initialidation code to some sequence of seven moves. <br>\n",
    "            e.g. add the line workingCandidate.variableValues = [0,0,0,0,0,0,0] </li>\n",
    "        <li> instead of one loop that appending 8 moves in turn  to neighbour.variableValues, you will need two loops: one through all the 7 positinos, another through all 8 changes for that position.   </li>\n",
    "    </ol>\n",
    "    How do the number of solutions examined and the maximum size of the openlist change?\n",
    "    </div>"
   ]
  },
  {
   "cell_type": "markdown",
   "metadata": {},
   "source": [
    "<h2> ^ for the two above ive added some multiple choice questions but the only proper way to mark would be to evaluate the code which i dont know if i could doi and deinetly couldnt think of all the needed contigencies e.g. did they reove spaces or change variable names or something"
   ]
  },
  {
   "cell_type": "markdown",
   "metadata": {},
   "source": [
    "<div class=\"alert alert-block alert-danger\"> Please save your work (click the save icon) then shutdown the notebook when you have finished with this tutorial (menu->file->close and shutdown notebook</div>\n",
    "\n",
    "<div class=\"alert alert-block alert-danger\"> Remember to download and save your work if you are not running this notebook locally.</div>"
   ]
  }
 ],
 "metadata": {
  "kernelspec": {
   "display_name": "Python 3 (ipykernel)",
   "language": "python",
   "name": "python3"
  },
  "language_info": {
   "codemirror_mode": {
    "name": "ipython",
    "version": 3
   },
   "file_extension": ".py",
   "mimetype": "text/x-python",
   "name": "python",
   "nbconvert_exporter": "python",
   "pygments_lexer": "ipython3",
   "version": "3.10.5"
  }
 },
 "nbformat": 4,
 "nbformat_minor": 4
}
