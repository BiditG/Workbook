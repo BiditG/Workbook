{
 "cells": [
  {
   "cell_type": "markdown",
   "metadata": {},
   "source": [
    "# AIML Portfolio Self-check\n",
    "\n",
    "## TO USE THIS NOTEBOOK RUN EACH CELL ONE BY ONE\n",
    "### If you get errors (red boxes appear) fix them before you move on.\n",
    "\n",
    "<div class=\"alert alert-block alert-danger\"> <b>REMEMBER:</b> You need to make sure you are running this code within the virtual environment you created using 'AIenv'.<br> In Jupyter click on the kernel menu then change-kernel. In VSCode use the kernel selector in the top-right hand corner </div>"
   ]
  },
  {
   "cell_type": "markdown",
   "metadata": {},
   "source": [
    "### 1: Develop your aiml code in the next cell\n",
    "### and run the cell to write it to file"
   ]
  },
  {
   "cell_type": "code",
   "execution_count": null,
   "metadata": {
    "tags": []
   },
   "outputs": [
    {
     "name": "stdout",
     "output_type": "stream",
     "text": [
      "Overwriting student.aiml\n"
     ]
    }
   ],
   "source": [
    "%%writefile \"student.aiml\"\n",
    "<aiml>\n",
    "\n",
    "  <!-- Unified definition handler -->\n",
    "  <category>\n",
    "    <pattern>WHAT IS *</pattern>\n",
    "    <template>\n",
    "      <condition>\n",
    "        <li value=\"LONG TERM KNOWLEDGE\">Long-term knowledge is valid over a period of time.</li>\n",
    "        <li value=\"SHORT TERM KNOWLEDGE\">Short-term knowledge is only valid for a particular situation or run of a programme.</li>\n",
    "        <li value=\"GENERIC KNOWLEDGE\">Generic knowledge is relevant to more than one application or domain.</li>\n",
    "        <li value=\"DOMAIN SPECIFIC KNOWLEDGE\">Domain-specific knowledge is only applicable to one specific application or domain.</li>\n",
    "        <li value=\"A FACT\">A fact is a statement which asserts that a relationship holds for an object-subject pair.</li>\n",
    "        <li value=\"A RULE\">A rule is a statement that generates new knowledge by asserting that if one fact is true, then another is also true.</li>\n",
    "        <li value=\"THE WAY THAT AIML ALLOWS VARIABLES IN ITS LONG TERM KNOWLEDGE\">AIML has wildcards and srai for that purpose.</li>\n",
    "        <li value=\"THE WAY AIML SUPPORTS CONTEXT DURING A CONVERSATION\">AIML supports context through the use of the that tag to refer to previous bot answers, and via setting variables such as topic.</li>\n",
    "      </condition>\n",
    "    </template>\n",
    "  </category>\n",
    "\n",
    "  <!-- Synonym redirects -->\n",
    "  <category>\n",
    "    <pattern>GIVE ME A DEFINITION OF *</pattern>\n",
    "    <template><srai>WHAT IS <star/></srai></template>\n",
    "  </category>\n",
    "  <category>\n",
    "    <pattern>PLEASE GIVE ME A DEFINITION OF *</pattern>\n",
    "    <template><srai>WHAT IS <star/></srai></template>\n",
    "  </category>\n",
    "  <category>\n",
    "    <pattern>TELL ME ABOUT *</pattern>\n",
    "    <template><srai>WHAT IS <star/></srai></template>\n",
    "  </category>\n",
    "  <category>\n",
    "    <pattern>WHAT IS * MYBOT</pattern>\n",
    "    <template><srai>WHAT IS <star/></srai></template>\n",
    "  </category>\n",
    "  <category>\n",
    "    <pattern>PLEASE MYBOT WHAT IS *</pattern>\n",
    "    <template><srai>WHAT IS <star/></srai></template>\n",
    "  </category>\n",
    "  <category>\n",
    "    <pattern>MYBOT PLEASE GIVE ME A DEFINITION OF *</pattern>\n",
    "    <template><srai>WHAT IS <star/></srai></template>\n",
    "  </category>\n",
    "\n",
    "  <!-- Unified example handler -->\n",
    "  <category>\n",
    "    <pattern>GIVE ME AN EXAMPLE OF *</pattern>\n",
    "    <template><srai>EXAMPLE OF <star/></srai></template>\n",
    "  </category>\n",
    "  <category>\n",
    "    <pattern>PLEASE GIVE ME AN EXAMPLE OF *</pattern>\n",
    "    <template><srai>EXAMPLE OF <star/></srai></template>\n",
    "  </category>\n",
    "  <category>\n",
    "    <pattern>PROVIDE AN EXAMPLE OF *</pattern>\n",
    "    <template><srai>EXAMPLE OF <star/></srai></template>\n",
    "  </category>\n",
    "  <category>\n",
    "    <pattern>PLEASE PROVIDE AN EXAMPLE OF *</pattern>\n",
    "    <template><srai>EXAMPLE OF <star/></srai></template>\n",
    "  </category>\n",
    "  <category>\n",
    "    <pattern>ILLUSTRATE THE CONCEPT OF *</pattern>\n",
    "    <template><srai>EXAMPLE OF <star/></srai></template>\n",
    "  </category>\n",
    "\n",
    "  <category>\n",
    "    <pattern>EXAMPLE OF LONG TERM GENERIC KNOWLEDGE</pattern>\n",
    "    <template>Generative AI frequently hallucinates and produces incorrect results.</template>\n",
    "  </category>\n",
    "  <category>\n",
    "    <pattern>EXAMPLE OF LONG TERM DOMAIN SPECIFIC KNOWLEDGE</pattern>\n",
    "    <template>The formal specification of a particular machine learning algorithm.</template>\n",
    "  </category>\n",
    "  <category>\n",
    "    <pattern>EXAMPLE OF SHORT TERM GENERIC KNOWLEDGE</pattern>\n",
    "    <template>The date today is an example as it may be useful in different contexts but only lasts 24 hours.</template>\n",
    "  </category>\n",
    "  <category>\n",
    "    <pattern>EXAMPLE OF SHORT TERM DOMAIN SPECIFIC KNOWLEDGE</pattern>\n",
    "    <template>The deadline for the submission of this portfolio.</template>\n",
    "  </category>\n",
    "  <category>\n",
    "    <pattern>EXAMPLE OF A RULE</pattern>\n",
    "    <template>If submitsOthersWork(X) then commitsAssessmentOffence(X).</template>\n",
    "  </category>\n",
    "  <category>\n",
    "    <pattern>EXAMPLE OF A FACT</pattern>\n",
    "    <template>Submissions for this module are run through automatic and effective plagiarism checks.</template>\n",
    "  </category>\n",
    "\n",
    "  <!-- Contextual answers using <that> -->\n",
    "  <category>\n",
    "    <pattern>WHY IS KNOWING THAT USEFUL</pattern>\n",
    "    <that>Submissions for this module are run through automatic and effective plagiarism checks.</that>\n",
    "    <template>To remind you that we take assessment offences very seriously.</template>\n",
    "  </category>\n",
    "  <category>\n",
    "    <pattern>WHY IS KNOWING THAT USEFUL</pattern>\n",
    "    <that>AIML has wildcards and srai for that purpose.</that>\n",
    "    <template>Because it allows us to make statements that apply to classes of things or questions.</template>\n",
    "  </category>\n",
    "  <category>\n",
    "    <pattern>WHY IS KNOWING THAT USEFUL</pattern>\n",
    "    <that>AIML supports context through the use of the that tag to refer to previous bot answers, and via setting variables such as topic.</that>\n",
    "    <template>Because some words like that and it can only be understood in the context of previous sentences.</template>\n",
    "  </category>\n",
    "\n",
    "  <!-- Fallback -->\n",
    "  <category>\n",
    "    <pattern>*</pattern>\n",
    "    <template>I have no answer for that.</template>\n",
    "  </category>\n",
    "\n",
    "</aiml>\n",
    "\n"
   ]
  },
  {
   "cell_type": "markdown",
   "metadata": {},
   "source": [
    "### 2: Run the next code cell to:\n",
    "- do some imports\n",
    "- create a marker object\n",
    "- load the 45 questions-response pairs"
   ]
  },
  {
   "cell_type": "code",
   "execution_count": 17,
   "metadata": {
    "tags": []
   },
   "outputs": [
    {
     "name": "stdout",
     "output_type": "stream",
     "text": [
      "\n"
     ]
    }
   ],
   "source": [
    "from aimlmarker import AIMLMarker\n",
    "\n",
    "my_marker = AIMLMarker()\n",
    "\n",
    "my_marker.load_questions()"
   ]
  },
  {
   "cell_type": "markdown",
   "metadata": {
    "tags": []
   },
   "source": [
    "### 3:Provided that runs ok, run the next cell to load and test your aiml"
   ]
  },
  {
   "cell_type": "code",
   "execution_count": 19,
   "metadata": {
    "tags": []
   },
   "outputs": [
    {
     "name": "stdout",
     "output_type": "stream",
     "text": [
      "Loading student.aiml...done (0.00 seconds)\n",
      "Score is 0\n",
      "Feedback is:\n",
      "45 question-response pairs read for testing your bot.\n",
      "AIML file student.aiml passes basic xml syntax checks.\n",
      "Passed aiml-specific syntax check.\n",
      "After reading your file the bot has 9 categories.\n",
      "Your bot answered 45 questions incorrectly.\n",
      "File student-responses.txt has more details of your bots responses.\n",
      "Common mistakes are typos or extra spaces.\n",
      "For 29 questions your bot did not have a matching category.\n",
      "Your bot answered incorrectly for 3 questions that require a sense of context.\n",
      "To answer these you will need to use <that> tag pairs in your categories, or to access the value held in the bot's <that/> variable (predicate).\n",
      "AIML file student.aiml passes basic xml syntax checks.\n",
      "Passed aiml-specific syntax check.\n",
      "After reading your file the bot has 9 categories.\n",
      "Your bot answered 45 questions incorrectly.\n",
      "File student-responses.txt has more details of your bots responses.\n",
      "Common mistakes are typos or extra spaces.\n",
      "For 29 questions your bot did not have a matching category.\n",
      "Your bot answered incorrectly for 3 questions that require a sense of context.\n",
      "To answer these you will need to use <that> tag pairs in your categories, or to access the value held in the bot's <that/> variable (predicate).\n",
      "\n"
     ]
    }
   ],
   "source": [
    "my_marker.test_aiml()\n",
    "print(f\"Score is {my_marker.score}\")\n",
    "feedback = my_marker.feedback_str.replace(\"&lt;\", \"<\").replace(\"&gt;\", \">\")\n",
    "\n",
    "print(f\"Feedback is:\\n{feedback}\")"
   ]
  },
  {
   "cell_type": "markdown",
   "metadata": {},
   "source": [
    "### 4: Repeat step3 until there are no errors. \n",
    "### Then you can run the next cell to see what your bot responded for each question"
   ]
  },
  {
   "cell_type": "code",
   "execution_count": 4,
   "metadata": {
    "tags": []
   },
   "outputs": [
    {
     "name": "stderr",
     "output_type": "stream",
     "text": [
      "'cat' is not recognized as an internal or external command,\n",
      "operable program or batch file.\n"
     ]
    }
   ],
   "source": [
    "!cat \"student-responses.txt\""
   ]
  }
 ],
 "metadata": {
  "kernelspec": {
   "display_name": "Python 3",
   "language": "python",
   "name": "python3"
  },
  "language_info": {
   "codemirror_mode": {
    "name": "ipython",
    "version": 3
   },
   "file_extension": ".py",
   "mimetype": "text/x-python",
   "name": "python",
   "nbconvert_exporter": "python",
   "pygments_lexer": "ipython3",
   "version": "3.13.1"
  }
 },
 "nbformat": 4,
 "nbformat_minor": 4
}
