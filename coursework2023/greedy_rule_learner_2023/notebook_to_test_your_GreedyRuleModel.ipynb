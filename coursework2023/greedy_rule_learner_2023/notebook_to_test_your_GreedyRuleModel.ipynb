{
 "cells": [
  {
   "cell_type": "markdown",
   "metadata": {},
   "source": [
    "# import classes from modules\n",
    "Start by doing a reload \n",
    " - so you can just rerun this cell every time you edit your code\n",
    " - rather than restarting the kernel"
   ]
  },
  {
   "cell_type": "code",
   "execution_count": null,
   "metadata": {},
   "outputs": [],
   "source": [
    "import numpy as np\n",
    "from learned_rule_model import LearnedRuleModel\n",
    "import importlib \n",
    "import greedy_rule_induction_model \n",
    "importlib.reload(greedy_rule_induction_model)\n",
    "from greedy_rule_induction_model import GreedyRuleInductionModel"
   ]
  },
  {
   "cell_type": "markdown",
   "metadata": {},
   "source": [
    "## load the iris data and split it into train/test\n",
    "### This is just for development, your code will not be tested on the iris data"
   ]
  },
  {
   "cell_type": "code",
   "execution_count": null,
   "metadata": {},
   "outputs": [],
   "source": [
    "from  sklearn.model_selection import train_test_split\n",
    "from sklearn.metrics import ConfusionMatrixDisplay\n",
    "\n",
    "#the iris data\n",
    "from sklearn.datasets import load_iris\n",
    "irisX,irisy = load_iris(return_X_y = True)\n",
    "iris_train_X, iris_test_X, iris_train_y, iris_test_y = train_test_split(irisX,irisy, test_size=0.33, stratify=irisy )\n",
    "\n",
    "iris_labels=['Setosa','Versicolor','Virginica']"
   ]
  },
  {
   "cell_type": "markdown",
   "metadata": {},
   "source": [
    "# now create an object of my class, fit it to the training data, then test it on that data"
   ]
  },
  {
   "cell_type": "code",
   "execution_count": null,
   "metadata": {},
   "outputs": [],
   "source": [
    "myClassifier = GreedyRuleInductionModel(max_rules=5)\n",
    "myClassifier.fit(iris_train_X,iris_train_y)"
   ]
  },
  {
   "cell_type": "code",
   "execution_count": null,
   "metadata": {},
   "outputs": [],
   "source": [
    "train_predictions= myClassifier.predict(iris_train_X)\n",
    "print(f\"The model's predictions were:\\n {train_predictions}.\\n\")\n",
    "accuracy = 100* (train_predictions==iris_train_y).sum() / len(iris_train_y)\n",
    "\n",
    "print(f'Accuracy on training set is {accuracy}%.\\n')\n",
    "_=ConfusionMatrixDisplay.from_predictions(iris_train_y,train_predictions)"
   ]
  },
  {
   "cell_type": "markdown",
   "metadata": {},
   "source": [
    "## What's in our model?\n",
    "### first the learned rule set"
   ]
  },
  {
   "cell_type": "code",
   "execution_count": null,
   "metadata": {},
   "outputs": [],
   "source": [
    "print(myClassifier.get_rule_set())\n",
    "\n",
    "myClassifier.print_rule_set()"
   ]
  },
  {
   "cell_type": "markdown",
   "metadata": {},
   "source": [
    "### and here's all the model contents in case it is useful"
   ]
  },
  {
   "cell_type": "code",
   "execution_count": null,
   "metadata": {},
   "outputs": [],
   "source": [
    "\n",
    "for key,val in myClassifier.__dict__.items():\n",
    "        print(f' {key} : {val}')\n",
    "    \n",
    "    "
   ]
  },
  {
   "cell_type": "markdown",
   "metadata": {},
   "source": [
    "## Now let's see how good it is on unseen data"
   ]
  },
  {
   "cell_type": "code",
   "execution_count": null,
   "metadata": {},
   "outputs": [],
   "source": [
    "test_predictions = myClassifier.predict(iris_test_X)"
   ]
  },
  {
   "cell_type": "markdown",
   "metadata": {},
   "source": [
    "### lets look at what it predicted:\n",
    "- 'raw' labels\n",
    "- accuracy\n",
    "- confusion matrix"
   ]
  },
  {
   "cell_type": "code",
   "execution_count": null,
   "metadata": {},
   "outputs": [],
   "source": [
    "print(f' the labels predicted were:\\n {test_predictions}')\n",
    "\n",
    "accuracy= 100* (test_predictions==iris_test_y).sum()/ len(test_predictions)\n",
    "\n",
    "print (f' Test accuracy is {accuracy}')\n",
    "\n",
    "_=ConfusionMatrixDisplay.from_predictions(iris_test_y,test_predictions)"
   ]
  },
  {
   "cell_type": "code",
   "execution_count": null,
   "metadata": {},
   "outputs": [],
   "source": []
  }
 ],
 "metadata": {
  "kernelspec": {
   "display_name": "py10",
   "language": "python",
   "name": "py10"
  },
  "language_info": {
   "codemirror_mode": {
    "name": "ipython",
    "version": 3
   },
   "file_extension": ".py",
   "mimetype": "text/x-python",
   "name": "python",
   "nbconvert_exporter": "python",
   "pygments_lexer": "ipython3",
   "version": "3.10.6"
  }
 },
 "nbformat": 4,
 "nbformat_minor": 4
}
