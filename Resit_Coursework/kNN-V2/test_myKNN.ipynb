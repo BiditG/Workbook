{
 "cells": [
  {
   "cell_type": "markdown",
   "id": "4b85a384",
   "metadata": {},
   "source": [
    "# Simple notebook to help you test your implementation of kNN\n",
    "\n",
    "## Remember to restart the notebook and rerun every cell if you change myKNN.py on file\n",
    "\n",
    "\n",
    "\n",
    "## standard imports"
   ]
  },
  {
   "cell_type": "code",
   "execution_count": null,
   "id": "c64557e3",
   "metadata": {},
   "outputs": [],
   "source": [
    "from sklearn.model_selection import train_test_split\n",
    "from sklearn.datasets import load_iris\n",
    "import numpy as np"
   ]
  },
  {
   "cell_type": "markdown",
   "id": "2850517e",
   "metadata": {},
   "source": [
    "## import your function - assuming it is in a file called myKNN.py "
   ]
  },
  {
   "cell_type": "code",
   "execution_count": null,
   "id": "c46c0e33",
   "metadata": {},
   "outputs": [],
   "source": [
    "from myKNN import simple_KNN"
   ]
  },
  {
   "cell_type": "markdown",
   "id": "3676f5c4",
   "metadata": {},
   "source": [
    "## use the iris data becuas it is easy to test your function on"
   ]
  },
  {
   "cell_type": "code",
   "execution_count": null,
   "id": "5e147abf",
   "metadata": {},
   "outputs": [],
   "source": [
    "irisX,irisy = load_iris(return_X_y = True)\n",
    "X_train, X_test, y_train, y_test = train_test_split(irisX, irisy, test_size=0.33,stratify=irisy)"
   ]
  },
  {
   "cell_type": "markdown",
   "id": "f608eefe",
   "metadata": {},
   "source": [
    "## make an instance of your implementation of kNN model clasas your model's "
   ]
  },
  {
   "cell_type": "code",
   "execution_count": null,
   "id": "3582829e",
   "metadata": {},
   "outputs": [],
   "source": [
    "myKNNmodel = simple_KNN(K=3)"
   ]
  },
  {
   "cell_type": "markdown",
   "id": "a43842ee",
   "metadata": {},
   "source": [
    "# now try its fit() and predict() methods"
   ]
  },
  {
   "cell_type": "code",
   "execution_count": null,
   "id": "29bef51b",
   "metadata": {},
   "outputs": [],
   "source": [
    "myKNNmodel.fit(X_train,y_train)\n",
    "y_pred = myKNNmodel.predict(X_test)\n",
    "\n",
    "\n",
    "\n",
    "#print the predictions on the test data\n",
    "print(y_pred.T) #.t turns column to row so it shows onscreen better "
   ]
  },
  {
   "cell_type": "code",
   "execution_count": null,
   "id": "fb11c178",
   "metadata": {},
   "outputs": [],
   "source": []
  }
 ],
 "metadata": {
  "kernelspec": {
   "display_name": "Python 3 (ipykernel)",
   "language": "python",
   "name": "python3"
  },
  "language_info": {
   "codemirror_mode": {
    "name": "ipython",
    "version": 3
   },
   "file_extension": ".py",
   "mimetype": "text/x-python",
   "name": "python",
   "nbconvert_exporter": "python",
   "pygments_lexer": "ipython3",
   "version": "3.9.13"
  }
 },
 "nbformat": 4,
 "nbformat_minor": 5
}
