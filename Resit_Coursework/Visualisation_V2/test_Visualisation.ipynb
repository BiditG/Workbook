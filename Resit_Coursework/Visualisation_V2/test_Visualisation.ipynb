{
 "cells": [
  {
   "cell_type": "markdown",
   "id": "4b85a384",
   "metadata": {},
   "source": [
    "# Simple notebook to help you test your visualisation implementation\n",
    "\n",
    " ### Your code should load a file,  run kmeans and produce a visualisation of DATASET\n",
    " \n",
    " ### the second code cell assumes your file is called myVisualisation.py\n",
    "\n",
    "\n",
    "## Remember to restart the notebook and rerun every cell if you change myVisualisation.py on file\n",
    "\n",
    "\n",
    "\n",
    "## standard imports"
   ]
  },
  {
   "cell_type": "code",
   "execution_count": null,
   "id": "c64557e3",
   "metadata": {},
   "outputs": [],
   "source": [
    "import math\n",
    "import numpy as np"
   ]
  },
  {
   "cell_type": "markdown",
   "id": "2850517e",
   "metadata": {},
   "source": [
    "## import your function - assuming it is in a file called myKNN.py "
   ]
  },
  {
   "cell_type": "code",
   "execution_count": null,
   "id": "c46c0e33",
   "metadata": {},
   "outputs": [],
   "source": [
    "from myVisualisation import cluster_and_visualise"
   ]
  },
  {
   "cell_type": "code",
   "execution_count": null,
   "id": "3582829e",
   "metadata": {},
   "outputs": [],
   "source": [
    "featurenames=(\"a\",\"b\",\"c\",\"d\",\"e\",\"f\")"
   ]
  },
  {
   "cell_type": "code",
   "execution_count": null,
   "id": "5e147abf",
   "metadata": {},
   "outputs": [],
   "source": [
    "cluster_and_visualise(\"visdata.csv\",2,featurenames)"
   ]
  },
  {
   "cell_type": "code",
   "execution_count": null,
   "id": "7477b353",
   "metadata": {},
   "outputs": [],
   "source": []
  }
 ],
 "metadata": {
  "kernelspec": {
   "display_name": "Python 3 (ipykernel)",
   "language": "python",
   "name": "python3"
  },
  "language_info": {
   "codemirror_mode": {
    "name": "ipython",
    "version": 3
   },
   "file_extension": ".py",
   "mimetype": "text/x-python",
   "name": "python",
   "nbconvert_exporter": "python",
   "pygments_lexer": "ipython3",
   "version": "3.9.13"
  }
 },
 "nbformat": 4,
 "nbformat_minor": 5
}
